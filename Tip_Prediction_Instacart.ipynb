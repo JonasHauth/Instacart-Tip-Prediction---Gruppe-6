{
 "cells": [
  {
   "cell_type": "code",
   "execution_count": 71,
   "metadata": {},
   "outputs": [],
   "source": [
    "import numpy as np\n",
    "import matplotlib.pyplot as plt\n",
    "import seaborn as sns\n",
    "import pandas as pd\n",
    "import os\n",
    "\n",
    "# Modeling\n",
    "from sklearn.model_selection import train_test_split\n",
    "from sklearn.model_selection import cross_val_score\n",
    "\n",
    "from sklearn.dummy import DummyClassifier\n",
    "from sklearn.ensemble import RandomForestClassifier\n",
    "from sklearn.tree import DecisionTreeClassifier\n",
    "from sklearn.linear_model import Perceptron\n",
    "from sklearn.neural_network import MLPClassifier\n",
    "from sklearn.neighbors import KNeighborsClassifier\n",
    "from sklearn.svm import SVC\n",
    "import xgboost as xgb\n",
    "\n",
    "\n",
    "# Evaluation\n"
   ]
  },
  {
   "cell_type": "markdown",
   "metadata": {},
   "source": [
    "# Data"
   ]
  },
  {
   "cell_type": "code",
   "execution_count": 72,
   "metadata": {},
   "outputs": [
    {
     "name": "stderr",
     "output_type": "stream",
     "text": [
      "c:\\Users\\Anne\\anaconda3\\lib\\site-packages\\numpy\\lib\\arraysetops.py:583: FutureWarning: elementwise comparison failed; returning scalar instead, but in the future will perform elementwise comparison\n",
      "  mask |= (ar1 == a)\n"
     ]
    }
   ],
   "source": [
    "op = pd.read_csv('order_products__train.csv')\n",
    "opp = pd.read_csv('order_products__prior.csv')\n",
    "aisles = pd.read_csv('aisles.csv')\n",
    "departments = pd.read_csv('departments.csv')\n",
    "orders = pd.read_csv('orders.csv')\n",
    "products = pd.read_csv('products.csv')\n",
    "tips_tr = pd.read_csv('tip_trainingsdaten.csv', index_col=0)\n",
    "tips_te = pd.read_csv('tip_testdaten.csv', index_col=0)"
   ]
  },
  {
   "cell_type": "code",
   "execution_count": 73,
   "metadata": {},
   "outputs": [
    {
     "name": "stdout",
     "output_type": "stream",
     "text": [
      "Memory usage of dataframe is 182.71 MB\n",
      "Memory usage of dataframe is 989.82 MB\n",
      "Memory usage of dataframe is 0.00 MB\n",
      "Memory usage of dataframe is 0.00 MB\n",
      "Memory usage of dataframe is 1.52 MB\n"
     ]
    }
   ],
   "source": [
    "''' \n",
    "    iterate through all the columns of a dataframe and modify the data type\n",
    "    to reduce memory usage.\n",
    "'''\n",
    "def reduce_mem_usage(train_data):\n",
    "    start_mem = train_data.memory_usage().sum() / 1024**2\n",
    "    print('Memory usage of dataframe is {:.2f} MB'.format(start_mem))\n",
    "\n",
    "    for col in train_data.columns:\n",
    "        col_type = train_data[col].dtype\n",
    "        \n",
    "        if col_type not in [object]:\n",
    "            c_min = train_data[col].min()\n",
    "            c_max = train_data[col].max()\n",
    "            if str(col_type)[:3] == 'int':\n",
    "                if c_min > np.iinfo(np.int8).min and c_max < np.iinfo(np.int8).max:\n",
    "                    train_data[col] = train_data[col].astype(np.int8)\n",
    "                elif c_min > np.iinfo(np.int16).min and c_max < np.iinfo(np.int16).max:\n",
    "                    train_data[col] = train_data[col].astype(np.int16)\n",
    "                elif c_min > np.iinfo(np.int32).min and c_max < np.iinfo(np.int32).max:\n",
    "                    train_data[col] = train_data[col].astype(np.int32)\n",
    "                elif c_min > np.iinfo(np.int64).min and c_max < np.iinfo(np.int64).max:\n",
    "                    train_data[col] = train_data[col].astype(np.int64)  \n",
    "            else:\n",
    "                if c_min > np.finfo(np.float16).min and c_max < np.finfo(np.float16).max:\n",
    "                    train_data[col] = train_data[col].astype(np.float16)\n",
    "                elif c_min > np.finfo(np.float32).min and c_max < np.finfo(np.float32).max:\n",
    "                    train_data[col] = train_data[col].astype(np.float32)\n",
    "                else:\n",
    "                    train_data[col] = train_data[col].astype(np.float64)\n",
    "        else:\n",
    "            train_data[col] = train_data[col].astype('category')\n",
    "\n",
    "    return train_data\n",
    "\n",
    "orders = reduce_mem_usage(orders)\n",
    "opp = reduce_mem_usage(opp)\n",
    "aisles = reduce_mem_usage(aisles)\n",
    "departments = reduce_mem_usage(departments)\n",
    "products = reduce_mem_usage(products)"
   ]
  },
  {
   "cell_type": "markdown",
   "metadata": {},
   "source": [
    "Merge orders and tips"
   ]
  },
  {
   "cell_type": "code",
   "execution_count": 74,
   "metadata": {},
   "outputs": [
    {
     "data": {
      "text/html": [
       "<div>\n",
       "<style scoped>\n",
       "    .dataframe tbody tr th:only-of-type {\n",
       "        vertical-align: middle;\n",
       "    }\n",
       "\n",
       "    .dataframe tbody tr th {\n",
       "        vertical-align: top;\n",
       "    }\n",
       "\n",
       "    .dataframe thead th {\n",
       "        text-align: right;\n",
       "    }\n",
       "</style>\n",
       "<table border=\"1\" class=\"dataframe\">\n",
       "  <thead>\n",
       "    <tr style=\"text-align: right;\">\n",
       "      <th></th>\n",
       "      <th>order_id</th>\n",
       "      <th>tip</th>\n",
       "      <th>user_id</th>\n",
       "      <th>eval_set</th>\n",
       "      <th>order_number</th>\n",
       "      <th>order_dow</th>\n",
       "      <th>order_hour_of_day</th>\n",
       "      <th>days_since_prior_order</th>\n",
       "    </tr>\n",
       "  </thead>\n",
       "  <tbody>\n",
       "    <tr>\n",
       "      <th>0</th>\n",
       "      <td>2539329</td>\n",
       "      <td>1</td>\n",
       "      <td>1</td>\n",
       "      <td>prior</td>\n",
       "      <td>1</td>\n",
       "      <td>2</td>\n",
       "      <td>8</td>\n",
       "      <td>NaN</td>\n",
       "    </tr>\n",
       "    <tr>\n",
       "      <th>1</th>\n",
       "      <td>2398795</td>\n",
       "      <td>1</td>\n",
       "      <td>1</td>\n",
       "      <td>prior</td>\n",
       "      <td>2</td>\n",
       "      <td>3</td>\n",
       "      <td>7</td>\n",
       "      <td>15.0</td>\n",
       "    </tr>\n",
       "    <tr>\n",
       "      <th>2</th>\n",
       "      <td>473747</td>\n",
       "      <td>1</td>\n",
       "      <td>1</td>\n",
       "      <td>prior</td>\n",
       "      <td>3</td>\n",
       "      <td>3</td>\n",
       "      <td>12</td>\n",
       "      <td>21.0</td>\n",
       "    </tr>\n",
       "    <tr>\n",
       "      <th>3</th>\n",
       "      <td>2254736</td>\n",
       "      <td>1</td>\n",
       "      <td>1</td>\n",
       "      <td>prior</td>\n",
       "      <td>4</td>\n",
       "      <td>4</td>\n",
       "      <td>7</td>\n",
       "      <td>29.0</td>\n",
       "    </tr>\n",
       "    <tr>\n",
       "      <th>4</th>\n",
       "      <td>431534</td>\n",
       "      <td>1</td>\n",
       "      <td>1</td>\n",
       "      <td>prior</td>\n",
       "      <td>5</td>\n",
       "      <td>4</td>\n",
       "      <td>15</td>\n",
       "      <td>28.0</td>\n",
       "    </tr>\n",
       "  </tbody>\n",
       "</table>\n",
       "</div>"
      ],
      "text/plain": [
       "   order_id  tip  user_id eval_set  order_number  order_dow  \\\n",
       "0   2539329    1        1    prior             1          2   \n",
       "1   2398795    1        1    prior             2          3   \n",
       "2    473747    1        1    prior             3          3   \n",
       "3   2254736    1        1    prior             4          4   \n",
       "4    431534    1        1    prior             5          4   \n",
       "\n",
       "   order_hour_of_day  days_since_prior_order  \n",
       "0                  8                     NaN  \n",
       "1                  7                    15.0  \n",
       "2                 12                    21.0  \n",
       "3                  7                    29.0  \n",
       "4                 15                    28.0  "
      ]
     },
     "execution_count": 74,
     "metadata": {},
     "output_type": "execute_result"
    }
   ],
   "source": [
    "instacart_train = tips_tr.merge(orders)\n",
    "instacart_train.head()"
   ]
  },
  {
   "cell_type": "code",
   "execution_count": 146,
   "metadata": {},
   "outputs": [
    {
     "data": {
      "text/plain": [
       "prior    3214874\n",
       "Name: eval_set, dtype: int64"
      ]
     },
     "execution_count": 146,
     "metadata": {},
     "output_type": "execute_result"
    }
   ],
   "source": [
    "instacart_train.eval_set.value_counts()"
   ]
  },
  {
   "cell_type": "code",
   "execution_count": 7,
   "metadata": {},
   "outputs": [
    {
     "data": {
      "text/html": [
       "<div>\n",
       "<style scoped>\n",
       "    .dataframe tbody tr th:only-of-type {\n",
       "        vertical-align: middle;\n",
       "    }\n",
       "\n",
       "    .dataframe tbody tr th {\n",
       "        vertical-align: top;\n",
       "    }\n",
       "\n",
       "    .dataframe thead th {\n",
       "        text-align: right;\n",
       "    }\n",
       "</style>\n",
       "<table border=\"1\" class=\"dataframe\">\n",
       "  <thead>\n",
       "    <tr style=\"text-align: right;\">\n",
       "      <th></th>\n",
       "      <th>order_id</th>\n",
       "      <th>tip</th>\n",
       "      <th>user_id</th>\n",
       "      <th>eval_set</th>\n",
       "      <th>order_number</th>\n",
       "      <th>order_dow</th>\n",
       "      <th>order_hour_of_day</th>\n",
       "      <th>days_since_prior_order</th>\n",
       "    </tr>\n",
       "  </thead>\n",
       "  <tbody>\n",
       "    <tr>\n",
       "      <th>0</th>\n",
       "      <td>1187899</td>\n",
       "      <td>NaN</td>\n",
       "      <td>1</td>\n",
       "      <td>train</td>\n",
       "      <td>11</td>\n",
       "      <td>4</td>\n",
       "      <td>8</td>\n",
       "      <td>14.0</td>\n",
       "    </tr>\n",
       "    <tr>\n",
       "      <th>1</th>\n",
       "      <td>1492625</td>\n",
       "      <td>NaN</td>\n",
       "      <td>2</td>\n",
       "      <td>train</td>\n",
       "      <td>15</td>\n",
       "      <td>1</td>\n",
       "      <td>11</td>\n",
       "      <td>30.0</td>\n",
       "    </tr>\n",
       "    <tr>\n",
       "      <th>2</th>\n",
       "      <td>2196797</td>\n",
       "      <td>NaN</td>\n",
       "      <td>5</td>\n",
       "      <td>train</td>\n",
       "      <td>5</td>\n",
       "      <td>0</td>\n",
       "      <td>11</td>\n",
       "      <td>6.0</td>\n",
       "    </tr>\n",
       "    <tr>\n",
       "      <th>3</th>\n",
       "      <td>525192</td>\n",
       "      <td>NaN</td>\n",
       "      <td>7</td>\n",
       "      <td>train</td>\n",
       "      <td>21</td>\n",
       "      <td>2</td>\n",
       "      <td>11</td>\n",
       "      <td>6.0</td>\n",
       "    </tr>\n",
       "    <tr>\n",
       "      <th>4</th>\n",
       "      <td>880375</td>\n",
       "      <td>NaN</td>\n",
       "      <td>8</td>\n",
       "      <td>train</td>\n",
       "      <td>4</td>\n",
       "      <td>1</td>\n",
       "      <td>14</td>\n",
       "      <td>10.0</td>\n",
       "    </tr>\n",
       "  </tbody>\n",
       "</table>\n",
       "</div>"
      ],
      "text/plain": [
       "   order_id  tip  user_id eval_set  order_number  order_dow  \\\n",
       "0   1187899  NaN        1    train            11          4   \n",
       "1   1492625  NaN        2    train            15          1   \n",
       "2   2196797  NaN        5    train             5          0   \n",
       "3    525192  NaN        7    train            21          2   \n",
       "4    880375  NaN        8    train             4          1   \n",
       "\n",
       "   order_hour_of_day  days_since_prior_order  \n",
       "0                  8                    14.0  \n",
       "1                 11                    30.0  \n",
       "2                 11                     6.0  \n",
       "3                 11                     6.0  \n",
       "4                 14                    10.0  "
      ]
     },
     "execution_count": 75,
     "metadata": {},
     "output_type": "execute_result"
    }
   ],
   "source": [
    "instacart_test = tips_te.merge(orders)\n",
    "instacart_test.head()"
   ]
  },
  {
   "cell_type": "markdown",
   "metadata": {},
   "source": [
    "Merge opp, aisles and departments"
   ]
  },
  {
   "cell_type": "code",
   "execution_count": 76,
   "metadata": {},
   "outputs": [],
   "source": [
    "# Get amount of products in order\n",
    "opp['amount_ordered_products'] = opp.groupby('order_id')['product_id'].transform('count')\n",
    "\n",
    "# Get amount of reordered products in order\n",
    "opp['amount_reordered_products'] = opp.groupby('order_id')['reordered'].transform('sum')\n",
    "\n",
    "opp_reduced = opp.groupby('order_id').head(1)"
   ]
  },
  {
   "cell_type": "code",
   "execution_count": 77,
   "metadata": {},
   "outputs": [],
   "source": [
    "products_departments = products.drop(columns=['product_name', 'aisle_id']).set_index('product_id').to_dict()['department_id']\n",
    "opp['departments_id'] = opp['product_id'].map(products_departments, na_action='ignore')\n",
    "\n",
    "products_aisles = products.drop(columns=['product_name', 'department_id']).set_index('product_id').to_dict()['aisle_id']\n",
    "opp['aisles_id'] = opp['product_id'].map(products_aisles, na_action='ignore')"
   ]
  },
  {
   "cell_type": "code",
   "execution_count": 78,
   "metadata": {},
   "outputs": [
    {
     "name": "stdout",
     "output_type": "stream",
     "text": [
      "Memory usage of dataframe is 3311.22 MB\n"
     ]
    }
   ],
   "source": [
    "opp['value'] = 1\n",
    "opp_aisles = opp.pivot_table(index=['order_id'], columns=['aisles_id'], values='value', margins=False, aggfunc='sum').add_prefix('aisles_')\n",
    "\n",
    "opp_aisles = opp_aisles.fillna(0)\n",
    "opp_aisles = reduce_mem_usage(opp_aisles)\n",
    "\n",
    "opp_reduced = opp_reduced.merge(opp_aisles, left_on='order_id', right_index=True, suffixes=('', 'aisles_'))"
   ]
  },
  {
   "cell_type": "code",
   "execution_count": 79,
   "metadata": {},
   "outputs": [
    {
     "name": "stdout",
     "output_type": "stream",
     "text": [
      "Memory usage of dataframe is 539.61 MB\n"
     ]
    }
   ],
   "source": [
    "opp['value'] = 1\n",
    "opp_departments = opp.pivot_table(index=['order_id'], columns=['departments_id'], values='value', margins=False, aggfunc='sum').add_prefix('departments_')\n",
    "\n",
    "opp_departments = opp_departments.fillna(0)\n",
    "opp_departments = reduce_mem_usage(opp_departments)\n",
    "\n",
    "opp_reduced = opp_reduced.merge(opp_departments, left_on='order_id', right_index=True, suffixes=('', 'departments_'))"
   ]
  },
  {
   "cell_type": "code",
   "execution_count": 80,
   "metadata": {},
   "outputs": [
    {
     "data": {
      "text/html": [
       "<div>\n",
       "<style scoped>\n",
       "    .dataframe tbody tr th:only-of-type {\n",
       "        vertical-align: middle;\n",
       "    }\n",
       "\n",
       "    .dataframe tbody tr th {\n",
       "        vertical-align: top;\n",
       "    }\n",
       "\n",
       "    .dataframe thead th {\n",
       "        text-align: right;\n",
       "    }\n",
       "</style>\n",
       "<table border=\"1\" class=\"dataframe\">\n",
       "  <thead>\n",
       "    <tr style=\"text-align: right;\">\n",
       "      <th></th>\n",
       "      <th>order_id</th>\n",
       "      <th>product_id</th>\n",
       "      <th>add_to_cart_order</th>\n",
       "      <th>reordered</th>\n",
       "      <th>amount_ordered_products</th>\n",
       "      <th>amount_reordered_products</th>\n",
       "      <th>aisles_1</th>\n",
       "      <th>aisles_2</th>\n",
       "      <th>aisles_3</th>\n",
       "      <th>aisles_4</th>\n",
       "      <th>...</th>\n",
       "      <th>departments_12</th>\n",
       "      <th>departments_13</th>\n",
       "      <th>departments_14</th>\n",
       "      <th>departments_15</th>\n",
       "      <th>departments_16</th>\n",
       "      <th>departments_17</th>\n",
       "      <th>departments_18</th>\n",
       "      <th>departments_19</th>\n",
       "      <th>departments_20</th>\n",
       "      <th>departments_21</th>\n",
       "    </tr>\n",
       "  </thead>\n",
       "  <tbody>\n",
       "    <tr>\n",
       "      <th>0</th>\n",
       "      <td>2</td>\n",
       "      <td>33120</td>\n",
       "      <td>1</td>\n",
       "      <td>1</td>\n",
       "      <td>9</td>\n",
       "      <td>6.0</td>\n",
       "      <td>0.0</td>\n",
       "      <td>0.0</td>\n",
       "      <td>0.0</td>\n",
       "      <td>0.0</td>\n",
       "      <td>...</td>\n",
       "      <td>0.0</td>\n",
       "      <td>5.0</td>\n",
       "      <td>0.0</td>\n",
       "      <td>0.0</td>\n",
       "      <td>1.0</td>\n",
       "      <td>0.0</td>\n",
       "      <td>0.0</td>\n",
       "      <td>0.0</td>\n",
       "      <td>0.0</td>\n",
       "      <td>0.0</td>\n",
       "    </tr>\n",
       "    <tr>\n",
       "      <th>9</th>\n",
       "      <td>3</td>\n",
       "      <td>33754</td>\n",
       "      <td>1</td>\n",
       "      <td>1</td>\n",
       "      <td>8</td>\n",
       "      <td>8.0</td>\n",
       "      <td>0.0</td>\n",
       "      <td>0.0</td>\n",
       "      <td>0.0</td>\n",
       "      <td>0.0</td>\n",
       "      <td>...</td>\n",
       "      <td>1.0</td>\n",
       "      <td>0.0</td>\n",
       "      <td>0.0</td>\n",
       "      <td>0.0</td>\n",
       "      <td>3.0</td>\n",
       "      <td>0.0</td>\n",
       "      <td>0.0</td>\n",
       "      <td>0.0</td>\n",
       "      <td>0.0</td>\n",
       "      <td>0.0</td>\n",
       "    </tr>\n",
       "    <tr>\n",
       "      <th>17</th>\n",
       "      <td>4</td>\n",
       "      <td>46842</td>\n",
       "      <td>1</td>\n",
       "      <td>0</td>\n",
       "      <td>13</td>\n",
       "      <td>12.0</td>\n",
       "      <td>0.0</td>\n",
       "      <td>0.0</td>\n",
       "      <td>1.0</td>\n",
       "      <td>0.0</td>\n",
       "      <td>...</td>\n",
       "      <td>0.0</td>\n",
       "      <td>0.0</td>\n",
       "      <td>4.0</td>\n",
       "      <td>0.0</td>\n",
       "      <td>0.0</td>\n",
       "      <td>0.0</td>\n",
       "      <td>0.0</td>\n",
       "      <td>4.0</td>\n",
       "      <td>0.0</td>\n",
       "      <td>0.0</td>\n",
       "    </tr>\n",
       "    <tr>\n",
       "      <th>30</th>\n",
       "      <td>5</td>\n",
       "      <td>13176</td>\n",
       "      <td>1</td>\n",
       "      <td>1</td>\n",
       "      <td>26</td>\n",
       "      <td>21.0</td>\n",
       "      <td>1.0</td>\n",
       "      <td>0.0</td>\n",
       "      <td>0.0</td>\n",
       "      <td>1.0</td>\n",
       "      <td>...</td>\n",
       "      <td>1.0</td>\n",
       "      <td>2.0</td>\n",
       "      <td>0.0</td>\n",
       "      <td>0.0</td>\n",
       "      <td>3.0</td>\n",
       "      <td>3.0</td>\n",
       "      <td>0.0</td>\n",
       "      <td>4.0</td>\n",
       "      <td>1.0</td>\n",
       "      <td>0.0</td>\n",
       "    </tr>\n",
       "    <tr>\n",
       "      <th>56</th>\n",
       "      <td>6</td>\n",
       "      <td>40462</td>\n",
       "      <td>1</td>\n",
       "      <td>0</td>\n",
       "      <td>3</td>\n",
       "      <td>0.0</td>\n",
       "      <td>0.0</td>\n",
       "      <td>0.0</td>\n",
       "      <td>0.0</td>\n",
       "      <td>0.0</td>\n",
       "      <td>...</td>\n",
       "      <td>0.0</td>\n",
       "      <td>0.0</td>\n",
       "      <td>0.0</td>\n",
       "      <td>0.0</td>\n",
       "      <td>0.0</td>\n",
       "      <td>2.0</td>\n",
       "      <td>0.0</td>\n",
       "      <td>0.0</td>\n",
       "      <td>0.0</td>\n",
       "      <td>0.0</td>\n",
       "    </tr>\n",
       "    <tr>\n",
       "      <th>...</th>\n",
       "      <td>...</td>\n",
       "      <td>...</td>\n",
       "      <td>...</td>\n",
       "      <td>...</td>\n",
       "      <td>...</td>\n",
       "      <td>...</td>\n",
       "      <td>...</td>\n",
       "      <td>...</td>\n",
       "      <td>...</td>\n",
       "      <td>...</td>\n",
       "      <td>...</td>\n",
       "      <td>...</td>\n",
       "      <td>...</td>\n",
       "      <td>...</td>\n",
       "      <td>...</td>\n",
       "      <td>...</td>\n",
       "      <td>...</td>\n",
       "      <td>...</td>\n",
       "      <td>...</td>\n",
       "      <td>...</td>\n",
       "      <td>...</td>\n",
       "    </tr>\n",
       "    <tr>\n",
       "      <th>32434455</th>\n",
       "      <td>3421079</td>\n",
       "      <td>30136</td>\n",
       "      <td>1</td>\n",
       "      <td>0</td>\n",
       "      <td>1</td>\n",
       "      <td>0.0</td>\n",
       "      <td>0.0</td>\n",
       "      <td>0.0</td>\n",
       "      <td>0.0</td>\n",
       "      <td>0.0</td>\n",
       "      <td>...</td>\n",
       "      <td>0.0</td>\n",
       "      <td>0.0</td>\n",
       "      <td>0.0</td>\n",
       "      <td>0.0</td>\n",
       "      <td>0.0</td>\n",
       "      <td>0.0</td>\n",
       "      <td>0.0</td>\n",
       "      <td>0.0</td>\n",
       "      <td>0.0</td>\n",
       "      <td>0.0</td>\n",
       "    </tr>\n",
       "    <tr>\n",
       "      <th>32434456</th>\n",
       "      <td>3421080</td>\n",
       "      <td>27845</td>\n",
       "      <td>1</td>\n",
       "      <td>1</td>\n",
       "      <td>9</td>\n",
       "      <td>4.0</td>\n",
       "      <td>0.0</td>\n",
       "      <td>0.0</td>\n",
       "      <td>0.0</td>\n",
       "      <td>0.0</td>\n",
       "      <td>...</td>\n",
       "      <td>0.0</td>\n",
       "      <td>0.0</td>\n",
       "      <td>0.0</td>\n",
       "      <td>0.0</td>\n",
       "      <td>5.0</td>\n",
       "      <td>0.0</td>\n",
       "      <td>0.0</td>\n",
       "      <td>0.0</td>\n",
       "      <td>0.0</td>\n",
       "      <td>0.0</td>\n",
       "    </tr>\n",
       "    <tr>\n",
       "      <th>32434465</th>\n",
       "      <td>3421081</td>\n",
       "      <td>38185</td>\n",
       "      <td>1</td>\n",
       "      <td>0</td>\n",
       "      <td>7</td>\n",
       "      <td>0.0</td>\n",
       "      <td>0.0</td>\n",
       "      <td>0.0</td>\n",
       "      <td>0.0</td>\n",
       "      <td>0.0</td>\n",
       "      <td>...</td>\n",
       "      <td>0.0</td>\n",
       "      <td>1.0</td>\n",
       "      <td>0.0</td>\n",
       "      <td>1.0</td>\n",
       "      <td>1.0</td>\n",
       "      <td>0.0</td>\n",
       "      <td>0.0</td>\n",
       "      <td>1.0</td>\n",
       "      <td>1.0</td>\n",
       "      <td>0.0</td>\n",
       "    </tr>\n",
       "    <tr>\n",
       "      <th>32434472</th>\n",
       "      <td>3421082</td>\n",
       "      <td>17279</td>\n",
       "      <td>1</td>\n",
       "      <td>1</td>\n",
       "      <td>7</td>\n",
       "      <td>4.0</td>\n",
       "      <td>0.0</td>\n",
       "      <td>0.0</td>\n",
       "      <td>0.0</td>\n",
       "      <td>0.0</td>\n",
       "      <td>...</td>\n",
       "      <td>1.0</td>\n",
       "      <td>0.0</td>\n",
       "      <td>1.0</td>\n",
       "      <td>0.0</td>\n",
       "      <td>2.0</td>\n",
       "      <td>0.0</td>\n",
       "      <td>0.0</td>\n",
       "      <td>1.0</td>\n",
       "      <td>0.0</td>\n",
       "      <td>0.0</td>\n",
       "    </tr>\n",
       "    <tr>\n",
       "      <th>32434479</th>\n",
       "      <td>3421083</td>\n",
       "      <td>7854</td>\n",
       "      <td>1</td>\n",
       "      <td>0</td>\n",
       "      <td>10</td>\n",
       "      <td>4.0</td>\n",
       "      <td>0.0</td>\n",
       "      <td>0.0</td>\n",
       "      <td>1.0</td>\n",
       "      <td>0.0</td>\n",
       "      <td>...</td>\n",
       "      <td>0.0</td>\n",
       "      <td>0.0</td>\n",
       "      <td>0.0</td>\n",
       "      <td>0.0</td>\n",
       "      <td>0.0</td>\n",
       "      <td>1.0</td>\n",
       "      <td>4.0</td>\n",
       "      <td>3.0</td>\n",
       "      <td>0.0</td>\n",
       "      <td>0.0</td>\n",
       "    </tr>\n",
       "  </tbody>\n",
       "</table>\n",
       "<p>3214874 rows × 161 columns</p>\n",
       "</div>"
      ],
      "text/plain": [
       "          order_id  product_id  add_to_cart_order  reordered  \\\n",
       "0                2       33120                  1          1   \n",
       "9                3       33754                  1          1   \n",
       "17               4       46842                  1          0   \n",
       "30               5       13176                  1          1   \n",
       "56               6       40462                  1          0   \n",
       "...            ...         ...                ...        ...   \n",
       "32434455   3421079       30136                  1          0   \n",
       "32434456   3421080       27845                  1          1   \n",
       "32434465   3421081       38185                  1          0   \n",
       "32434472   3421082       17279                  1          1   \n",
       "32434479   3421083        7854                  1          0   \n",
       "\n",
       "          amount_ordered_products  amount_reordered_products  aisles_1  \\\n",
       "0                               9                        6.0       0.0   \n",
       "9                               8                        8.0       0.0   \n",
       "17                             13                       12.0       0.0   \n",
       "30                             26                       21.0       1.0   \n",
       "56                              3                        0.0       0.0   \n",
       "...                           ...                        ...       ...   \n",
       "32434455                        1                        0.0       0.0   \n",
       "32434456                        9                        4.0       0.0   \n",
       "32434465                        7                        0.0       0.0   \n",
       "32434472                        7                        4.0       0.0   \n",
       "32434479                       10                        4.0       0.0   \n",
       "\n",
       "          aisles_2  aisles_3  aisles_4  ...  departments_12  departments_13  \\\n",
       "0              0.0       0.0       0.0  ...             0.0             5.0   \n",
       "9              0.0       0.0       0.0  ...             1.0             0.0   \n",
       "17             0.0       1.0       0.0  ...             0.0             0.0   \n",
       "30             0.0       0.0       1.0  ...             1.0             2.0   \n",
       "56             0.0       0.0       0.0  ...             0.0             0.0   \n",
       "...            ...       ...       ...  ...             ...             ...   \n",
       "32434455       0.0       0.0       0.0  ...             0.0             0.0   \n",
       "32434456       0.0       0.0       0.0  ...             0.0             0.0   \n",
       "32434465       0.0       0.0       0.0  ...             0.0             1.0   \n",
       "32434472       0.0       0.0       0.0  ...             1.0             0.0   \n",
       "32434479       0.0       1.0       0.0  ...             0.0             0.0   \n",
       "\n",
       "          departments_14  departments_15  departments_16  departments_17  \\\n",
       "0                    0.0             0.0             1.0             0.0   \n",
       "9                    0.0             0.0             3.0             0.0   \n",
       "17                   4.0             0.0             0.0             0.0   \n",
       "30                   0.0             0.0             3.0             3.0   \n",
       "56                   0.0             0.0             0.0             2.0   \n",
       "...                  ...             ...             ...             ...   \n",
       "32434455             0.0             0.0             0.0             0.0   \n",
       "32434456             0.0             0.0             5.0             0.0   \n",
       "32434465             0.0             1.0             1.0             0.0   \n",
       "32434472             1.0             0.0             2.0             0.0   \n",
       "32434479             0.0             0.0             0.0             1.0   \n",
       "\n",
       "          departments_18  departments_19  departments_20  departments_21  \n",
       "0                    0.0             0.0             0.0             0.0  \n",
       "9                    0.0             0.0             0.0             0.0  \n",
       "17                   0.0             4.0             0.0             0.0  \n",
       "30                   0.0             4.0             1.0             0.0  \n",
       "56                   0.0             0.0             0.0             0.0  \n",
       "...                  ...             ...             ...             ...  \n",
       "32434455             0.0             0.0             0.0             0.0  \n",
       "32434456             0.0             0.0             0.0             0.0  \n",
       "32434465             0.0             1.0             1.0             0.0  \n",
       "32434472             0.0             1.0             0.0             0.0  \n",
       "32434479             4.0             3.0             0.0             0.0  \n",
       "\n",
       "[3214874 rows x 161 columns]"
      ]
     },
     "execution_count": 80,
     "metadata": {},
     "output_type": "execute_result"
    }
   ],
   "source": [
    "opp_reduced"
   ]
  },
  {
   "cell_type": "code",
   "execution_count": 81,
   "metadata": {},
   "outputs": [],
   "source": [
    "instacart_train = instacart_train.merge(opp_reduced.drop(columns=['add_to_cart_order', 'reordered', 'product_id']), left_on='order_id', right_on='order_id')"
   ]
  },
  {
   "cell_type": "code",
   "execution_count": 82,
   "metadata": {},
   "outputs": [
    {
     "data": {
      "text/plain": [
       "order_id                          0\n",
       "tip                               0\n",
       "user_id                           0\n",
       "eval_set                          0\n",
       "order_number                      0\n",
       "order_dow                         0\n",
       "order_hour_of_day                 0\n",
       "days_since_prior_order       206209\n",
       "amount_ordered_products           0\n",
       "amount_reordered_products         0\n",
       "aisles_1                          0\n",
       "aisles_2                          0\n",
       "aisles_3                          0\n",
       "aisles_4                          0\n",
       "aisles_5                          0\n",
       "aisles_6                          0\n",
       "aisles_7                          0\n",
       "aisles_8                          0\n",
       "aisles_9                          0\n",
       "aisles_10                         0\n",
       "dtype: int64"
      ]
     },
     "execution_count": 82,
     "metadata": {},
     "output_type": "execute_result"
    }
   ],
   "source": [
    "instacart_train.isnull().sum().head(20)"
   ]
  },
  {
   "cell_type": "markdown",
   "metadata": {},
   "source": [
    "# Business Understanding"
   ]
  },
  {
   "cell_type": "markdown",
   "metadata": {},
   "source": [
    "In der Aufgaben geht es um einen Lieferdienst namens Instacart, bei dem Kunden Bestellungen aufgeben\n",
    "können. Instacart schickt dann Fahrer los , die die Ware in\n",
    "Supermärkten abholen und zum Kunden bringen. \n",
    "<br>\n",
    "Dieser Datensatz enthält eine zusätzliche Spalte „Tip“, die zu den einzelnen\n",
    "Bestellungen angibt, ob der Kunden beim Erhalt der Ware ein Trinkgeld gegeben hat oder nicht. Kern\n",
    "der Aufgabe ist vorherzusagen, bei welchen Bestellungen Trinkgeld gegeben werden wird und bei\n",
    "welchen nicht. "
   ]
  },
  {
   "cell_type": "markdown",
   "metadata": {},
   "source": [
    "### 1. Tip-Prediction\n",
    "Es soll vorhergesagt werden, bei welchen Bestellungen die Kunden dem Fahrer Trinkgeld\n",
    "gegeben werden und bei welchen nicht. Die Vorhersage kann dabei auf allen Informationen\n",
    "basieren, die unmittelbar nach Aufgeben der Bestellung zur Verfügung stehen, d.h. alle\n",
    "Daten zur aktuellen Bestellung sowie die gesamte Vorgeschichte. \n",
    "Zielerwartung sind mindestens 70% Genauigkeit bei der Vorhersage, ob ein Tip erfolgen wird oder nicht."
   ]
  },
  {
   "cell_type": "markdown",
   "metadata": {},
   "source": [
    "### 2. Analyse der Tip-Einflussfaktoren\n",
    "Zusätzlich sollen auch interpretierbare Erkenntnisse geliefert werden, wovon es abhängt, ob\n",
    "Trinkgeld gegeben wird. Diese sollen nachvollziehbar dargestellt werden. "
   ]
  },
  {
   "cell_type": "markdown",
   "metadata": {},
   "source": [
    "# Data Understanding"
   ]
  },
  {
   "cell_type": "markdown",
   "metadata": {},
   "source": [
    "## Daten sammeln"
   ]
  },
  {
   "cell_type": "markdown",
   "metadata": {},
   "source": [
    "- To-Do: Verknüpfung weiterer Daten zu den Bestellungen über Order-Products"
   ]
  },
  {
   "cell_type": "markdown",
   "metadata": {},
   "source": [
    "## Beschreibung der Daten"
   ]
  },
  {
   "cell_type": "markdown",
   "metadata": {},
   "source": [
    "Der Instacart Datensatz besteht aus über 3.2 Millionen Bestellungen. Die Daten pro Bestellung sind vollständig, bis auf den Wochentag der Bestellung (order_dow), bei dem Werte mit nan angegeben sind und was später ersetzt werden wird. Alle Daten sind ganzzahlige Werte (int), außer days_since_prior_order, welches ein Kommazahlenwert (float) ist. Eine weitere Ausnahme ist das Objekt eval_set. "
   ]
  },
  {
   "cell_type": "markdown",
   "metadata": {},
   "source": [
    "- To-Do: Textuelle Beschreibung der Spalten"
   ]
  },
  {
   "cell_type": "code",
   "execution_count": 83,
   "metadata": {},
   "outputs": [
    {
     "name": "stdout",
     "output_type": "stream",
     "text": [
      "<class 'pandas.core.frame.DataFrame'>\n",
      "Int64Index: 3214874 entries, 0 to 3214873\n",
      "Columns: 165 entries, order_id to departments_21\n",
      "dtypes: category(1), float16(156), float64(1), int32(1), int64(3), int8(3)\n",
      "memory usage: 1.1 GB\n"
     ]
    }
   ],
   "source": [
    "instacart_train.info()"
   ]
  },
  {
   "cell_type": "markdown",
   "metadata": {},
   "source": [
    "### order_id (int)\n",
    "- Numerisches Features, welches für jede Bestellung eine einzigartige ID enthält. Insgesamt gibt es 3.214.874 Millionen distinkte Bestellungen."
   ]
  },
  {
   "cell_type": "code",
   "execution_count": 84,
   "metadata": {},
   "outputs": [
    {
     "data": {
      "text/plain": [
       "3214874"
      ]
     },
     "execution_count": 84,
     "metadata": {},
     "output_type": "execute_result"
    }
   ],
   "source": [
    "instacart_train['order_id'].nunique()"
   ]
  },
  {
   "cell_type": "markdown",
   "metadata": {},
   "source": [
    "### user_id (int)\n",
    "- Numerisches Feature, welches für jeden distinkten Nutzer eine einzigeartige ID enthält. Die Bestellungen wurden von 206209 distinkten Nutzern getätigt."
   ]
  },
  {
   "cell_type": "code",
   "execution_count": 85,
   "metadata": {},
   "outputs": [
    {
     "data": {
      "text/plain": [
       "206209"
      ]
     },
     "execution_count": 85,
     "metadata": {},
     "output_type": "execute_result"
    }
   ],
   "source": [
    "instacart_train['user_id'].nunique()"
   ]
  },
  {
   "cell_type": "markdown",
   "metadata": {},
   "source": [
    "### tip (int)\n",
    "- Binäres Features mit der Information, ob ein Tip gebeben wurde. 0 bedeutet, dass kein Tip gegeben wurde, 1 bedeutet, dass ein Tip gegeben wurde. \n",
    "- Bei circa 1.9 Millionen Bestellungen wurde Trinkgeld gegeben, bei 1.4 Millionen nicht. "
   ]
  },
  {
   "cell_type": "code",
   "execution_count": 86,
   "metadata": {},
   "outputs": [
    {
     "data": {
      "image/png": "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",
      "text/plain": [
       "<Figure size 1440x720 with 1 Axes>"
      ]
     },
     "metadata": {
      "needs_background": "light"
     },
     "output_type": "display_data"
    }
   ],
   "source": [
    "plt.figure(figsize=(20, 10))\n",
    "ax = instacart_train['tip'].value_counts().sort_index().plot(kind='bar')\n",
    "ax.set_title(label = 'Value Counts tip', fontsize = 20)\n",
    "plt.show()"
   ]
  },
  {
   "cell_type": "markdown",
   "metadata": {},
   "source": [
    "### eval_set\n",
    "- Kategorisches Features mit der Information zu welchem Set die Beobachtung gehört. Verfügbare Werte sind: train und test. Train kann für das Training benutzt werden. Für Test-Beobachtungen soll eine Vorhersage generiert werden. Das Feature ist daher im Trainingsset stetig und enthält keine weitere Information."
   ]
  },
  {
   "cell_type": "code",
   "execution_count": 87,
   "metadata": {},
   "outputs": [
    {
     "data": {
      "text/plain": [
       "1"
      ]
     },
     "execution_count": 87,
     "metadata": {},
     "output_type": "execute_result"
    }
   ],
   "source": [
    "instacart_train['eval_set'].nunique()"
   ]
  },
  {
   "cell_type": "markdown",
   "metadata": {},
   "source": [
    "### order_number\n",
    "- Numerisches Features mit der Information, die wievielte Bestellung die des jeweiligen Nutzers die Beobachtung ist.\n",
    "- Jede Person hat mindestens 3 Mal und maximal 99 Mal bestellt. Durchschnittlich hat jede Person ca. 17 Bestellungen aufgegeben. "
   ]
  },
  {
   "cell_type": "code",
   "execution_count": 88,
   "metadata": {},
   "outputs": [
    {
     "data": {
      "text/plain": [
       "17.191065652961825"
      ]
     },
     "execution_count": 88,
     "metadata": {},
     "output_type": "execute_result"
    }
   ],
   "source": [
    "instacart_train['order_number'].mean()"
   ]
  },
  {
   "cell_type": "code",
   "execution_count": 89,
   "metadata": {},
   "outputs": [
    {
     "data": {
      "image/png": "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",
      "text/plain": [
       "<Figure size 1440x720 with 1 Axes>"
      ]
     },
     "metadata": {
      "needs_background": "light"
     },
     "output_type": "display_data"
    }
   ],
   "source": [
    "plt.figure(figsize=(20, 10))\n",
    "ax = instacart_train['order_number'].value_counts().sort_index().plot(kind='bar')\n",
    "ax.set_title(label = 'Value Counts order_number', fontsize = 20)\n",
    "plt.show()"
   ]
  },
  {
   "cell_type": "markdown",
   "metadata": {},
   "source": [
    "### order_dow\n",
    "- Numerisches Features mit der Information über den Wochentag der Bestellung. Die Information ist als Zahl zwischen 0 und 6 encodiert. Es wird angenommen, dass die Tage 0 und 1 mit mehr Bestellungen die Tage Samstag und Sonntag sind. Die weiteren Tage sind in der üblichen Reihenfolge."
   ]
  },
  {
   "cell_type": "code",
   "execution_count": 90,
   "metadata": {},
   "outputs": [
    {
     "data": {
      "image/png": "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",
      "text/plain": [
       "<Figure size 1440x720 with 1 Axes>"
      ]
     },
     "metadata": {
      "needs_background": "light"
     },
     "output_type": "display_data"
    }
   ],
   "source": [
    "plt.figure(figsize=(20, 10))\n",
    "ax = instacart_train['order_dow'].value_counts().sort_index().plot(kind='bar')\n",
    "ax.set_title(label = 'Value Counts order_dow', fontsize = 20)\n",
    "plt.show()"
   ]
  },
  {
   "cell_type": "markdown",
   "metadata": {},
   "source": [
    "### order_hour_of_day\n",
    "- Numerisches Features mit der Information über die Uhrzeit der Bestellung.\n",
    "- Die wenigsten Bestellungen gehen rund um 3 Uhr nachts ein, die meisten um 10 Uhr vormittags. "
   ]
  },
  {
   "cell_type": "code",
   "execution_count": 91,
   "metadata": {},
   "outputs": [
    {
     "data": {
      "image/png": "iVBORw0KGgoAAAANSUhEUgAABJcAAAJWCAYAAADlbWbDAAAAOXRFWHRTb2Z0d2FyZQBNYXRwbG90bGliIHZlcnNpb24zLjQuMywgaHR0cHM6Ly9tYXRwbG90bGliLm9yZy/MnkTPAAAACXBIWXMAAAsTAAALEwEAmpwYAAA5UUlEQVR4nO3deZhtV1kn/u8LV2gEgSQExCR6UUAFB5QYsHEIHU2Q2B0c0IA/CYpGEBxabA1KC4po0FZQW9AIIUCDgIgMBsTI4MiQgFEIERPhCpEpmDCIggbe3x97lzmpVN2qu+6te+okn8/znOecu/be67xnqLrnfGuttau7AwAAAAAjbrLsAgAAAABYXcIlAAAAAIYJlwAAAAAYJlwCAAAAYJhwCQAAAIBhwiUAAAAAhgmXAGAHVdV5VdVVtXfZtbAaqup1VdXLrmNNVT10fg8/dNm17CZVdXJV/VVVXT0/Py85hH17zgFYKcIlAG6Uqup585e3R2xj3wvmfR9wGEo7bKrqZlX1sKo6v6reV1WfrKqPVdXFVfWUqvqyZde4HVW1r6r2LbsObjzmsPilSe6U5JlJfjbJ85dZEwAs055lFwAAS3JOkgcl+f4kT9tsp/lL5ElJ3pfkDw9LZYdBVd01yUuSfHGSDyW5IMm7k9wsyd2SPDzJD1fVA7r7ZcuqE3apb0jyX5I8uruft+xiAGDZhEsA3Ch19+uq6u+TfEVVfWV3v2WTXb8vSSV5Zndfc/gq3DlVdYckr05ybJKnJPmp7v63dfvcPsnjkhxx2AuE3e9z5uv3LrUKANglTIsD4Mbsd+br799oY1XdNMlDk3SSp89tD6iq/1dVf19VH6+qf6mqN1fVD1fVtv5fraoT52l2j99k+6bTvKrqQVX12nmdl09U1aVV9diquvl27nv285mCpd/t7v+5PlhKku7+YHc/Muum+lTVHavqN+ca/72qrqyqF1fVPTeo9fHz4zxxg217523nrWv/zzWqquoHquqt8+P8QFWdU1W3Wdj3xHltos9L8nnzcb2+36r62qp6eVVdMU/9e39VvaGqHrfdJ6yqblJVD6+qC+fX/OPz7Uds9LrPNbyuqj67qp5eVf9UVZ9aXEOnqk6f3zv/VlUfrKrnVNXnrO9rXb+nVNUrqupD82P5h6r65aq67Qb77psvt66qX51v/8dm77ttPg/3nR/Xx6rqo/OUyi/eZN/D9V75/Kr6oar62/m5fN3gY/uOqvqzqvrI3M9bq+oxiz9bC++5n52bXrvwnrte7du4zztX1e/NP88fr2kNp1P3s/9955+Dt8/P/79V1duq6nFV9V/W7Xv2XNdDNunrnvP2lx9o3QCwnpFLANyYPSvJE5M8uKoe3d3/um77/ZMck+SC7n7X3HZ2kk8neWOSf0pymyT/LcmvJfmqJN+9U8VW1TOSfG+SK5K8OMmHk9w7yROSnFRV37jV6KqqusVCjT+7v32TpLs/uXDsnZL8RaZRG69J8rtJjkvywCSnVtW3dfehmjr4S0lOSfLyJH+c5L6ZQsA7Z3q+k2Tf/Bh+dP73UxaOv3iu+X5Jzk/y0SQvy/SaHZlpOuAPZhvPwew5SR6c5D2ZgsZO8i1Jnprka5J81wbHHJnkDUn+JdPr9ekkH5jr+p9JfjXTa/js+fqUJH+V5CMbFVBVPzPXe1WmKZofTPJlSX48yf2r6qu7+6PrDrtZptfqyEzP40eTvCtjvjnJaUlemeS3Mk2fvH+Sr6qqu3X3hxZqPZzvlV9L8rWZXudXJPnUgXZQVb+Q5DGZpog+L9Nr9k1JfiHJKfPP1n/k2vfciUm+PtPvkH1zN/tyAKrqLklen+SoTM/pxZne3y+Z/72Rn0zyRZneJ+dnmpp3nySPT3JiVX1Dd689/t9K8r+S/ECm99h6PzBf//aB1A0AG+puFxcXFxeXG+0lyQsyBQUP3WDbS+dt377Q9gUb7HeTTF8yO8m91m07b27fu9B24tz2+E1q2pdk37q2h87HvDjJLdZte/y87Ue28Xi/dt73ioHn6lXzsT+9rv2/JrkmyT8nudUGdZ24QV97523nbfJ8vTvJ5y6070nyZ/O2E7Z6vha2/f58zJdvsO1223zcD5r7eMu6x3fLJBfN2x687pieL89OsmeDx/7JTCHR4vviJgv19rpj7ju3/1WS227y3njyBs9LJ/mTJLc8iJ+Rtf6vSXLSum2/OG/7iSW+V/4pyZ0O4vF99cJ77rPXvedePm/7qXXHbFrvAdzvH2eDn9tMAd7a++eh67Z9fpLaoK8nzPt/57r2P5zbv3Rd+62SfGx+zDcdfQwuLi4uLi5rF9PiALixO2e+/r7Fxqq6Y6ZRGR/IFDIlSbr7H9Z30N2fzjR6IplGn+yEH8n0pfx7+/rT2J6Q6cv6RqNn1rvjfH3Fgdx5VR2b5ORMX0Z/aXFbd/9VppEpRyb51gPpdz9+rrvfvXAf12Q6K1eSnDDQ30ZT/z600Y4b+N75+qzu/peF4z+eaSRJsu79M/v3JD/e1x9N9l2ZRhT9RnfvW+jv05lGmnx6g75+eL7+/u7+8OKG7j4v06iXzV7/R8+1Hqznd/er17Wt/fz852uyhPfKL/W1IwtHrL2+P9/d719rnF+3R2d6PTZ6fYfNz9E3ZhpF9n8Xt3X3S5P86UbHdfc7u7s32PSU+Xr975+1kxWcua79uzIFTE/va0c6AcAw0+IAuLF7TZJ/SHKfqvri7r50bv+eTP9PntfTdJgkSVUdlSkAuH+mUQS3XNffMYe6wKr6zCRfnmnKzo9W1Ua7fTLTVK8tu5uvN/qCuj9fMV//+eLzseA1Sf6/eb+NpuAcqIs2aHvPfH0gi4w/N1OI8caqekGS1yb5y+4+kHDtKzMFDK/bYNufZpqG9RUbbNvX3R/cpL+1Y6+ju99ZVe/JtI7Uoq9O8h9JHlhVD9ygz5slObqqjuruf15o/0SSv91g/xHbfU0O93vlTQd5/Nrr8Zr1G7r776vqiiR3qqrbrg/2DsLac/QXm4Q7r8s07e46quqWmYLmb0ly1ySflWt/ppPr//55ZaYA67ur6if72qm/Z2Z63z599AEAwCLhEgA3at3dVfX0TNN7vi/Jo2tKbx6WhYW8k2ReNPnCJHfK9IX22ZmmNl2T5LaZvvQdyMLa23VEpi+QR2c6g9vBWDu71bEHeNzaQtrv22T7WvttD7SgTXx4g7a1EUA33W4n3f3iqvrmTCNQvjfzOjNV9eYkj+nuC7bRzW2SXNXd/75B/9dU1YeS3H6D496/Qdtaf8m8/tImx60Pl47K9Lltq9f/VplGsa354CYjXUZ8eH3D/PiT674mh/u9stnzvF3bqfdz5/0+fJD3tf4+9/ceuI6q+oxMAdgJSd6WaUrvlZlCx2R6b1zn9093f7qqfjvTWnHfmeSZ84LqX5nkJd3tbHcAHBKmxQHANN3qP5I8pKpulmnB6M9P8truvnxhv+/LFCz9bHffq7t/sLsf292Pz/RFb7vWpj1t9kee26z799oCz3/d3bW/yzbu+6JMo5yOraovPICa12r47E2233Hdfsn+H+dtD+C+D0p3n9/d/y1TSHdSkicnuXuSP6yqu22ji48kOXL+cn8dVbUnye0yLZR9vbveT39JcodNtm/0HH8kydVbvf7d/Y/brGEnHe73ysE+xpF6D9bIe+C0TMHSs7r7S7v7zO7+6fn3z/4W5T4308/82gLeFvIG4JATLgFwo9fdH8h0JrHbJXlAprOSJdeuJ7PmzvP172/QzfWmsOzH1fP1ces3VNWds+7L9LzOzyVJ7l5VRx7A/VzPvF7Tc+Z//u+t9l84Dftfz9dfMwcq6913vn7LQtumjzPJ8Vvd9wH4VLYxmqm7P97dr+nuH8t0FrCbZToj2Fb+OtNnpq/bYNvXzff9lg22bWZt342mPX1+Nn6+3pDkiKq6+wHcz7Ls5vfKRtbqPXH9hvnn8dgk7zqEU+IW7/Nrqmqj9+71asng75/uvjLJi5Lcq6ruk2mB+n2ZFhQHgENCuAQAk9+Zrx+dKWD6UJI/WLfPvvn6xMXGqvqKTKcx366/yzTS5bSq+s/pVFV1iyS/vskxv5opDDl3np53HVV1RFV95fWO2thjMy3o/V1V9cvz/a7v73ZV9etJTk+SeY2iCzKduetH1+17ryQPzhQQLD5na2vhfM9iyFBVxyX5mW3Wuh3/nGm9oY0ex0kbtefaESP/usG29c6dr39xXv9qre/PzDTdKEmecQD1PjfTSLkfqqq9C/3dJMkvZ+PPZ0+er3+nqj5n/caqumVV3fsAatgxu/y9spG11/exVXX0wn3fNMn/yfR6HMjru6WF5+hOSR61uK2qTsvGYdG++frEdft/fpInbXGXawt7vyDT1Mlz5gXkAeCQsOYSAEz+ONPCt2tnvfq/G6yx8+xMi3k/parum+SyJHdJ8s1JXpxpTZMtdfd/VNWvZRo59NdV9QeZ/k/+xkxrIl1vHZTuPndeK+UHk/xDVb0q09m4jsz0BfXrMk3ve/g27v8DVXVSkpck+fEkZ1TVBXN/N8u0MPiJmdZvecDCoQ9P8pdJfrmqTs40xe64JA/MNK3pe7r7Ywv388aq+rO5tjdV1WsyhTr/PdOp6jcapTLi1Um+Kskfzff3ySR/090vT/IrSfZW1esyfTn/9yT3zDT18R+TPH+rzrv7efMX/u9IcklVvSTTVKwHZHruX9jdz91usd29r6rOmmv763mh8Y9kOtPXbTMtwP1l64559XzMLya5rKpeken9eqtM6zN9fZK/SHK/7daxw3bre+V6uvuvquqXkvxEkrdV1YuSfDzTqLYvyfS8/vIO3PUjk7w+0++Tk5P8TabRSd+S5OWZHvuilye5PMmPVdWXZhr99LmZfv+cP9/eUHf/ZVX9TaYTA/xHrg3UAOCQMHIJADIt7J3rjk74nQ32eW+Sr830Re5rMo04+LxMgc9ZB3iXj8s02ukTmc7cdP9M011OybUL9K6//0dm+sL5+iTfkOTHkvyPTGs0/XKuPR35lrr775PcI9M6UhdlClsePddyXKaFzO8xBzRrx7wz0xSl30ryhZmCqW9K8kdJ7jOfQn290+a+jk3yQ5nOkvUTSX5yu7Vuw8/PNX1Bpuf0CUm+bd72C5nOmHX3TI/14ZlCi19I8lXdffX1etvYgzKFAf+cac2ah2caffOoedsB6e5fzTSC511JHpppsfG3JfmvuXaK2PpjnpQpfDk/yX0yjQp6YKYzhJ2TaUTarrCL3yub1fuTmV7Hy5I8JMkPZ/qc/Ngk37jRYu6H4D4vS3LvTD/398l0QoDjMoWWL95g/49n+jl9Xqb38w9nCiGfkOnse1t55nz90nkqMAAcMnXoTiACAADsRlV1XpIzknxDd796yeUAcAMjXAIAgBuwee2qy5K8M8nd2xcAAA4xay4BAMANUFU9OMldMy3Mf/Mk/1uwBMBOMHIJAOBGpKpOzManul/vw939lJ2sZSfMZ+B76DZ3f0p3f/gQ3e9DM50hbysXd/dLDsV9bmVeyP7rkrwnyZNX8fUEYDUIlwAAbkSq6vGZFpTfyj92996drebQm8Oz125z9zt1975DdL+vy3TWvq08q7sfeijuEwB2ixtcuHS7292u9+7du+wyAAAAAG4w3vzmN3+ou4/eaNsNbs2lvXv35qKLLlp2GQAAAAA3GFX1j5ttu8nhLAQAAACAGxbhEgAAAADDhEsAAAAADBMuAQAAADBMuAQAAADAMOESAAAAAMOESwAAAAAMEy4BAAAAMEy4BAAAAMAw4RIAAAAAw4RLAAAAAAwTLgEAAAAwTLgEAAAAwDDhEgAAAADDhEsAAAAADBMuAQAAADBMuAQAAADAMOESAAAAAMOESwAAAAAMEy4BAAAAMEy4BAAAAMAw4RIAAAAAw4RLAAAAAAwTLgEAAAAwbM+yCwAAVtPes87fsb73nX3qjvUNAMChZeQSAAAAAMOESwAAAAAMEy4BAAAAMEy4BAAAAMAw4RIAAAAAw4RLAAAAAAwTLgEAAAAwbM+yCwAAONz2nnX+jvW97+xTd6xvAIDdyMglAAAAAIYJlwAAAAAYZlocAADcAJn+CcDhIlwCAIBNCGgAYGumxQEAAAAwTLgEAAAAwDDhEgAAAADDhEsAAAAADBMuAQAAADBMuAQAAADAMOESAAAAAMOESwAAAAAM27PsAgAAuOHbe9b5O9b3vrNP3bG+AYCtGbkEAAAAwDDhEgAAAADDhEsAAAAADBMuAQAAADBMuAQAAADAMOESAAAAAMOESwAAAAAMEy4BAAAAMGzPsgsAAGB79p51/o71ve/sU3esbwDghk24BAAA7BpCVIDVY1ocAAAAAMOESwAAAAAMEy4BAAAAMEy4BAAAAMAw4RIAAAAAw4RLAAAAAAwTLgEAAAAwbMtwqaqOq6rXVtWlVXVJVf3I3P74qvqnqrp4vtx/4ZjHVNXlVfWOqjplof2eVfXWeduvV1XN7TevqhfM7W+sqr0Lx5xRVZfNlzMO6aMHAAAA4KDs2cY+1yR5dHe/pao+K8mbq+qCeduTu/v/LO5cVXdLcnqSuyf5nCR/UlV37e5PJXlakjOTvCHJK5LcL8krkzwsydXdfeeqOj3Jk5J8Z1UdmeRxSY5P0vN9v6y7rz64hw0AAADAobDlyKXufl93v2W+/bEklyY5Zj+HnJbk+d39ye5+V5LLk5xQVXdMcuvufn13d5JnJ3nAwjHPmm+/KMlJ86imU5Jc0N1XzYHSBZkCKQAAAAB2gQNac2mervYVSd44Nz2qqv62qs6tqiPmtmOSvGfhsCvmtmPm2+vbr3NMd1+T5CNJjtpPX+vrOrOqLqqqi6688soDeUgAAAAAHIRth0tVdaskv5/kR7v7o5mmuH1BknskeV+SX1nbdYPDez/to8dc29B9Tncf393HH3300ft7GAAAAAAcQtsKl6rqMzIFS8/t7hcnSXd/oLs/1d2fTvI7SU6Yd78iyXELhx+b5L1z+7EbtF/nmKrak+Q2Sa7aT18AAAAA7ALbOVtcJXlGkku7+1cX2u+4sNu3JHnbfPtlSU6fzwB3pyR3SfKm7n5fko9V1b3nPh+S5KULx6ydCe7bk7xmXpfpVUlOrqoj5ml3J89tAAAAAOwC2zlb3H2SfHeSt1bVxXPbTyV5UFXdI9M0tX1JfiBJuvuSqnphkrdnOtPcI+czxSXJI5Kcl+QWmc4S98q5/RlJnlNVl2casXT63NdVVfWEJBfO+/1cd1818kABAAAAOPS2DJe6+y+y8dpHr9jPMU9M8sQN2i9K8iUbtH8iyQM36evcJOduVScAAAAAh98BnS0OAAAAABYJlwAAAAAYJlwCAAAAYJhwCQAAAIBhwiUAAAAAhgmXAAAAABi2Z9kFAMCN3d6zzt+xvvedfeqO9Q0AAImRSwAAAAAcBOESAAAAAMOESwAAAAAMEy4BAAAAMEy4BAAAAMAw4RIAAAAAw4RLAAAAAAwTLgEAAAAwTLgEAAAAwDDhEgAAAADDhEsAAAAADBMuAQAAADBMuAQAAADAMOESAAAAAMOESwAAAAAMEy4BAAAAMEy4BAAAAMAw4RIAAAAAw4RLAAAAAAwTLgEAAAAwTLgEAAAAwDDhEgAAAADDhEsAAAAADBMuAQAAADBMuAQAAADAMOESAAAAAMOESwAAAAAMEy4BAAAAMEy4BAAAAMAw4RIAAAAAw4RLAAAAAAwTLgEAAAAwTLgEAAAAwDDhEgAAAADDhEsAAAAADBMuAQAAADBMuAQAAADAMOESAAAAAMOESwAAAAAMEy4BAAAAMEy4BAAAAMAw4RIAAAAAw4RLAAAAAAwTLgEAAAAwTLgEAAAAwDDhEgAAAADDhEsAAAAADBMuAQAAADBMuAQAAADAMOESAAAAAMOESwAAAAAMEy4BAAAAMEy4BAAAAMAw4RIAAAAAw4RLAAAAAAzbs+wCAAAAbgj2nnX+jvW97+xTd6xvgINl5BIAAAAAw4RLAAAAAAwTLgEAAAAwTLgEAAAAwDDhEgAAAADDhEsAAAAADBMuAQAAADBMuAQAAADAMOESAAAAAMOESwAAAAAMEy4BAAAAMEy4BAAAAMAw4RIAAAAAw4RLAAAAAAwTLgEAAAAwTLgEAAAAwDDhEgAAAADDhEsAAAAADBMuAQAAADBMuAQAAADAMOESAAAAAMOESwAAAAAMEy4BAAAAMGzLcKmqjquq11bVpVV1SVX9yNx+ZFVdUFWXzddHLBzzmKq6vKreUVWnLLTfs6reOm/79aqquf3mVfWCuf2NVbV34Zgz5vu4rKrOOKSPHgAAAICDsp2RS9ckeXR3f3GSeyd5ZFXdLclZSV7d3XdJ8ur535m3nZ7k7knul+SpVXXTua+nJTkzyV3my/3m9oclubq775zkyUmeNPd1ZJLHJblXkhOSPG4xxAIAAABgubYMl7r7fd39lvn2x5JcmuSYJKcleda827OSPGC+fVqS53f3J7v7XUkuT3JCVd0xya27+/Xd3Umeve6Ytb5elOSkeVTTKUku6O6ruvvqJBfk2kAKAAAAgCU7oDWX5ulqX5HkjUnu0N3vS6YAKsnt592OSfKehcOumNuOmW+vb7/OMd19TZKPJDlqP32tr+vMqrqoqi668sorD+QhAQAAAHAQth0uVdWtkvx+kh/t7o/ub9cN2no/7aPHXNvQfU53H9/dxx999NH7KQ0AAACAQ2lb4VJVfUamYOm53f3iufkD81S3zNcfnNuvSHLcwuHHJnnv3H7sBu3XOaaq9iS5TZKr9tMXAAAAALvAds4WV0mekeTS7v7VhU0vS7J29rYzkrx0of30+Qxwd8q0cPeb5qlzH6uqe899PmTdMWt9fXuS18zrMr0qyclVdcS8kPfJcxsAAAAAu8CebexznyTfneStVXXx3PZTSc5O8sKqeliSdyd5YJJ09yVV9cIkb890prlHdven5uMekeS8JLdI8sr5kkzh1XOq6vJMI5ZOn/u6qqqekOTCeb+f6+6rxh4qAAAAAIfaluFSd/9FNl77KElO2uSYJyZ54gbtFyX5kg3aP5E5nNpg27lJzt2qTgAAAAAOvwM6WxwAAAAALBIuAQAAADBMuAQAAADAMOESAAAAAMOESwAAAAAMEy4BAAAAMEy4BAAAAMAw4RIAAAAAw4RLAAAAAAwTLgEAAAAwTLgEAAAAwDDhEgAAAADDhEsAAAAADBMuAQAAADBMuAQAAADAMOESAAAAAMOESwAAAAAMEy4BAAAAMEy4BAAAAMAw4RIAAAAAw4RLAAAAAAwTLgEAAAAwTLgEAAAAwDDhEgAAAADDhEsAAAAADBMuAQAAADBMuAQAAADAMOESAAAAAMOESwAAAAAMEy4BAAAAMEy4BAAAAMAw4RIAAAAAw4RLAAAAAAwTLgEAAAAwTLgEAAAAwDDhEgAAAADDhEsAAAAADBMuAQAAADBMuAQAAADAMOESAAAAAMOESwAAAAAMEy4BAAAAMEy4BAAAAMAw4RIAAAAAw4RLAAAAAAwTLgEAAAAwTLgEAAAAwDDhEgAAAADDhEsAAAAADNuz7AIAAABYnr1nnb9jfe87+9Qd6xvYPYxcAgAAAGCYcAkAAACAYcIlAAAAAIYJlwAAAAAYJlwCAAAAYJizxQFwg+BMNwAAsBxGLgEAAAAwTLgEAAAAwDDhEgAAAADDhEsAAAAADBMuAQAAADBMuAQAAADAMOESAAAAAMOESwAAAAAMEy4BAAAAMEy4BAAAAMAw4RIAAAAAw4RLAAAAAAwTLgEAAAAwTLgEAAAAwDDhEgAAAADDhEsAAAAADBMuAQAAADBMuAQAAADAMOESAAAAAMOESwAAAAAMEy4BAAAAMEy4BAAAAMAw4RIAAAAAw4RLAAAAAAwTLgEAAAAwTLgEAAAAwDDhEgAAAADDhEsAAAAADBMuAQAAADBMuAQAAADAsC3Dpao6t6o+WFVvW2h7fFX9U1VdPF/uv7DtMVV1eVW9o6pOWWi/Z1W9dd7261VVc/vNq+oFc/sbq2rvwjFnVNVl8+WMQ/aoAQAAADgktjNy6bwk99ug/cndfY/58ookqaq7JTk9yd3nY55aVTed939akjOT3GW+rPX5sCRXd/edkzw5yZPmvo5M8rgk90pyQpLHVdURB/wIAQAAANgxW4ZL3f1nSa7aZn+nJXl+d3+yu9+V5PIkJ1TVHZPcurtf392d5NlJHrBwzLPm2y9KctI8qumUJBd091XdfXWSC7JxyAUAAADAkhzMmkuPqqq/nafNrY0oOibJexb2uWJuO2a+vb79Osd09zVJPpLkqP30dT1VdWZVXVRVF1155ZUH8ZAAAAAAOBCj4dLTknxBknskeV+SX5nba4N9ez/to8dct7H7nO4+vruPP/roo/dTNgAAAACH0lC41N0f6O5Pdfenk/xOpjWRkml00XELux6b5L1z+7EbtF/nmKrak+Q2mabhbdYXAAAAALvEULg0r6G05luSrJ1J7mVJTp/PAHenTAt3v6m735fkY1V173k9pYckeenCMWtngvv2JK+Z12V6VZKTq+qIedrdyXMbAAAAALvEnq12qKrfTXJikttV1RWZzuB2YlXdI9M0tX1JfiBJuvuSqnphkrcnuSbJI7v7U3NXj8h05rlbJHnlfEmSZyR5TlVdnmnE0ulzX1dV1ROSXDjv93Pdvd2FxQEAAAA4DLYMl7r7QRs0P2M/+z8xyRM3aL8oyZds0P6JJA/cpK9zk5y7VY0AAAAALMfBnC0OAAAAgBs54RIAAAAAw4RLAAAAAAwTLgEAAAAwTLgEAAAAwDDhEgAAAADDhEsAAAAADBMuAQAAADBMuAQAAADAMOESAAAAAMOESwAAAAAMEy4BAAAAMEy4BAAAAMAw4RIAAAAAw4RLAAAAAAwTLgEAAAAwTLgEAAAAwDDhEgAAAADDhEsAAAAADBMuAQAAADBMuAQAAADAMOESAAAAAMOESwAAAAAMEy4BAAAAMEy4BAAAAMAw4RIAAAAAw4RLAAAAAAwTLgEAAAAwTLgEAAAAwLA9yy4AAAAARuw96/wd63vf2afuWN9wQ2PkEgAAAADDhEsAAAAADBMuAQAAADBMuAQAAADAMOESAAAAAMOESwAAAAAMEy4BAAAAMEy4BAAAAMAw4RIAAAAAw4RLAAAAAAwTLgEAAAAwTLgEAAAAwDDhEgAAAADDhEsAAAAADBMuAQAAADBMuAQAAADAMOESAAAAAMOESwAAAAAMEy4BAAAAMEy4BAAAAMAw4RIAAAAAw4RLAAAAAAwTLgEAAAAwTLgEAAAAwDDhEgAAAADDhEsAAAAADBMuAQAAADBMuAQAAADAMOESAAAAAMOESwAAAAAMEy4BAAAAMEy4BAAAAMAw4RIAAAAAw4RLAAAAAAwTLgEAAAAwTLgEAAAAwDDhEgAAAADDhEsAAAAADBMuAQAAADBMuAQAAADAMOESAAAAAMOESwAAAAAMEy4BAAAAMEy4BAAAAMAw4RIAAAAAw4RLAAAAAAwTLgEAAAAwTLgEAAAAwDDhEgAAAADDhEsAAAAADBMuAQAAADBMuAQAAADAMOESAAAAAMOESwAAAAAMEy4BAAAAMEy4BAAAAMCwLcOlqjq3qj5YVW9baDuyqi6oqsvm6yMWtj2mqi6vqndU1SkL7fesqrfO2369qmpuv3lVvWBuf2NV7V045oz5Pi6rqjMO2aMGAAAA4JDYzsil85Lcb13bWUle3d13SfLq+d+pqrslOT3J3edjnlpVN52PeVqSM5PcZb6s9fmwJFd3952TPDnJk+a+jkzyuCT3SnJCkscthlgAAAAALN+W4VJ3/1mSq9Y1n5bkWfPtZyV5wEL787v7k939riSXJzmhqu6Y5Nbd/fru7iTPXnfMWl8vSnLSPKrplCQXdPdV3X11kgty/ZALAAAAgCUaXXPpDt39viSZr28/tx+T5D0L+10xtx0z317ffp1juvuaJB9JctR++gIAAABglzjUC3rXBm29n/bRY657p1VnVtVFVXXRlVdeua1CAQAAADh4o+HSB+apbpmvPzi3X5HkuIX9jk3y3rn92A3ar3NMVe1JcptM0/A26+t6uvuc7j6+u48/+uijBx8SAAAAAAdqNFx6WZK1s7edkeSlC+2nz2eAu1OmhbvfNE+d+1hV3XteT+kh645Z6+vbk7xmXpfpVUlOrqoj5oW8T57bAAAAANgl9my1Q1X9bpITk9yuqq7IdAa3s5O8sKoeluTdSR6YJN19SVW9MMnbk1yT5JHd/am5q0dkOvPcLZK8cr4kyTOSPKeqLs80Yun0ua+rquoJSS6c9/u57l6/sDgAAACslL1nnb9jfe87+9Qd6xs2s2W41N0P2mTTSZvs/8QkT9yg/aIkX7JB+ycyh1MbbDs3yblb1QgAAADAchzqBb0BAAAAuBERLgEAAAAwTLgEAAAAwDDhEgAAAADDhEsAAAAADBMuAQAAADBMuAQAAADAMOESAAAAAMOESwAAAAAMEy4BAAAAMEy4BAAAAMAw4RIAAAAAw4RLAAAAAAwTLgEAAAAwTLgEAAAAwDDhEgAAAADDhEsAAAAADBMuAQAAADBMuAQAAADAMOESAAAAAMP2LLsAAHaXvWedv2N97zv71B3rGwAAWA4jlwAAAAAYJlwCAAAAYJhwCQAAAIBhwiUAAAAAhgmXAAAAABgmXAIAAABgmHAJAAAAgGHCJQAAAACGCZcAAAAAGCZcAgAAAGCYcAkAAACAYcIlAAAAAIYJlwAAAAAYJlwCAAAAYJhwCQAAAIBhwiUAAAAAhgmXAAAAABgmXAIAAABgmHAJAAAAgGHCJQAAAACGCZcAAAAAGCZcAgAAAGCYcAkAAACAYcIlAAAAAIbtWXYBAAAAwGrYe9b5O9b3vrNP3bG+2VlGLgEAAAAwTLgEAAAAwDDhEgAAAADDhEsAAAAADBMuAQAAADBMuAQAAADAMOESAAAAAMOESwAAAAAMEy4BAAAAMEy4BAAAAMAw4RIAAAAAw4RLAAAAAAwTLgEAAAAwTLgEAAAAwDDhEgAAAADDhEsAAAAADBMuAQAAADBMuAQAAADAMOESAAAAAMOESwAAAAAMEy4BAAAAMEy4BAAAAMAw4RIAAAAAw4RLAAAAAAwTLgEAAAAwTLgEAAAAwDDhEgAAAADDhEsAAAAADBMuAQAAADBsz7ILAAAAANhJe886f8f63nf2qTvW96owcgkAAACAYcIlAAAAAIYJlwAAAAAYJlwCAAAAYJhwCQAAAIBhwiUAAAAAhgmXAAAAABgmXAIAAABgmHAJAAAAgGHCJQAAAACGCZcAAAAAGHZQ4VJV7auqt1bVxVV10dx2ZFVdUFWXzddHLOz/mKq6vKreUVWnLLTfc+7n8qr69aqquf3mVfWCuf2NVbX3YOoFAAAA4NA6FCOX7tvd9+ju4+d/n5Xk1d19lySvnv+dqrpbktOT3D3J/ZI8tapuOh/ztCRnJrnLfLnf3P6wJFd3952TPDnJkw5BvQAAAAAcIjsxLe60JM+abz8ryQMW2p/f3Z/s7ncluTzJCVV1xyS37u7Xd3cnefa6Y9b6elGSk9ZGNQEAAACwfAcbLnWSP66qN1fVmXPbHbr7fUkyX99+bj8myXsWjr1ibjtmvr2+/TrHdPc1ST6S5Kj1RVTVmVV1UVVddOWVVx7kQwIAAABgu/Yc5PH36e73VtXtk1xQVX+3n303GnHU+2nf3zHXbeg+J8k5SXL88cdfbzsAAAAAO+OgRi5193vn6w8m+YMkJyT5wDzVLfP1B+fdr0hy3MLhxyZ579x+7Abt1zmmqvYkuU2Sqw6mZgAAAAAOneFwqapuWVWftXY7yclJ3pbkZUnOmHc7I8lL59svS3L6fAa4O2VauPtN89S5j1XVvef1lB6y7pi1vr49yWvmdZkAAAAA2AUOZlrcHZL8wby+9p4kz+vuP6qqC5O8sKoeluTdSR6YJN19SVW9MMnbk1yT5JHd/am5r0ckOS/JLZK8cr4kyTOSPKeqLs80Yun0g6gXAAAAgENsOFzq7ncm+fIN2v85yUmbHPPEJE/coP2iJF+yQfsnModTAAAAAOw+B3u2OAAAAABuxIRLAAAAAAwTLgEAAAAwTLgEAAAAwDDhEgAAAADDhEsAAAAADBMuAQAAADBMuAQAAADAMOESAAAAAMOESwAAAAAMEy4BAAAAMEy4BAAAAMAw4RIAAAAAw4RLAAAAAAwTLgEAAAAwTLgEAAAAwDDhEgAAAADD9iy7AAAAAAA2tves83es731nn3pI+jFyCQAAAIBhwiUAAAAAhgmXAAAAABgmXAIAAABgmHAJAAAAgGHCJQAAAACGCZcAAAAAGCZcAgAAAGCYcAkAAACAYcIlAAAAAIYJlwAAAAAYJlwCAAAAYJhwCQAAAIBhwiUAAAAAhgmXAAAAABgmXAIAAABg2J5lFwBwQ7T3rPN3rO99Z5+6Y30DAAAcKCOXAAAAABgmXAIAAABgmHAJAAAAgGHCJQAAAACGCZcAAAAAGCZcAgAAAGCYcAkAAACAYcIlAAAAAIYJlwAAAAAYJlwCAAAAYJhwCQAAAIBhwiUAAAAAhgmXAAAAABi2Z9kFLNves87fsb73nX3qjvUNAAAAsBsYuQQAAADAMOESAAAAAMOESwAAAAAMEy4BAAAAMEy4BAAAAMAw4RIAAAAAw4RLAAAAAAwTLgEAAAAwTLgEAAAAwDDhEgAAAADDhEsAAAAADBMuAQAAADBMuAQAAADAMOESAAAAAMOESwAAAAAMEy4BAAAAMEy4BAAAAMAw4RIAAAAAw/YsuwDG7T3r/B3re9/Zp+5Y3wAAAMANh5FLAAAAAAwTLgEAAAAwTLgEAAAAwDDhEgAAAADDLOgN7GoWrgcAANjdjFwCAAAAYJhwCQAAAIBhwiUAAAAAhllzicPOGjoAAABww2HkEgAAAADDhEsAAAAADDMtDg7Aqk7pW9W6AQAA2P2MXAIAAABgmHAJAAAAgGHCJQAAAACGCZcAAAAAGCZcAgAAAGCYcAkAAACAYSsRLlXV/arqHVV1eVWdtex6AAAAAJjs+nCpqm6a5DeTfFOSuyV5UFXdbblVAQAAAJCsQLiU5IQkl3f3O7v735M8P8lpS64JAAAAgCTV3cuuYb+q6tuT3K+7v2/+93cnuVd3P2phnzOTnDn/8wuTvGMHS7pdkg/tYP87ZVXrTla39lWtO1nd2le17mR1a1/VupPVrX1V605Wt/ZVrTtZ3dpXte5kdWtf1bqT1a19VetOVrf2Va07Wd3aV7XuZHVr38m6P6+7j95ow54dusNDqTZou04i1t3nJDnnsBRTdVF3H3847utQWtW6k9WtfVXrTla39lWtO1nd2le17mR1a1/VupPVrX1V605Wt/ZVrTtZ3dpXte5kdWtf1bqT1a19VetOVrf2Va07Wd3al1X3KkyLuyLJcQv/PjbJe5dUCwAAAAALViFcujDJXarqTlV1sySnJ3nZkmsCAAAAICswLa67r6mqRyV5VZKbJjm3uy9ZYkmHZfrdDljVupPVrX1V605Wt/ZVrTtZ3dpXte5kdWtf1bqT1a19VetOVrf2Va07Wd3aV7XuZHVrX9W6k9WtfVXrTla39lWtO1nd2pdS965f0BsAAACA3WsVpsUBAAAAsEsJlwAAAAAYJlwCAAAAYNiuX9B7marqi5KcluSYJJ3kvUle1t2XLrWwG7D5OT8myRu7+18W2u/X3X+0vMq2VlUnJOnuvrCq7pbkfkn+rrtfseTSDkhVPbu7H7LsOg5UVX1NkhOSvK27/3jZ9Wymqu6V5NLu/mhV3SLJWUm+Msnbk/xCd39kqQXuR1X9cJI/6O73LLuWA7FwptH3dvefVNWDk/zXJJcmOae7/2OpBW6hqr4gybckOS7JNUkuS/K7u/m9AgDAjYsFvTdRVT+Z5EFJnp/kirn52ExfUJ7f3Wcvq7aDUVXf093PXHYdG5m/uD4y0xe+eyT5ke5+6bztLd39lUssb7+q6nFJvilTYHtBknsleV2Sb0jyqu5+4vKq21xVvWx9U5L7JnlNknT3/zjsRW1TVb2pu0+Yb39/pvfOHyQ5OcnLd+vPaFVdkuTL5zNhnpPkX5O8KMlJc/u3LrXA/aiqjyT5eJJ/SPK7SX6vu69cblVbq6rnZvrZ/MwkH05yqyQvzvScV3efsbzq9m/+vfjfk/xpkvsnuTjJ1ZnCph/s7tctrTgAAJgJlzZRVX+f5O7r/6I9/wX8ku6+y3IqOzhV9e7u/txl17GRqnprkq/u7n+pqr2ZvnA/p7t/rar+uru/YrkVbm6u/R5Jbp7k/UmOXRiZ8sbu/rJl1reZqnpLphEzT880Oq8yhQanJ0l3/+nyqtu/xfdEVV2Y5P7dfWVV3TLJG7r7S5db4caq6tLu/uL59nVC06q6uLvvsbTitlBVf53knplC0+9M8j+SvDnTe+bF3f2xJZa3qar62+7+sqrak+SfknxOd3+qqirJ3+zWn8/k2t8tc72fmeQV3X1iVX1ukpfu5t+LcGNVVbfv7g8uu44bk6o6qrv/edl1wKFQVbdJ8pgkD0hy9Nz8wSQvTXJ2d394OZUdnKp6ZXd/07Lr2EhV3TrTc35skld29/MWtj21u39wacVtoao+O8njknw6yc8k+aEk35ZpwMaPdPf7Dlct1lza3KeTfM4G7Xect+1aVfW3m1zemuQOy65vP266NhWuu/clOTHJN1XVr2YKPXaza7r7U939r0n+obs/miTd/W/Z3e+X4zOFAz+d5CPzKIh/6+4/3c3B0uwmVXVEVR2VKSi/Mkm6++OZpg7tVm+rqu+Zb/9NVR2fJFV11yS7enpWpmmfn+7uP+7uh2X6HfnUTFNA37nc0vbrJvMfBj4r0+il28ztN0/yGUuravvWprDfPNNjSHe/O7u89qq6TVWdXVV/V1X/PF8undtuu+z6RlTVK5ddw/5U1a2r6her6jnz9M/FbU9dVl1bqarPrqqnVdVvVtVRVfX4qnprVb2wqu647Pr2p6qOXHc5Ksmb5v+fjlx2fZupqvst3L5NVT1j/qz4vKrazZ8VM/8Oud18+/iqemeSN1bVP1bV1y+5vE1V1Vuq6rHzVOeVMj/Pr62q/1dVx1XVBVX1kaq6sKp27R85qupWVfVzVXXJXO+VVfWGqnrosmvbwgszjVI+sbuP6u6jMs0suDrJ7y21si1U1Vducrlnpj/E71bPzPR98/eTnF5Vv19VN5+33Xt5ZW3LeZkGC7wnyWuT/FuSU5P8eZLfOpyFWHNpcz+a5NVVdVmmFypJPjfJnZM8allFbdMdkpyS6RfQokryV4e/nG17f1Xdo7svTpJ5BNM3Jzk3ya4chbLg36vqM+dw6Z5rjfNfHnZtuNTdn07y5Kr6vfn6A1md3wu3yRSMVZKuqs/u7vdX1a2yu8PI70vya1X12CQfSvL6qnpPpt8z37fUyrZ2ned1Htn5siQvm0fp7VbPSPJ3SW6aKUj9vfnLyL0zTX3ezZ6e5MKqekOSr0vypCSpqqOTXLXMwrbhhZmm2J7Y3e9P/vOva2dk+nD8jUusbVNVtdkU7Mru/mCcTB+OL8v04fh7q+rbkjy4uz+Z3f3h+Lwk5ye5ZaYPxs/N9MH4tEwfjE9bWmVb+1CSf1zXdkySt2QaEfz5h72i7fmFJGtrWf5KkvdlmoL7rUl+O9OIid3q1O4+a779y0m+c17v8q5JnpfpD2e70RFJbpvktVX1/kyjfl/Q3e9dalXb89RMIyNum+m7xP/s7m+sqpPmbV+9xNr257mZlkw4Jcl3ZPod8/wkj62qu3b3Ty2zuP3Y291PWmyY/x99UlV975Jq2q4LM03l3+iz+G0PbykH5Au6+9vm2y+pqp9O8pqq2rVLhCy4Q3f/RpJU1Q8uvHd+o6oedjgLMS1uP6rqJpkWCD4m0w/IFUku7O5PLbWwLVTVM5I8s7v/YoNtz+vuB29w2NJV1bGZRgC9f4Nt9+nuv1xCWdtSVTefP7yvb79dkjt291uXUNYBq6pTk9xnF/9nu6Wapg7dobvftexa9qeqPivTl449Sa7o7g8suaQtzR/E/n7ZdYyoqs9Jku5+7zxq5huSvLu737TUwrahqu6e5IszLVb/d8uuZ7uq6h3d/YUHum3ZqupT2fyD8b27e9cGqbVuau384fj+maawXrBb1y6s605zvs70/fWPabepqh/P9Pvkf639X19V7+ruOy23sv2rhWnZG7xvdvtz/ndJvmReu/AN3X3vhW1v3cXT4hef86/NtLbrt2aauvK73X3OMuvbny1+Rnft0hVV9Tfd/eUL/76wu79q/o739u7+oiWWt6mq+uMkf5LkWWufD+cRhQ9N8o3d/Q1LLG+/quptSb6luy/bYNt7uvu4JZS1paq6NNOSOJ9eaDsjyU8kuVV3f97SitvC4vu8qn6+ux+7sO2w/k5clREKSzG/ud6w7DoO1DxdZbNtuzJYSpLuvmI/23ZtsJQkGwVLc/uHMv1VcyV09/mZ/nq8subRY7s6WEqSeX2iv1l2HQdiVYOlZAqVFm5/ONOabiuhuy9Jcsmy6xjwj1X1E9n4w/FuPuPgpUl+YLMPxkuo50DcvKpusvbhuLufWFVXJPmzTAvZ71aLyzQ8e922mx7OQg5Ud/+fqnp+ptG/78k0umMV/nJ7+6r6sUwh6q2rqvravzjv9mUzfjPJK6rq7CR/VFVPybUnabh4iXVtW3f/eZI/r6ofyjSK8zuT7NpwKcknqurkTKPGu6oe0N0vmach7uY/un+8qr6mu/+iqv575hG/3f3pqtrNo9y/M9PZhP90/n+zk3wg02jx71hmYdvw+Gz+O+SHDmMdB+rlSf5bplAvSdLdz5pndfzG0qranpdW1a26+1/WBUt3TvKOw1mIcAkA2AmLH45vP7etfTh+4NKq2trjs5ofjJPV/XC8az4Yj5j/OPbA+cvrBZnWdtvtfifzGm5JnpXkdkmunKeuXrysoraju3+jpnVEH5Hkrpm+z9w1yUuSPGGJpW3len+gmWdD/FGunaK4Wz08yS9lWurhlCSPqKrzMp0k4/uXWNdWHp7k6fOUybcl+d7kP6eW/+YyC9uf7r66qp6Z6ffJG9bWpE3+c720Xft+6e4XVdUXzVMm37hYe5JPLKuurXT3T2xUd3f/UU1n7t21uvtn5tqPyXVrv7yqnn44azEtDgA4rKrqe7r7mcuu40Ctat3J6ta+anXP6899QXe/bdVqX7OqdSerW/uq1p2sbu27ue45zHhkppG098h0xq+Xztuuc6bh3WZVa59HET4qK1Z3srtqFy4BAIfV+jU7VsWq1p2sbu2rWneyurWvat3J6ta+qnUnq1v7bq57Hpn31T2d3Ghvpqn8z+nuX9vNa1wlq1v7qtad7K7aTYsDAA65qvrbzTZlOqvprrSqdSerW/uq1p2sbu2rWneyurWvat3J6ta+qnUnuenC1KZ9VXVikhdV1edld58ROVnd2le17mQX1S5cAgB2wh0yrc1x9br2ynQq691qVetOVrf2Va07Wd3aV7XuZHVrX9W6k9WtfVXrfn9V3aO7L06SeUTKNyc5N8muPBviglWtfVXrTnZR7cIlAGAn/GGm0/devH5DVb3usFezfatad7K6ta9q3cnq1r6qdSerW/uq1p2sbu2rWvdDklyz2NDd1yR5SFX99nJK2rZVrX1V6052Ue3WXAIAAABg2Gan2gUAAACALQmXAAAAABgmXAIAAABgmHAJAAAAgGH/P2IPUNHvEi3RAAAAAElFTkSuQmCC",
      "text/plain": [
       "<Figure size 1440x720 with 1 Axes>"
      ]
     },
     "metadata": {
      "needs_background": "light"
     },
     "output_type": "display_data"
    }
   ],
   "source": [
    "plt.figure(figsize=(20, 10))\n",
    "ax = instacart_train['order_hour_of_day'].value_counts().sort_index().plot(kind='bar')\n",
    "ax.set_title(label = 'Value Counts order_hour_of_day', fontsize = 20)\n",
    "plt.show()"
   ]
  },
  {
   "cell_type": "markdown",
   "metadata": {},
   "source": [
    "### days_since_prior_order\n",
    "- Numerisches Feature mit der Information über die Anzahl der vergangengen Tage seit der letzten seit der letzten Bestellung.\n",
    "- Es vergehen zwischen keinem und mehr als 30 Tage, bis die Personen erneut bestellen. Der Durchschnitt des Features ist alle 10,7 Tage."
   ]
  },
  {
   "cell_type": "code",
   "execution_count": 92,
   "metadata": {},
   "outputs": [
    {
     "data": {
      "image/png": "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",
      "text/plain": [
       "<Figure size 1440x720 with 1 Axes>"
      ]
     },
     "metadata": {
      "needs_background": "light"
     },
     "output_type": "display_data"
    }
   ],
   "source": [
    "plt.figure(figsize=(20, 10))\n",
    "ax = instacart_train['days_since_prior_order'].value_counts().sort_index().plot(kind='bar')\n",
    "ax.set_title(label = 'Value Counts days_since_prior_order', fontsize = 20)\n",
    "plt.show()"
   ]
  },
  {
   "cell_type": "markdown",
   "metadata": {},
   "source": [
    "### amount_ordered_products"
   ]
  },
  {
   "cell_type": "code",
   "execution_count": 93,
   "metadata": {},
   "outputs": [
    {
     "data": {
      "image/png": "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",
      "text/plain": [
       "<Figure size 1440x720 with 1 Axes>"
      ]
     },
     "metadata": {
      "needs_background": "light"
     },
     "output_type": "display_data"
    }
   ],
   "source": [
    "plt.figure(figsize=(20, 10))\n",
    "ax = instacart_train['amount_ordered_products'].value_counts().sort_index().plot(kind='bar')\n",
    "ax.set_title(label = 'Value Counts amount_ordered_products', fontsize = 20)\n",
    "plt.show()"
   ]
  },
  {
   "cell_type": "markdown",
   "metadata": {},
   "source": [
    "### amount_reordered_products"
   ]
  },
  {
   "cell_type": "code",
   "execution_count": 94,
   "metadata": {},
   "outputs": [
    {
     "data": {
      "image/png": "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",
      "text/plain": [
       "<Figure size 1440x720 with 1 Axes>"
      ]
     },
     "metadata": {
      "needs_background": "light"
     },
     "output_type": "display_data"
    }
   ],
   "source": [
    "instacart_train['amount_reordered_products'] = instacart_train['amount_reordered_products'].astype('int16')\n",
    "\n",
    "plt.figure(figsize=(20, 10))\n",
    "ax = instacart_train['amount_reordered_products'].value_counts().sort_index().plot(kind='bar')\n",
    "ax.set_title(label = 'Value Counts amount_ordered_products', fontsize = 20)\n",
    "plt.show()"
   ]
  },
  {
   "cell_type": "code",
   "execution_count": null,
   "metadata": {},
   "outputs": [],
   "source": []
  },
  {
   "cell_type": "code",
   "execution_count": 95,
   "metadata": {},
   "outputs": [
    {
     "data": {
      "image/png": "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",
      "text/plain": [
       "<Figure size 1440x720 with 1 Axes>"
      ]
     },
     "metadata": {
      "needs_background": "light"
     },
     "output_type": "display_data"
    }
   ],
   "source": [
    "instacart_train['factor_reordered_products'] = instacart_train['amount_reordered_products'] / instacart_train['amount_ordered_products']\n",
    "instacart_train['factor_reordered_products'] = instacart_train['factor_reordered_products'].round(1)\n",
    "\n",
    "plt.figure(figsize=(20, 10))\n",
    "ax = instacart_train['factor_reordered_products'].value_counts().sort_index().plot(kind='bar')\n",
    "ax.set_title(label = 'Value Counts factor_ordered_products', fontsize = 20)\n",
    "plt.show()"
   ]
  },
  {
   "cell_type": "markdown",
   "metadata": {},
   "source": [
    "### aisles_X"
   ]
  },
  {
   "cell_type": "markdown",
   "metadata": {},
   "source": [
    "### departments_X"
   ]
  },
  {
   "cell_type": "markdown",
   "metadata": {},
   "source": [
    "Beschreibung des products Datensatzes:\n",
    "\n",
    "Es sind fast 50.000 Produkte vorhanden, welche über 4 Spalten beschrieben werden. Der Datensatz ist vollständig, es gibt keine Null-Werte. "
   ]
  },
  {
   "cell_type": "code",
   "execution_count": 96,
   "metadata": {},
   "outputs": [
    {
     "data": {
      "text/plain": [
       "(49688, 4)"
      ]
     },
     "execution_count": 96,
     "metadata": {},
     "output_type": "execute_result"
    }
   ],
   "source": [
    "products.shape"
   ]
  },
  {
   "cell_type": "code",
   "execution_count": 97,
   "metadata": {},
   "outputs": [
    {
     "name": "stdout",
     "output_type": "stream",
     "text": [
      "<class 'pandas.core.frame.DataFrame'>\n",
      "RangeIndex: 49688 entries, 0 to 49687\n",
      "Data columns (total 4 columns):\n",
      " #   Column         Non-Null Count  Dtype   \n",
      "---  ------         --------------  -----   \n",
      " 0   product_id     49688 non-null  int32   \n",
      " 1   product_name   49688 non-null  category\n",
      " 2   aisle_id       49688 non-null  int16   \n",
      " 3   department_id  49688 non-null  int8    \n",
      "dtypes: category(1), int16(1), int32(1), int8(1)\n",
      "memory usage: 1.9 MB\n"
     ]
    }
   ],
   "source": [
    "products.info()"
   ]
  },
  {
   "cell_type": "markdown",
   "metadata": {},
   "source": [
    "Beschreibung des departments Datensatzes\n",
    "\n",
    "Es gibt 21 Abteilungen / Kategorien, in welche jedes Proukt eingeordnet wird. Der Datensatz besteht aus zwei Spalten. "
   ]
  },
  {
   "cell_type": "code",
   "execution_count": null,
   "metadata": {},
   "outputs": [],
   "source": [
    "departments.head()"
   ]
  },
  {
   "cell_type": "code",
   "execution_count": null,
   "metadata": {},
   "outputs": [],
   "source": [
    "departments.info()"
   ]
  },
  {
   "cell_type": "code",
   "execution_count": null,
   "metadata": {},
   "outputs": [],
   "source": [
    "departments.describe()"
   ]
  },
  {
   "cell_type": "markdown",
   "metadata": {},
   "source": [
    "Beschreibung des aisles Datensatzes\n",
    "\n",
    "Im Datensatz sind 134 Supermarktgänge gelistet, welche durch eine schriftliche Beschreibung genau aussagen, was in diesem Gang zu finden ist. "
   ]
  },
  {
   "cell_type": "code",
   "execution_count": null,
   "metadata": {},
   "outputs": [],
   "source": [
    "aisles.head()"
   ]
  },
  {
   "cell_type": "code",
   "execution_count": null,
   "metadata": {},
   "outputs": [],
   "source": [
    "aisles.info()"
   ]
  },
  {
   "cell_type": "code",
   "execution_count": null,
   "metadata": {},
   "outputs": [],
   "source": [
    "aisles.describe()"
   ]
  },
  {
   "cell_type": "markdown",
   "metadata": {},
   "source": [
    "## Daten verstehen"
   ]
  },
  {
   "cell_type": "code",
   "execution_count": 98,
   "metadata": {},
   "outputs": [
    {
     "data": {
      "text/html": [
       "<div>\n",
       "<style scoped>\n",
       "    .dataframe tbody tr th:only-of-type {\n",
       "        vertical-align: middle;\n",
       "    }\n",
       "\n",
       "    .dataframe tbody tr th {\n",
       "        vertical-align: top;\n",
       "    }\n",
       "\n",
       "    .dataframe thead th {\n",
       "        text-align: right;\n",
       "    }\n",
       "</style>\n",
       "<table border=\"1\" class=\"dataframe\">\n",
       "  <thead>\n",
       "    <tr style=\"text-align: right;\">\n",
       "      <th></th>\n",
       "      <th>order_id</th>\n",
       "      <th>tip</th>\n",
       "      <th>user_id</th>\n",
       "      <th>order_number</th>\n",
       "      <th>order_dow</th>\n",
       "      <th>order_hour_of_day</th>\n",
       "      <th>days_since_prior_order</th>\n",
       "      <th>amount_ordered_products</th>\n",
       "      <th>amount_reordered_products</th>\n",
       "      <th>aisles_1</th>\n",
       "      <th>...</th>\n",
       "      <th>departments_13</th>\n",
       "      <th>departments_14</th>\n",
       "      <th>departments_15</th>\n",
       "      <th>departments_16</th>\n",
       "      <th>departments_17</th>\n",
       "      <th>departments_18</th>\n",
       "      <th>departments_19</th>\n",
       "      <th>departments_20</th>\n",
       "      <th>departments_21</th>\n",
       "      <th>factor_reordered_products</th>\n",
       "    </tr>\n",
       "  </thead>\n",
       "  <tbody>\n",
       "    <tr>\n",
       "      <th>count</th>\n",
       "      <td>3.214874e+06</td>\n",
       "      <td>3.214874e+06</td>\n",
       "      <td>3.214874e+06</td>\n",
       "      <td>3.214874e+06</td>\n",
       "      <td>3.214874e+06</td>\n",
       "      <td>3.214874e+06</td>\n",
       "      <td>3008665.0</td>\n",
       "      <td>3.214874e+06</td>\n",
       "      <td>3.214874e+06</td>\n",
       "      <td>3214874.0</td>\n",
       "      <td>...</td>\n",
       "      <td>3214874.0</td>\n",
       "      <td>3214874.0</td>\n",
       "      <td>3214874.0</td>\n",
       "      <td>3214874.0</td>\n",
       "      <td>3214874.0</td>\n",
       "      <td>3214874.0</td>\n",
       "      <td>3214874.0</td>\n",
       "      <td>3214874.0</td>\n",
       "      <td>3214874.0</td>\n",
       "      <td>3.214874e+06</td>\n",
       "    </tr>\n",
       "    <tr>\n",
       "      <th>mean</th>\n",
       "      <td>1.710827e+06</td>\n",
       "      <td>4.217627e-01</td>\n",
       "      <td>1.029701e+05</td>\n",
       "      <td>1.719107e+01</td>\n",
       "      <td>2.776364e+00</td>\n",
       "      <td>1.344347e+01</td>\n",
       "      <td>NaN</td>\n",
       "      <td>1.008888e+01</td>\n",
       "      <td>5.949389e+00</td>\n",
       "      <td>NaN</td>\n",
       "      <td>...</td>\n",
       "      <td>NaN</td>\n",
       "      <td>NaN</td>\n",
       "      <td>NaN</td>\n",
       "      <td>NaN</td>\n",
       "      <td>NaN</td>\n",
       "      <td>NaN</td>\n",
       "      <td>NaN</td>\n",
       "      <td>NaN</td>\n",
       "      <td>NaN</td>\n",
       "      <td>5.995255e-01</td>\n",
       "    </tr>\n",
       "    <tr>\n",
       "      <th>std</th>\n",
       "      <td>9.875206e+05</td>\n",
       "      <td>4.938411e-01</td>\n",
       "      <td>5.953411e+04</td>\n",
       "      <td>1.779950e+01</td>\n",
       "      <td>2.041806e+00</td>\n",
       "      <td>4.226246e+00</td>\n",
       "      <td>0.0</td>\n",
       "      <td>7.525398e+00</td>\n",
       "      <td>5.842059e+00</td>\n",
       "      <td>0.0</td>\n",
       "      <td>...</td>\n",
       "      <td>0.0</td>\n",
       "      <td>0.0</td>\n",
       "      <td>0.0</td>\n",
       "      <td>0.0</td>\n",
       "      <td>0.0</td>\n",
       "      <td>0.0</td>\n",
       "      <td>0.0</td>\n",
       "      <td>0.0</td>\n",
       "      <td>0.0</td>\n",
       "      <td>3.408452e-01</td>\n",
       "    </tr>\n",
       "    <tr>\n",
       "      <th>min</th>\n",
       "      <td>2.000000e+00</td>\n",
       "      <td>0.000000e+00</td>\n",
       "      <td>1.000000e+00</td>\n",
       "      <td>1.000000e+00</td>\n",
       "      <td>0.000000e+00</td>\n",
       "      <td>0.000000e+00</td>\n",
       "      <td>0.0</td>\n",
       "      <td>1.000000e+00</td>\n",
       "      <td>0.000000e+00</td>\n",
       "      <td>0.0</td>\n",
       "      <td>...</td>\n",
       "      <td>0.0</td>\n",
       "      <td>0.0</td>\n",
       "      <td>0.0</td>\n",
       "      <td>0.0</td>\n",
       "      <td>0.0</td>\n",
       "      <td>0.0</td>\n",
       "      <td>0.0</td>\n",
       "      <td>0.0</td>\n",
       "      <td>0.0</td>\n",
       "      <td>0.000000e+00</td>\n",
       "    </tr>\n",
       "    <tr>\n",
       "      <th>25%</th>\n",
       "      <td>8.556832e+05</td>\n",
       "      <td>0.000000e+00</td>\n",
       "      <td>5.138500e+04</td>\n",
       "      <td>5.000000e+00</td>\n",
       "      <td>1.000000e+00</td>\n",
       "      <td>1.000000e+01</td>\n",
       "      <td>4.0</td>\n",
       "      <td>5.000000e+00</td>\n",
       "      <td>2.000000e+00</td>\n",
       "      <td>0.0</td>\n",
       "      <td>...</td>\n",
       "      <td>0.0</td>\n",
       "      <td>0.0</td>\n",
       "      <td>0.0</td>\n",
       "      <td>0.0</td>\n",
       "      <td>0.0</td>\n",
       "      <td>0.0</td>\n",
       "      <td>0.0</td>\n",
       "      <td>0.0</td>\n",
       "      <td>0.0</td>\n",
       "      <td>3.000000e-01</td>\n",
       "    </tr>\n",
       "    <tr>\n",
       "      <th>50%</th>\n",
       "      <td>1.711120e+06</td>\n",
       "      <td>0.000000e+00</td>\n",
       "      <td>1.026620e+05</td>\n",
       "      <td>1.100000e+01</td>\n",
       "      <td>3.000000e+00</td>\n",
       "      <td>1.300000e+01</td>\n",
       "      <td>7.0</td>\n",
       "      <td>8.000000e+00</td>\n",
       "      <td>4.000000e+00</td>\n",
       "      <td>0.0</td>\n",
       "      <td>...</td>\n",
       "      <td>0.0</td>\n",
       "      <td>0.0</td>\n",
       "      <td>0.0</td>\n",
       "      <td>1.0</td>\n",
       "      <td>0.0</td>\n",
       "      <td>0.0</td>\n",
       "      <td>0.0</td>\n",
       "      <td>0.0</td>\n",
       "      <td>0.0</td>\n",
       "      <td>7.000000e-01</td>\n",
       "    </tr>\n",
       "    <tr>\n",
       "      <th>75%</th>\n",
       "      <td>2.566034e+06</td>\n",
       "      <td>1.000000e+00</td>\n",
       "      <td>1.543720e+05</td>\n",
       "      <td>2.400000e+01</td>\n",
       "      <td>5.000000e+00</td>\n",
       "      <td>1.600000e+01</td>\n",
       "      <td>15.0</td>\n",
       "      <td>1.400000e+01</td>\n",
       "      <td>8.000000e+00</td>\n",
       "      <td>0.0</td>\n",
       "      <td>...</td>\n",
       "      <td>1.0</td>\n",
       "      <td>0.0</td>\n",
       "      <td>0.0</td>\n",
       "      <td>3.0</td>\n",
       "      <td>0.0</td>\n",
       "      <td>0.0</td>\n",
       "      <td>1.0</td>\n",
       "      <td>0.0</td>\n",
       "      <td>0.0</td>\n",
       "      <td>9.000000e-01</td>\n",
       "    </tr>\n",
       "    <tr>\n",
       "      <th>max</th>\n",
       "      <td>3.421083e+06</td>\n",
       "      <td>1.000000e+00</td>\n",
       "      <td>2.062090e+05</td>\n",
       "      <td>9.900000e+01</td>\n",
       "      <td>6.000000e+00</td>\n",
       "      <td>2.300000e+01</td>\n",
       "      <td>30.0</td>\n",
       "      <td>1.450000e+02</td>\n",
       "      <td>1.300000e+02</td>\n",
       "      <td>10.0</td>\n",
       "      <td>...</td>\n",
       "      <td>41.0</td>\n",
       "      <td>43.0</td>\n",
       "      <td>23.0</td>\n",
       "      <td>48.0</td>\n",
       "      <td>48.0</td>\n",
       "      <td>60.0</td>\n",
       "      <td>76.0</td>\n",
       "      <td>16.0</td>\n",
       "      <td>9.0</td>\n",
       "      <td>1.000000e+00</td>\n",
       "    </tr>\n",
       "  </tbody>\n",
       "</table>\n",
       "<p>8 rows × 165 columns</p>\n",
       "</div>"
      ],
      "text/plain": [
       "           order_id           tip       user_id  order_number     order_dow  \\\n",
       "count  3.214874e+06  3.214874e+06  3.214874e+06  3.214874e+06  3.214874e+06   \n",
       "mean   1.710827e+06  4.217627e-01  1.029701e+05  1.719107e+01  2.776364e+00   \n",
       "std    9.875206e+05  4.938411e-01  5.953411e+04  1.779950e+01  2.041806e+00   \n",
       "min    2.000000e+00  0.000000e+00  1.000000e+00  1.000000e+00  0.000000e+00   \n",
       "25%    8.556832e+05  0.000000e+00  5.138500e+04  5.000000e+00  1.000000e+00   \n",
       "50%    1.711120e+06  0.000000e+00  1.026620e+05  1.100000e+01  3.000000e+00   \n",
       "75%    2.566034e+06  1.000000e+00  1.543720e+05  2.400000e+01  5.000000e+00   \n",
       "max    3.421083e+06  1.000000e+00  2.062090e+05  9.900000e+01  6.000000e+00   \n",
       "\n",
       "       order_hour_of_day  days_since_prior_order  amount_ordered_products  \\\n",
       "count       3.214874e+06               3008665.0             3.214874e+06   \n",
       "mean        1.344347e+01                     NaN             1.008888e+01   \n",
       "std         4.226246e+00                     0.0             7.525398e+00   \n",
       "min         0.000000e+00                     0.0             1.000000e+00   \n",
       "25%         1.000000e+01                     4.0             5.000000e+00   \n",
       "50%         1.300000e+01                     7.0             8.000000e+00   \n",
       "75%         1.600000e+01                    15.0             1.400000e+01   \n",
       "max         2.300000e+01                    30.0             1.450000e+02   \n",
       "\n",
       "       amount_reordered_products   aisles_1  ...  departments_13  \\\n",
       "count               3.214874e+06  3214874.0  ...       3214874.0   \n",
       "mean                5.949389e+00        NaN  ...             NaN   \n",
       "std                 5.842059e+00        0.0  ...             0.0   \n",
       "min                 0.000000e+00        0.0  ...             0.0   \n",
       "25%                 2.000000e+00        0.0  ...             0.0   \n",
       "50%                 4.000000e+00        0.0  ...             0.0   \n",
       "75%                 8.000000e+00        0.0  ...             1.0   \n",
       "max                 1.300000e+02       10.0  ...            41.0   \n",
       "\n",
       "       departments_14  departments_15  departments_16  departments_17  \\\n",
       "count       3214874.0       3214874.0       3214874.0       3214874.0   \n",
       "mean              NaN             NaN             NaN             NaN   \n",
       "std               0.0             0.0             0.0             0.0   \n",
       "min               0.0             0.0             0.0             0.0   \n",
       "25%               0.0             0.0             0.0             0.0   \n",
       "50%               0.0             0.0             1.0             0.0   \n",
       "75%               0.0             0.0             3.0             0.0   \n",
       "max              43.0            23.0            48.0            48.0   \n",
       "\n",
       "       departments_18  departments_19  departments_20  departments_21  \\\n",
       "count       3214874.0       3214874.0       3214874.0       3214874.0   \n",
       "mean              NaN             NaN             NaN             NaN   \n",
       "std               0.0             0.0             0.0             0.0   \n",
       "min               0.0             0.0             0.0             0.0   \n",
       "25%               0.0             0.0             0.0             0.0   \n",
       "50%               0.0             0.0             0.0             0.0   \n",
       "75%               0.0             1.0             0.0             0.0   \n",
       "max              60.0            76.0            16.0             9.0   \n",
       "\n",
       "       factor_reordered_products  \n",
       "count               3.214874e+06  \n",
       "mean                5.995255e-01  \n",
       "std                 3.408452e-01  \n",
       "min                 0.000000e+00  \n",
       "25%                 3.000000e-01  \n",
       "50%                 7.000000e-01  \n",
       "75%                 9.000000e-01  \n",
       "max                 1.000000e+00  \n",
       "\n",
       "[8 rows x 165 columns]"
      ]
     },
     "execution_count": 98,
     "metadata": {},
     "output_type": "execute_result"
    }
   ],
   "source": [
    "instacart_train.describe()"
   ]
  },
  {
   "cell_type": "markdown",
   "metadata": {},
   "source": [
    "- Weitere Fragestellungen\n",
    "    - DOW zu Tip\n",
    "    - Uhrzeit zu Tip\n",
    "    - Days since prior order zu Tip\n",
    "    - Order Number zu Tip\n",
    "    - Departments zu Tip\n",
    "    - Aisles zu Tip\n",
    "    - Anzahl Produkte in der Bestellung zu Tip\n",
    "    - Top Nutzer nach Tip, Neg Nutzer nach Tip\n",
    "    - Products zu Tip (Top 20?, Neg 20?)"
   ]
  },
  {
   "cell_type": "markdown",
   "metadata": {},
   "source": [
    "### User zu tip\n",
    "- Je höher die durchschnittliche tip-Wahrscheinlichkeit des Nutzers ist, dest höher ist die Wahrscheinlichkeit, dass er auch bei der vorliegenden Bestellung einen tip geben hat.\n",
    "- Auch bei der Betrachtung der (1 und 3) direkt zuvor erfolgen Bestellung. ist eine Korrelation der vorherigen tips mit der tip-Wahrscheinlichkeit für die vorliegende Bestellung wahrscheinlich. "
   ]
  },
  {
   "cell_type": "code",
   "execution_count": 99,
   "metadata": {},
   "outputs": [],
   "source": [
    "# Order the dataframe by user_id and order_number\n",
    "instacart_train = instacart_train.sort_values(['user_id', 'order_number'], ascending = [True, True])\n",
    "\n",
    "# Shift the value previous tips per user and fill Nans with 0s\n",
    "instacart_train['previous_order_tip'] = instacart_train.groupby('user_id')['tip'].shift(1)\n",
    "instacart_train['previous_order_tip']= instacart_train['previous_order_tip'].fillna(0)\n",
    "instacart_train['2_previous_order_tip'] = instacart_train.groupby('user_id')['tip'].shift(2)\n",
    "instacart_train['2_previous_order_tip']= instacart_train['2_previous_order_tip'].fillna(0)\n",
    "instacart_train['3_previous_order_tip'] = instacart_train.groupby('user_id')['tip'].shift(3)\n",
    "instacart_train['3_previous_order_tip']= instacart_train['3_previous_order_tip'].fillna(0)\n",
    "instacart_train['3_previous_tip_user'] = (instacart_train['previous_order_tip'] + instacart_train['2_previous_order_tip'] + instacart_train['3_previous_order_tip']) / 3\n",
    "instacart_train['3_previous_tip_user'].round(1)\n",
    "instacart_train = instacart_train.drop(columns=['3_previous_order_tip', '2_previous_order_tip'])\n",
    "\n",
    "# Get the mean tip value per user\n",
    "instacart_train['mean_tip_user'] = instacart_train.groupby('user_id')['tip'].transform('mean')\n",
    "instacart_train['mean_tip_user'] = instacart_train['mean_tip_user'].round(1)"
   ]
  },
  {
   "cell_type": "code",
   "execution_count": 100,
   "metadata": {},
   "outputs": [
    {
     "data": {
      "image/png": "iVBORw0KGgoAAAANSUhEUgAABIEAAAJoCAYAAADxrfGxAAAAOXRFWHRTb2Z0d2FyZQBNYXRwbG90bGliIHZlcnNpb24zLjQuMywgaHR0cHM6Ly9tYXRwbG90bGliLm9yZy/MnkTPAAAACXBIWXMAAAsTAAALEwEAmpwYAAAylklEQVR4nO3de7xsZV0/8M9Xjpa3RBNNQTqYeKEStSN4qYRMRako9VVCeTezxJ+YlqhZmv1+YVa/Mi+IitivzMpbJCDmhRLtJAdFFBU96lEQU1Dxngg+vz/W2jAMe3P23mfOmeE87/frNa89s9aatb4zz5rZez77eZ6p1loAAAAA2L1db94FAAAAALDzCYEAAAAAOiAEAgAAAOiAEAgAAACgA0IgAAAAgA4IgQAAAAA6IAQC4DqnqlpVnTG17Hnj8kPmUtRuqqoOGZ/X5827lt1dVZ1RVW3edXDdt7Nft1V10rj/jTtj/wDsPEIggN1UVb1u/CP9t1ex7b+N2/7yTqhDiADxwZnFM/H+vJbLxnnXDcD6bZh3AQDsNCckOTLJbyZ5+UobjX/Q3z/JF5K8dZdUtuPukuTb8y4CZuxRSW407yLoyrYkz59atmeSpyb5WpK/WuY+lyZ5VpLjknx+p1UGwE4hBALYTbXWzqiqTyS5e1Xdo7X2gRU2fUKSSvKa1trlu67C9WutfXzeNcCstdY+N+8a6EtrbVuS500uG/8x8NQkl7bWnneNOw0uzfCPAwCuYwwHA9i9vXL8+ZvLrayqPZI8JklL8qqJ5Xceh65cUFXfraovjsPL7rTMPpaGuNy+qp5SVedW1XfG+U1OSvLucdM/mhpScMjUfo6sqndX1Ver6n+q6mNV9QdV9QPLHPMacwKt8Pg2jtuetML6a8zBMjl8raruVlWnVNWlVfXtqvr3qrrPCvu6TVW9pqq+ND7+c6rq0WsdDldVjxm3f0xVHTrW+I2q+vpYy12Wuc8dq+q4qtpSVRePbfbZqjqhqva5lmM9sKr+daz5u2N7/0tV/fwK26/6+Vjh/le2R1X9WFW9oaq+PD6+t1fVT4zb7TXW/oXxXDirqg5dYZ8bqup3qmrz+Bx9u6o+WFVHV9U1/s4Zn9c3VtWnx3b6elW9t6p+Y4X9nzHWvKGqnl1Vn5x4rl5YVTdY5WNvSR493vzMxOtg2/Sxpu43eT7eu6reUVVfG5+z06tq02qOP+5r8vm/c1W9paq+UlXfqqozq+qB13LfNb8+q+pHqupVVfX5qrqiqh6znfquPPdXWL/cXGA3rarnVtVHxrb8RlV9qqr+sap+apl9HDyed/9dVZeN7fiKqrrtMtsutf0NquoPq+r8se1P2s7j2JXvO7euqlfX8B595fvOtdU3C7XM0MYdOb8A2HX0BALYvb02yf9OclRVPb21Nj2E6iFJ9k7yb621zyRJVR2W5E1Jrp/kX5NsTbJPkocmObyqDl2hV9FfJ/mZJKckOTXJFUnOGtc9Osm/JzljYvttS1eq6tVJHpfkwvHYlya5V5IXJLl/VT1gDr2UNiX5/ST/mSEg2zfJw5K8s6ru1lo7f2nDqrpVkvcl2ZjkP8brP5LkZUnevs7j/0KSI5KcluT4JAdkaK97VtUBrbVLJrZ9aJInZQjc3pfksiQ/nqGX1y9W1abW2tWGbVTV85P8YZJvJnlLkguS3DbJfZL8RpJ3rPf5WIWNSf4ryceSnDTe/pUkZ1TVvZO8LcnXk/xjklskeUSS06rqjpO9Zapq6Rx9UJLzk7wuyf8kOTTJ3yQ5OMkjp4798iQfzdBOX0jywxme1/9XVXdqrT13hZpfl+H8Pm2s7SHj83GrJI9dxWN+fpJfTnJghtfKpePyS5ff/BoOzjAE5x1JXprkDhna/Wer6oGttfescj9Jsl+GdvxIklckuU2SX8vwHB/VWvvHyY3X+fq8RZLNGc6vNyX5fpIvrqHG7aqqynCu3CdXnZeXJ7ldkkOSvCfJ2RPbPzZDMP7dJCdnOOf3z1Wvk3ut0BvrjUnumaHt35LkS7N8HFPW8r7zwxle77dPcuZ4uU2G94v1vu/MwprOLwB2sdaai4uLi8tufMnwQbolecwy6/5lXPfw8fbNk3w1ySVJDpja9sczfKD7wNTyk8Z9fD7Jfssc45Bx/fNWqO8x4/o3Jbnh1LrnjeueOrW8JTljhW0PmVi2cVx20grHPmP4Vbhsvdd4zpL81rj8ZVPLXz0uf+HU8gMzfOBc8fFfy/NxeZL7T63703Hd708t3zvJDyyzrwdmCONevszyluTTSfZe5n777MjzcS2PbePEvp4zte654/KvZPgQe72JdY8c1/3fFdr8b5LsMbF8j4k2OWLqPj+2TF03SPLOJN+bfj6WzpEMYcItJpbfOENAekWSH1nl4z9p3NfGdZ6PR0+tO2Jc/snJ52uVz/+LptZtGh//V5P80Axeny3J3ybZsJrnZupY13ivmtjvGRO3f3Jc9uZltr1ekptP3L5jhnB06zJt/HNjO755avlS25+b5JZreBxLz/POft85Icu/LpbactXvOyvUv20t5/J6zi8XFxcXl11/MRwMYPd3wvjzCZMLq+o2GXozfDFDGJQME9PumeSPWmsfndy+tXZehv+i372qDljmOH/Wxt5Ea/TUDIHH41pr35la94IkX07y6+vY7456b2vtpKllJ2ao9aClBTUMBzoywySqfzK5cWvtQxk+CK/H61tr75xattSWB00ubK19vrX23ekdtNbenuS8DD1lJj1l/Pn0NtVDaLzfhcvUs6rnY5W2ZZhUdtJrx58/kOT3Wmvfn1j3uvE4d1taUMNQr6OT/HeSp7XWrpio/4okT8/wYfRq505r7VPTxbTWLsvQu2ZDhknSl/PM1tpXJu7zrSR/nyFsWPWQrB2wNUPPsiu11v4lQw+7O2TopbRaX0vyx1P72pLh8eyZoVfWkvW+Pi9L8oy2a3rwTdeV1tr3W2tfnVj02xl6Nz51+pxvrb0rQ8+gX6yqmy6z/+e2q/e825lW+75z/QzP+zcyNafPRFvOy1rOLwB2McPBAHZ/70ryqST3raq7tNY+Ni5/bIbfAye11r43Lrv3+PPAWn4OmzuOP++SYUjNpPevtbCqulGG3jKXJDlmGN1xDd8dj7erbZle0Fr7XlV9MUOPqSV3SnLDJFtaa99YZj9nZiqAW+/xMwxfydTxl4bF/HqGnhQHjuv3mNjksqn93CtDQPK2HalnhedjNc6ZDG1GF40/PzH9PLbWrhiPMzm/0R0zDOX6ZJI/WOHc+U6mzp2q2jfJMzOEPftmaLtJe69Q86rbYyd5z1QwtuSMJPdLcvcMgdBqfGCFc/WMDEM3757ktTv4+tzWWtuZw6aS4T3onCRHVtWPZgizz8zwWpw+55fe2+5XVfdcZl+3yvCauWMmhpCN1vzetgNW+zq7c4ZvkntPa+1ry+znjFw1B9Wutqrza5dWBMCVhEAAu7nWWquqV2UYSvSEJE8fQ4PHZ2pC6AwfqpMVJpKecJNllv33Osq7eYZvJtsryR+t4/4706UrLL88Vw9Ybjb+XGm+k/XOg3KN47fWLh8/iO8xteovkxyTYY6b0zMMzVvqHfGYJD86tf2eSb66TM+ONdUzmn4+VuMaH1onHttyH2iXjnP9idtL5+r+ufZz58pztapun+ED/c0zzBfz9vF4V2QYyvLoDD2RrqG1dukKNSVrf/zrsdJ5tPS6u9kK63dkXzvy+lzP+8GajOHgz2WY2+rhSV44rvpGVb02ybNaa98cly2dL7+3nd3O6r1tvS5dYfla33d2Zc3TZnmuAjBjQiCAPrwmQ/f8R1XVszIMHbl9kne11rZObLf0AfzA1tq5azxGW0ddS8f7YGvtHuu4//Ys9ZxY6ffdnjM4xtfHn7deYf1Ky2dinJT6f2WYhPU+0/+Br6ojl7nbpUl+uKpuuMYgaJEsnTtvbq09dJX3+d0MYcBjp4fcjM/TvHpOrMZK59GPjD9XCs92ZF878vpcz/vBiq/Xqtpz2YMMQ76eluRpVXWHDL2ifivDUME9c9XE4EuP5Watta9P7+fatNbW+lh2xfvO0uPZXlvOwyzPVQBmzJxAAB1orX0xw5wXt8zwDUVLPX1OmNp08/hzLfOLbM/SsJ9r9JYY/0t/XpIfr6pbzPCYS5bmBLnd9Iqq+qFcNbxtR3w8Q6+bu64wn8hPz+AY1+b2GX6fv32ZAGifcf20zRl6eBy2k2vbmT6e8VuqxvlRVuMO4883LrPufrMoajtWfC2swk/XMl95n2FC4ST54Br2dY8VztWr7WsXvD6nrfh6zSrmXWqtbW2tvTpDW34zw8TZS3bGe9tKdtX7zreT3K2qlutZc8gMjrFeqzq/AJgPIRBAP145/nx6hiDokiRvntrmNRk+WP9RVV1jst+qul5VHbLG4355/LnvCuv/MsO3M5243H/7q+rmVbWuXkJjKPLxDPMhXTmZdVXtMR53ej6Y9RzjsgzfwHazJH8wua6qDsww2fbOtG38+dPj41o69k0ytPlyvRH+Zvz5F1V1jTlwllu2aMYJh/8mw9dPv7iqrtGWVXWbqUnMt40/D5na7kFZ37xNa7W918K12T/J70wuqKojMgQeWzMMb1utm2UYQjW5r00Z5pX6Wq7+vrDTXp/L2JKhF81R43xES8e4RZI/W+bY+1XVjy+zn5tnGNY32cvtJRm+ner/VtU1QpiqukFVzSQg2kXvO9/LMNHyTTM1MfREW87LWs4vAHYxw8EA+vH2JJ/JVd8w85LpyVNba1+uqodn+CN9c1W9M0NPgO9n+OB67wzDaX5wDcc9P8McNY+oqsuSfC7DUJH/11r7bGvtxKr6qQwfcD9VVaeP29wiyX5JfjZDOPWkdTzmJHlRhq8Lf29V/XOS/0lyaIb5ZT6UYeLbHXVshq+Z/v2qOjjJ+zKEE7+a5NQModtyk/rusNbaf1fV65M8Isk5VfX2DB/CHpDhsZ6TiW/VGu/z9qp6QYavZf9YVb0lwyTHt87Qc2lzhrmEFt0LMrTfkzJ8s9O7Mpxrt8oQmtw3yXNy1STmL8swIfo/V9Ubx21/IkOPqH9K8ms7ud53ZpiT5pVV9YYMvVUuba29ZBX3fVuG0O7BGc7bOyR5aIY2fvwKk0av5D+SPGE8V9+b4Vz9tQz/HPytyeFSu+D1eaXW2heq6u8zDOE6p6pOSfJDGb7F8D8yTCg86cAkb66qszMMh7wow/xFR2R4fb9wYt8fr6rHZfimrfOq6m1JPjFut2+GHkIXZ5hweRZ2xfvOszNMcH7MGLKcmava8tQkvzSDY6zHqs8vAHY9IRBAJ8YJol+dq77G/JUrbPfOqrprkmdk+Grxn8nw7VIXZfimseWG0lzbca+oql/J8JXgv5rhP9eV4QPLZ8dtnlxVp2X4IPnzGebM+EqGD5svSvJ3aznm1PFPHCfC/t0Mc758NcO3CD17rY/lWo7xxaq6T5L/k+ED68EZwq/fSfKtDCHQzvzg8/gkn87wQevJGT7Mnpzhv/HLPsbW2h9W1eYM8wn9QpIbJ/lSht4Y6/1a+11q/NakX07yGxlCq1/IMLHvxRkCz+dm4quyW2vnVtWhGV4DD8nwd9CHMoQpl2Ynh0CttdOr6ukZhmM+LUMPm89m6KWyPf+VYV6vF2SY76YyvB6f01o7a42lfCbDa+248ecPJPlAkj9urZ2+TN077fW5jN/MMLHwkRnO5c8lefF4nF+d2nZLhgnv75chyLt5hrY/O8mLW2unTT2Ov6uqD2XoDXlokgdmeH1elOQNGXr0zcQuet+5pKrum+F95xczDJk7P8lvZ+j1Nq8QaE3nFwC7Vq19rjsAYLWq6n9n+OB3mA9ArNU4/PLdSZ7fWnveDu5rY4YP6K9trT1mB0uDq3F+AVw3mBMIAGagqm67zLKfzNDT5itJ/n2XFwUAABMMBwOA2dhSVVszzE3yrQxz0hye4R8uT2qt/c88iwMAACEQAMzGKzLM/XNkhnmPLk1yepI/b62dMbeqAABgZE4gAAAAgA7MrSfQLW95y7Zx48Z5HR4AAABgt3P22Wdf0lrba7l1cwuBNm7cmC1btszr8AAAAAC7nar67ErrfDsYAAAAQAeEQAAAAAAdEAIBAAAAdEAIBAAAANABIRAAAABAB4RAAAAAAB0QAgEAAAB0QAgEAAAA0AEhEAAAAEAHhEAAAAAAHRACAQAAAHRACAQAAADQASEQAAAAQAeEQAAAAAAdEAIBAAAAdEAIBAAAANCB7YZAVXViVX2pqj6ywvqqqhdX1daqOreq7jH7MgEAAADYEavpCXRSksOuZf2Dk+w/Xp6Y5OU7XhYAAAAAs7TdEKi19h9JvnItmxyR5G/bYHOSPavqNrMqEAAAAIAdN4s5gfZOcsHE7QvHZddQVU+sqi1VteXiiy+ewaEBAAAAWI1ZhEC1zLK23IattRNaa5taa5v22muvGRwaAAAAgNWYRQh0YZLbTdzeJ8lFM9gvAAAAADMyixDo5CSPGr8l7F5JvtZa+8IM9gsAAADAjGzY3gZV9Q9JDklyy6q6MMkfJbl+krTWjk9yapKHJNma5NtJHruzigUAAABgfbYbArXWjtzO+pbkyTOrCAAAAGC08dhT5l3CzGw77vC5Hn8Ww8EAAAAAWHBCIAAAAIAOCIEAAAAAOiAEAgAAAOiAEAgAAACgA0IgAAAAgA4IgQAAAAA6IAQCAAAA6IAQCAAAAKADQiAAAACADgiBAAAAADogBAIAAADogBAIAAAAoANCIAAAAIAOCIEAAAAAOiAEAgAAAOiAEAgAAACgA0IgAAAAgA4IgQAAAAA6IAQCAAAA6IAQCAAAAKADQiAAAACADgiBAAAAADogBAIAAADogBAIAAAAoANCIAAAAIAOCIEAAAAAOiAEAgAAAOiAEAgAAACgA0IgAAAAgA4IgQAAAAA6IAQCAAAA6IAQCAAAAKADQiAAAACADgiBAAAAADogBAIAAADogBAIAAAAoANCIAAAAIAOCIEAAAAAOiAEAgAAAOiAEAgAAACgA0IgAAAAgA4IgQAAAAA6IAQCAAAA6IAQCAAAAKADQiAAAACADgiBAAAAADqwYd4FAAAAwKLYeOwp8y5hJrYdd/i8S2AB6QkEAAAA0AEhEAAAAEAHhEAAAAAAHRACAQAAAHRACAQAAADQASEQAAAAQAeEQAAAAAAdEAIBAAAAdEAIBAAAANABIRAAAABAB4RAAAAAAB0QAgEAAAB0QAgEAAAA0AEhEAAAAEAHhEAAAAAAHRACAQAAAHRACAQAAADQASEQAAAAQAeEQAAAAAAdEAIBAAAAdEAIBAAAANABIRAAAABAB4RAAAAAAB0QAgEAAAB0QAgEAAAA0AEhEAAAAEAHhEAAAAAAHRACAQAAAHRACAQAAADQASEQAAAAQAeEQAAAAAAdEAIBAAAAdEAIBAAAANABIRAAAABAB4RAAAAAAB0QAgEAAAB0QAgEAAAA0AEhEAAAAEAHhEAAAAAAHRACAQAAAHRACAQAAADQASEQAAAAQAeEQAAAAAAdEAIBAAAAdEAIBAAAANABIRAAAABAB4RAAAAAAB1YVQhUVYdV1flVtbWqjl1m/c2q6l+r6kNVdV5VPXb2pQIAAACwXtsNgapqjyQvTfLgJAckObKqDpja7MlJPtpaOzDJIUn+oqpuMONaAQAAAFin1fQEOijJ1tbap1trlyV5fZIjprZpSW5aVZXkJkm+kuTymVYKAAAAwLqtJgTaO8kFE7cvHJdNekmSuyS5KMmHkzy1tfb9mVQIAAAAwA5bTQhUyyxrU7cflOScJLdNcrckL6mqH7rGjqqeWFVbqmrLxRdfvMZSAQAAAFiv1YRAFya53cTtfTL0+Jn02CRvaoOtST6T5M7TO2qtndBa29Ra27TXXnutt2YAAAAA1mjDKrY5K8n+VbVfks8neUSSo6a2+VyS+yd5T1XdOsmdknx6loUCAADsTjYee8q8S5iZbccdPu8SgFXYbgjUWru8qo5OcnqSPZKc2Fo7r6qeNK4/PskLkpxUVR/OMHzsma21S3Zi3QAAAACswWp6AqW1dmqSU6eWHT9x/aIkD5xtaQAAAADMymrmBAIAAADgOk4IBAAAANABIRAAAABAB4RAAAAAAB0QAgEAAAB0QAgEAAAA0AEhEAAAAEAHhEAAAAAAHRACAQAAAHRACAQAAADQASEQAAAAQAeEQAAAAAAdEAIBAAAAdEAIBAAAANABIRAAAABAB4RAAAAAAB0QAgEAAAB0QAgEAAAA0AEhEAAAAEAHhEAAAAAAHRACAQAAAHRACAQAAADQASEQAAAAQAeEQAAAAAAdEAIBAAAAdEAIBAAAANABIRAAAABAB4RAAAAAAB0QAgEAAAB0QAgEAAAA0AEhEAAAAEAHhEAAAAAAHRACAQAAAHRACAQAAADQASEQAAAAQAeEQAAAAAAdEAIBAAAAdEAIBAAAANABIRAAAABAB4RAAAAAAB0QAgEAAAB0QAgEAAAA0AEhEAAAAEAHhEAAAAAAHRACAQAAAHRACAQAAADQASEQAAAAQAeEQAAAAAAdEAIBAAAAdEAIBAAAANCBDfMuAAAA2Pk2HnvKvEuYiW3HHT7vEgCus/QEAgAAAOiAEAgAAACgA0IgAAAAgA4IgQAAAAA6IAQCAAAA6IAQCAAAAKADQiAAAACADgiBAAAAADogBAIAAADogBAIAAAAoANCIAAAAIAOCIEAAAAAOiAEAgAAAOiAEAgAAACgA0IgAAAAgA4IgQAAAAA6IAQCAAAA6IAQCAAAAKADQiAAAACADgiBAAAAADogBAIAAADogBAIAAAAoANCIAAAAIAOCIEAAAAAOiAEAgAAAOiAEAgAAACgA0IgAAAAgA4IgQAAAAA6IAQCAAAA6IAQCAAAAKADQiAAAACADgiBAAAAADogBAIAAADogBAIAAAAoANCIAAAAIAOCIEAAAAAOiAEAgAAAOiAEAgAAACgA0IgAAAAgA4IgQAAAAA6IAQCAAAA6IAQCAAAAKADQiAAAACADgiBAAAAADogBAIAAADowKpCoKo6rKrOr6qtVXXsCtscUlXnVNV5VfXvsy0TAAAAgB2xYXsbVNUeSV6a5AFJLkxyVlWd3Fr76MQ2eyZ5WZLDWmufq6pb7aR6AQAAAFiH1fQEOijJ1tbap1trlyV5fZIjprY5KsmbWmufS5LW2pdmWyYAAAAAO2I1IdDeSS6YuH3huGzSHZPcvKrOqKqzq+pRy+2oqp5YVVuqasvFF1+8vooBAAAAWLPtDgdLUsssa8vs56eS3D/JDZP8Z1Vtbq194mp3au2EJCckyaZNm6b3AQDAbmDjsafMu4SZ2Xbc4fMuAQBmZjUh0IVJbjdxe58kFy2zzSWttW8l+VZV/UeSA5N8IgAAAADM3WqGg52VZP+q2q+qbpDkEUlOntrmX5L8TFVtqKobJTk4ycdmWyoAAAAA67XdnkCttcur6ugkpyfZI8mJrbXzqupJ4/rjW2sfq6q3JTk3yfeTvKq19pGdWTgAAAAAq7ea4WBprZ2a5NSpZcdP3X5RkhfNrjQAAAAAZmU1w8EAAAAAuI4TAgEAAAB0QAgEAAAA0AEhEAAAAEAHhEAAAAAAHRACAQAAAHRACAQAAADQASEQAAAAQAeEQAAAAAAdEAIBAAAAdEAIBAAAANABIRAAAABAB4RAAAAAAB0QAgEAAAB0QAgEAAAA0AEhEAAAAEAHhEAAAAAAHRACAQAAAHRACAQAAADQASEQAAAAQAeEQAAAAAAdEAIBAAAAdEAIBAAAANABIRAAAABAB4RAAAAAAB0QAgEAAAB0QAgEAAAA0AEhEAAAAEAHhEAAAAAAHRACAQAAAHRACAQAAADQASEQAAAAQAeEQAAAAAAdEAIBAAAAdEAIBAAAANABIRAAAABAB4RAAAAAAB0QAgEAAAB0QAgEAAAA0AEhEAAAAEAHhEAAAAAAHRACAQAAAHRACAQAAADQASEQAAAAQAeEQAAAAAAdEAIBAAAAdEAIBAAAANCBDfMuAABgR2w89pR5lzAz2447fN4lAAC7MT2BAAAAADogBAIAAADogBAIAAAAoANCIAAAAIAOCIEAAAAAOiAEAgAAAOiAEAgAAACgA0IgAAAAgA4IgQAAAAA6IAQCAAAA6IAQCAAAAKADQiAAAACADgiBAAAAADogBAIAAADogBAIAAAAoANCIAAAAIAOCIEAAAAAOiAEAgAAAOiAEAgAAACgA0IgAAAAgA4IgQAAAAA6IAQCAAAA6IAQCAAAAKADQiAAAACADgiBAAAAADogBAIAAADogBAIAAAAoANCIAAAAIAOCIEAAAAAOiAEAgAAAOiAEAgAAACgA0IgAAAAgA4IgQAAAAA6IAQCAAAA6IAQCAAAAKADQiAAAACADgiBAAAAADogBAIAAADogBAIAAAAoANCIAAAAIAOCIEAAAAAOiAEAgAAAOiAEAgAAACgA0IgAAAAgA4IgQAAAAA6IAQCAAAA6IAQCAAAAKADQiAAAACADqwqBKqqw6rq/KraWlXHXst296yqK6rq4bMrEQAAAIAdtd0QqKr2SPLSJA9OckCSI6vqgBW2e2GS02ddJAAAAAA7ZjU9gQ5KsrW19unW2mVJXp/kiGW2e0qSNyb50gzrAwAAAGAGNqxim72TXDBx+8IkB09uUFV7J/mVJD+X5J4r7aiqnpjkiUmy7777rrVWAJirjceeMu8SZmbbcYfPuwQAAHax1fQEqmWWtanbf5Xkma21K65tR621E1prm1prm/baa69VlggAAADAjlpNT6ALk9xu4vY+SS6a2mZTktdXVZLcMslDqury1tpbZlEkAAAAADtmNSHQWUn2r6r9knw+ySOSHDW5QWttv6XrVXVSkrcKgAAAAAAWx3ZDoNba5VV1dIZv/dojyYmttfOq6knj+uN3co0AAAAA7KDV9ARKa+3UJKdOLVs2/GmtPWbHywIAAABgllYzMTQAAAAA13FCIAAAAIAOCIEAAAAAOiAEAgAAAOiAEAgAAACgA0IgAAAAgA4IgQAAAAA6IAQCAAAA6IAQCAAAAKADQiAAAACADgiBAAAAADogBAIAAADogBAIAAAAoANCIAAAAIAOCIEAAAAAOiAEAgAAAOiAEAgAAACgA0IgAAAAgA4IgQAAAAA6IAQCAAAA6IAQCAAAAKADQiAAAACADgiBAAAAADogBAIAAADogBAIAAAAoANCIAAAAIAOCIEAAAAAOiAEAgAAAOiAEAgAAACgA0IgAAAAgA4IgQAAAAA6IAQCAAAA6IAQCAAAAKADQiAAAACADgiBAAAAADogBAIAAADogBAIAAAAoANCIAAAAIAOCIEAAAAAOiAEAgAAAOiAEAgAAACgA0IgAAAAgA4IgQAAAAA6IAQCAAAA6MCGeRcAwPI2HnvKvEuYmW3HHT7vEgAAoHt6AgEAAAB0QAgEAAAA0AEhEAAAAEAHhEAAAAAAHRACAQAAAHRACAQAAADQASEQAAAAQAeEQAAAAAAdEAIBAAAAdEAIBAAAANABIRAAAABAB4RAAAAAAB0QAgEAAAB0QAgEAAAA0AEhEAAAAEAHhEAAAAAAHRACAQAAAHRACAQAAADQASEQAAAAQAeEQAAAAAAdEAIBAAAAdEAIBAAAANABIRAAAABAB4RAAAAAAB0QAgEAAAB0QAgEAAAA0AEhEAAAAEAHhEAAAAAAHRACAQAAAHRACAQAAADQASEQAAAAQAeEQAAAAAAdEAIBAAAAdEAIBAAAANABIRAAAABAB4RAAAAAAB0QAgEAAAB0QAgEAAAA0AEhEAAAAEAHhEAAAAAAHRACAQAAAHRACAQAAADQASEQAAAAQAeEQAAAAAAdEAIBAAAAdEAIBAAAANABIRAAAABAB4RAAAAAAB0QAgEAAAB0QAgEAAAA0IFVhUBVdVhVnV9VW6vq2GXW/3pVnTte3ldVB86+VAAAAADWa8P2NqiqPZK8NMkDklyY5KyqOrm19tGJzT6T5H6tta9W1YOTnJDk4J1RMDB7G489Zd4lzMy24w6fdwkAAAALaTU9gQ5KsrW19unW2mVJXp/kiMkNWmvva619dby5Ock+sy0TAAAAgB2xmhBo7yQXTNy+cFy2kscnOW25FVX1xKraUlVbLr744tVXCQAAAMAOWU0IVMssa8tuWHVohhDomcutb62d0Frb1FrbtNdee62+SgAAAAB2yHbnBMrQ8+d2E7f3SXLR9EZVddckr0ry4Nbal2dTHgAAAACzsJqeQGcl2b+q9quqGyR5RJKTJzeoqn2TvCnJI1trn5h9mQAAAADsiO32BGqtXV5VRyc5PckeSU5srZ1XVU8a1x+f5A+T/HCSl1VVklzeWtu088oGAAAAYC1WMxwsrbVTk5w6tez4ietPSPKE2ZYGAAAAwKysZjgYAAAAANdxQiAAAACADgiBAAAAADogBAIAAADogBAIAAAAoANCIAAAAIAOCIEAAAAAOiAEAgAAAOiAEAgAAACgA0IgAAAAgA4IgQAAAAA6IAQCAAAA6IAQCAAAAKADQiAAAACADgiBAAAAADogBAIAAADogBAIAAAAoANCIAAAAIAOCIEAAAAAOiAEAgAAAOiAEAgAAACgA0IgAAAAgA4IgQAAAAA6IAQCAAAA6IAQCAAAAKADQiAAAACADgiBAAAAADogBAIAAADogBAIAAAAoANCIAAAAIAOCIEAAAAAOiAEAgAAAOiAEAgAAACgA0IgAAAAgA4IgQAAAAA6IAQCAAAA6IAQCAAAAKADQiAAAACADgiBAAAAADogBAIAAADogBAIAAAAoANCIAAAAIAOCIEAAAAAOiAEAgAAAOjAhnkXQH82HnvKvEuYmW3HHT7vEgAAAGBV9AQCAAAA6IAQCAAAAKADQiAAAACADgiBAAAAADogBAIAAADogBAIAAAAoANCIAAAAIAOCIEAAAAAOiAEAgAAAOiAEAgAAACgA0IgAAAAgA4IgQAAAAA6IAQCAAAA6IAQCAAAAKADQiAAAACADgiBAAAAADogBAIAAADogBAIAAAAoANCIAAAAIAOCIEAAAAAOiAEAgAAAOiAEAgAAACgA0IgAAAAgA4IgQAAAAA6IAQCAAAA6IAQCAAAAKADQiAAAACADgiBAAAAADogBAIAAADogBAIAAAAoANCIAAAAIAOCIEAAAAAOiAEAgAAAOiAEAgAAACgA0IgAAAAgA4IgQAAAAA6IAQCAAAA6IAQCAAAAKADQiAAAACADgiBAAAAADogBAIAAADogBAIAAAAoANCIAAAAIAOCIEAAAAAOiAEAgAAAOiAEAgAAACgA0IgAAAAgA4IgQAAAAA6IAQCAAAA6IAQCAAAAKADQiAAAACADqwqBKqqw6rq/KraWlXHLrO+qurF4/pzq+oesy8VAAAAgPXasL0NqmqPJC9N8oAkFyY5q6pObq19dGKzByfZf7wcnOTl48+523jsKfMuYSa2HXf4vEsAAAAArsNW0xPooCRbW2ufbq1dluT1SY6Y2uaIJH/bBpuT7FlVt5lxrQAAAACsU7XWrn2DqocnOay19oTx9iOTHNxaO3pim7cmOa61duZ4+51Jntla2zK1rycmeeJ4805Jzp/VA5mzWya5ZN5FcDXaZDFpl8WjTRaTdlk82mQxaZfFo00Wk3ZZPNpk8exObfKjrbW9llux3eFgSWqZZdPJ0Wq2SWvthCQnrOKY1ylVtaW1tmnedXAVbbKYtMvi0SaLSbssHm2ymLTL4tEmi0m7LB5tsnh6aZPVDAe7MMntJm7vk+SidWwDAAAAwJysJgQ6K8n+VbVfVd0gySOSnDy1zclJHjV+S9i9knyttfaFGdcKAAAAwDptdzhYa+3yqjo6yelJ9khyYmvtvKp60rj++CSnJnlIkq1Jvp3ksTuv5IW02w1x2w1ok8WkXRaPNllM2mXxaJPFpF0WjzZZTNpl8WiTxdNFm2x3YmgAAAAArvtWMxwMAAAAgOs4IRAAAABAB4RAAAAAAB0QAgEAAAB0QAi0TlV166q6R1XdvapuPe96WF5V3WTeNcAiq6pbzLsGrq6qfmneNXBNXiuLparuUFUPq6oD5l1Lz6pqz3nXwDVV1YaJ6zepqk3ewxZDVe01fn78SZ9TmBch0BpV1d2qanOSM5L8WZIXJfn3qtpcVfeYa3Es56PzLqBH4y+2zVV1QVWdUFU3n1j3/nnW1rOqum9Vfayqzquqg6vq35JsGdvp3vOur0dV9dCpy8OSnLB0e9719aqq/mDi+gFV9YkkZ1fVtqo6eI6ldauq3l1VtxyvPzLJqUkenOQfq+opcy2ub5dU1Tuq6vECocVQVY9J8sWq+kRVPTjJuUlemORDVXXkXIvr2Pi75B1J/jPJfyV5VZIPV9VJVXWz+VZHbx08fEX8GlXVOUl+q7X2X1PL75XkFa21A+dSWMeq6ndXWpXkOa01//nYxarqzCR/kmRzkickeWySX2qtfaqqPthau/tcC+zUGMA9PslNkvxrkl9urZ05Bth/01q771wL7FBVXZ7kbUm+lOE9K0kenuQNSVpr7XHzqq1nVfWB1to9xuunJHlJa+20qjooyV+11u4z3wr7U1Ufaa39xHj9rCSHtda+XFU3SrK5tXbX+VbYp6r6cJJnJTkyyWFJzkzyD0n+pbX2nXnW1quxTQ5NctMkH0py9/Hvr1sn+TevlfkYOxE8urV2/vi75MmttUdX1W8meVBr7eFzLrFLVXW3JMcnuVmSz4+L90lyaZLfaa19YD6V7Vwbtr8JU248HQAlSWttc1XdeB4Fkf+ToUfW5cus09ttPm7SWnvbeP3Pq+rsJG8b/3sreZ6f67fWPpwkVXVxa+3MJGmtfaCqbjjf0rp17yTHJTkryfGttVZVh7TWHjvnurjKbVtrpyVJa+39Xitz872q2ru19vkk30zyrXH5d5PsMb+yuve91tpbk7x1fG38YpJHJHlpVZ3eWjtqvuV16YrW2iUZeml9s7X2qSRprX2xqrZzV3aiG7bWzk+u/F1y/Hj9lVX1tPmW1rWTsnIHj9ck2S07eAiB1u608b+Cf5vkgnHZ7ZI8KsN/c9n1PpDkLa21s6dXVNUT5lAPSVXVzVprX0uS1tq7x2Eub0yiZ9b8TIaiz5pad4NdWQiD1tpZVfWAJE9J8q6qemYEpYvg9lV1cobeWftU1Y1aa98e111/jnX17GlJ3l5Vb0xyXobXy9uS/EyGP9SZjytThbHnzz8l+adxeMsvz6uozn2uqv40Q0+gj1fVXyR5U5KfT/KFuVbWt09V1XOTvDPJQ5OckyRVdf34TD5PXXbwMBxsHcbxtUck2TvDL78Lk5zcWjt1roV1qqrulOTL4389ptfdurX2xTmU1bWqOirJp1trm6eW75vkua2135xPZX0bJxx+x8SH2aXlP5bkYa21P5tPZSRJVd02yV8l2dRau/2cy+laVd1vatHZrbVvjsMpHt5ae+k86urdGCwcleSOGT40XZhh2NHH51pYx6rqGa21P593HVylqn4oyZMz/EPhJUkelGFY/meT/ElrTRA0B+OcWc9OckCGYXrHtda+Mb6v3WX6b2Z2jap6cZIfy/IdPD7TWjt6XrXtTEIgAAAAoDs9dvAwX8oMVdUT510DV6dNFo82WUzaZfFok8WkXRaPNllM2mXxaJPFpF3mq7V2WmvtSa21X2yt/cJ4fbcNgBIh0KyZbW3xaJPFo00Wk3ZZPNpkMWmXxaNNFpN2WTzaZDFplwW0O4dzhoOtQ1XdOVd1GWtJLsrQZexjcy2sY9pk8WiTxaRdFo82WUzaZfFok8WkXRaPNllM2uW6pap+q7X2innXsTPoCbRG4ze3vD5DYvv+DF/rW0n+oaqOnWdtvdImi0ebLCbtsni0yWLSLotHmywm7bJ4tMli0i7XSZfNu4CdRU+gNaqqTyT58dba96aW3yDJea21/edTWb+0yeLRJotJuywebbKYtMvi0SaLSbssHm2ymLTLdU9Vfa61tu+869gZ9ARau+8nue0yy28zrmPX0yaLR5ssJu2yeLTJYtIui0ebLCbtsni0yWLSLguoqs5d4fLhJLeed307y4Z5F3AddEySd1bVJ5NcMC7bN8kdkhw9r6I6d0y0yaI5JtpkER0T7bJojok2WUTHRLssmmOiTRbRMdEui+aYaJNFdEy0yyK6dZIHJfnq1PJK8r5dX86uYTjYOlTV9ZIclGFSr0pyYZKzWmtXzLWwjmmTxaNNFpN2WTzaZDFpl8WjTRaTdlk82mQxaZfFU1WvTvKa1tqZy6x7XWvtqDmUtdMJgQAAAAA6YE4gAAAAgA4IgQAAAAA6IAQCAAAA6IAQCABgBVV1TFXdaOL2qVW15xxLAgBYNxNDAwCsoKq2JdnUWrtk3rVMqqrK8Hfc9+ddCwBw3aEnEACwkKpqY1V9vKpeVVUfqaq/r6qfr6r3VtUnq+qgqrpxVZ1YVWdV1Qer6oiJ+76nqj4wXu4zLj+kqs6oqjeM+/77MVBZ7vj/K8ltk7y7qt49LttWVbecqO21VXXuuL8bLbefyfuN1zdV1Rnj9ftV1Tnj5YNVddNx+e+Nj+ncqnr+xGP6WFW9LMkHktxuRk81ANAJIRAAsMjukOSvk9w1yZ2THJXkp5M8I8mzkzwnybtaa/dMcmiSF1XVjZN8KckDWmv3SPJrSV48sc+7JzkmyQFJbp/kvssduLX24iQXJTm0tXboMpvcKckJrbW7Jvl6kt9Zx+N7RpInt9buluRnknynqh6YZP8kByW5W5KfqqqfnTjm37bW7t5a++w6jgcAdEwIBAAsss+01j48Dns6L8k72zCW/cNJNiZ5YJJjq+qcJGck+cEk+ya5fpJXVtWHk/xzhsBnyftbaxeO+zxn3M96XNBae+94/e8yhFNr9d4kfzn2OtqztXZ5hsf0wCQfzNDj584ZQqEk+WxrbfM66wUAOrdh3gUAAFyL705c//7E7e9n+DvmiiQPa62dP3mnqnpeki8mOTDDP73+Z4V9XpH1/z00PbHitU20eHmu+ufbD155h9aOq6pTkjwkyeaq+vkkleRPW2uvmNxBVW1M8q111goAoCcQAHCddnqSpyzN61NVdx+X3yzJF8bePo9Mssc69/+NJDddYd2+VXXv8fqRSc68lv1sS/JT4/WHLS2sqh8bezq9MMmWDL1+Tk/yuKq6ybjN3lV1q3XWDwBwJSEQAHBd9oIMQ7/OraqPjLeT5GVJHl1Vm5PcMevvQXNCktOWJoae8rHxGOcmuUWSl1/Lfp6f5K+r6j0Zeh8tOWac9PpDSb6T5LTW2tuTvC7Jf47D2d6QlYMoAIBV8xXxAABrNA7Nemtr7SfmXQsAwGrpCQQAAADQAT2BAIDuVdWbk+w3tfiZrbXT57EfAICdQQgEAAAA0AHDwQAAAAA6IAQCAAAA6IAQCAAAAKADQiAAAACADvx/9QQUL7av8bMAAAAASUVORK5CYII=",
      "text/plain": [
       "<Figure size 1440x720 with 1 Axes>"
      ]
     },
     "metadata": {
      "needs_background": "light"
     },
     "output_type": "display_data"
    }
   ],
   "source": [
    "plt.figure(figsize=(20, 10))\n",
    "ax = instacart_train.groupby('mean_tip_user').tip.mean().plot(kind='bar')\n",
    "ax.set_title(label = 'Verteilung nach mean tip per user und Tip', fontsize = 20)\n",
    "plt.show()"
   ]
  },
  {
   "cell_type": "code",
   "execution_count": 101,
   "metadata": {},
   "outputs": [
    {
     "data": {
      "image/png": "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",
      "text/plain": [
       "<Figure size 1440x720 with 1 Axes>"
      ]
     },
     "metadata": {
      "needs_background": "light"
     },
     "output_type": "display_data"
    }
   ],
   "source": [
    "plt.figure(figsize=(20, 10))\n",
    "ax = instacart_train.groupby('previous_order_tip').tip.mean().plot(kind='bar')\n",
    "ax.set_title(label = 'Verteilung tip der vorherigen order und tip aktuelle order', fontsize = 20)\n",
    "plt.show()"
   ]
  },
  {
   "cell_type": "code",
   "execution_count": 102,
   "metadata": {},
   "outputs": [
    {
     "data": {
      "image/png": "iVBORw0KGgoAAAANSUhEUgAABIEAAALICAYAAADoseBfAAAAOXRFWHRTb2Z0d2FyZQBNYXRwbG90bGliIHZlcnNpb24zLjQuMywgaHR0cHM6Ly9tYXRwbG90bGliLm9yZy/MnkTPAAAACXBIWXMAAAsTAAALEwEAmpwYAABLJElEQVR4nO3de7xsdV0//tdbEO/iDS+BiApe8EaGqF818ZaoFXbVLEvN0PpR+e0m9a2vltVXs7tSRKVkWmp5w0TxiqZ5ARVFUBQRBa94QVRUQN6/P9baOgyzz9lnn33OnH3W8/l47Mdes9aaNe9ZM7Nm5jWfz2dVdwcAAACA3dvVll0AAAAAADueEAgAAABgAoRAAAAAABMgBAIAAACYACEQAAAAwAQIgQAAAAAmQAgEsIGqqqvqlLl5Tx/nH76UonaSZd/PqjphvP0DlnH7u5uqOqWqesk1HD4+pk9fZh2bzaLjEItt9HNs2cfBRXbFmramqs6rqvPm5j1uvB+PW05VG8t7FrAsQiBgp6uqfxs/+PzyGtZ9w7juI3dAHb5gboPd7QP4jlBVv11VJ41fYL5eVRdX1RlV9ZdVtd+y6wO2zxSOg4sCGAB2H0IgYBmOH///0pZWGn8de1CSzyb5rx1c00a5Y5KfX3YRS/LcDPf/PcsuZImelOT7krw1yd8l+eckX0ryv5OcWVXfv8TaNqP3ZHhOPXfZhcAaOQ4CsEvbc9kFANPT3adU1UeTfH9V3b2737fKqk9MUkme392X77wK16+7P7LsGpalu7+Y5IvLrmPJ7tzd35qfWVW/lCH8/JMkD9/pVW1S3X1Jksm+pth8HAcB2NVpCQQsyz+O/xe2BqqqPZI8Lkkn+aeZ+XcY+9GfX1XfrqrPj93Lbr9gGyv97W9TVb9aVR+sqm+OY52ckOQt46pPG9db+Tt8bjs/U1VvqaqvVNW3qurDVfX7VXWNBbe5prE4quqAcd0TVll+lfFYZruvVdUhVfWaqrqoqi6pqrdW1f9aZVu3qKrnV9UXxvt/elX9wrZ0hxvv0/PHi8+f218HjOssHHdiZZ9U1fdV1b/O1PHeqnrM1m57QS0Prqr/rqpvVNWXq+qVVXWHrVznnlX1n1X1uaq6dHz+/ENVfd+i+zrWvFdV/d+qOnt8rp2wtdoWBUCjl47/D1rD/bvm+Lh+oaoW/lhTVceNNT5ibv6Dqup14375VlV9tKqeWVV7L9jGmu5nVe1ZVb9XVR8bl59fVc+qqr1WqW1DXqPj8lWfo1V1j6p6fVV9rYZud2+sqnuv9jzcjtoOqKon1dCt71vjdY5ftE+3pKr2rqr/N+7nb9VwPDm5qh68YN3Z1/phNbzWvzz3eturqv6gqj4+3pdPVNUf14Lj0sx296yqX6mqd4377JKqen9VHV1VV5tb97vHqKq6XVW9ZHxOXrGyb8fH7fiqOmd83L487qfjqurGa9gnO/M4eLOq+ufx8fvucXBrNc7Xk13gOFhVDxj3+1nj4/jNqvpQVT2tqq65DdvZv6rOrOGY+HMr+zbJrZLcau7+nTBeZ5sfs5llD62hu+wXx+fsx6vq2VV1g225/6tse7+qem5VnTtu+0tVdWJV3WMd2/rpqnpbVX113LdnVNXvLnpt1dh1rqquX0O33/Oq6rKaOWbVLvyeBUyTlkDAsvxLhlYRj6mq3xx/8Z/18CT7JnlDd38iSarqiCQvT3L1JK9Ock6S/ZL8eJJHVNUDVmlV9DdJ7pfkNUlOSvKdJKeOy34hQ9edU2bWP29loqr+OckTklww3vZFSe6V5BlJHlRVD1lCK6VDk/xOkndmCMj2T/ITSd5UVYd099krK1bVTZP8T5IDkrxtnL55hq5Kr9+G2zwhw30/Msmrkpw+s+yiNVz/huNtX5ThS9QNkvx0khdV1b7d/ey1FFFVP5nkJUkuHf9/Nsl9M+yLD65yncdnCB2/neTEJOdnCGOemORHqupe3f2pBVd9WZJ7JHltklcm+cJaalzFj4z/F9Y4q7u/VVUvSXJUkodleK5/1/hF5KeTfD7JyTPzn5Tk75N8I8l/jPUenuSpGe7nfbr7ogU3ubX7+W8ZXj+vTXJxhtfm7yS5aZLHz9W2ka/RVVXV/TI8f68+1v/xJHfJEOy+eZXrrLe2P0vy0PE6r0/ygAzh9YFJHrilOmdu+wZJ3pHk4AzHnr9OcpMMj+Prq+qXu/sfFlz13kl+N8nbkzxvvM6lVVUZgsUjx/v+3CR7ZThW3WWVGlbu90OTnJ3hcf3WeH+ek+SeSR674Kq3TfLuJB9N8qIk10pycVXdYrwv18/wmL0syTWT3HrcznMzdIXcUbblOHjjDMef22TYl29Pcoskx2UTHgczvKbvMG7rNRn2+32SPD3J4VX14O7e2mvobhket+sleXh3v3EMsv4wyVPG1f565iqnr7G21W7v/47b/nKG7t1fSHLXJL+V5OFVde/uvnid2757hsfxRhmOiS/P8Fp5ZJK3V9WPdfdJa9zWn2Z4zX0xw2vk6xmOw3+a5KHje/5lc1fbK8Nx50ZjHRcnWfncslnfs4DdWXf78+fP31L+Mnwg6iSPW7DsVeOynxwv3zDJVzJ8MDt4bt07Zfig9r65+SeM2/h0klsvuI3Dx+VPX6W+x43LX57kWnPLnj4u+/W5+Z3klFXWPXxm3gHjvBNWue1ThkP0wnqvss8yjEXTSf5ubv4/j/OfNTf/bhk+YK56/7ewP67yeK12P2f2SWf40nq1mfm3zvCF4NIkt1nD7V83w5fKy5IcOrfsr2Zu54CZ+bcbt39Okn3nrvPADGHDKxbt+wwf0G+yzuf2E8f98ecZvpR8J0O4eNAar3/vsYb/XLDsp8ZlfzEz71bj43lxkjvMrf934/rHb8v9nFn+3iQ3mpl/nXF/fifJzWfm75TXaIZWzB8b5z9sbv0nzzwPDt+g2j6VZP+Z+XtmCFQ7yWFrfDz/YVz/H5LUzPyDknx1fOwOWHC/O8mTFmzvMeOydya55sz8G2UIhbZ0HHpOkj1m5u+R7x0njpyZf8BMDX+6oIZfzYJj4Mxz5FqL9sXceiu3ccIqy0/JxhwHjx/n/9Xc/EMzHE82zXFwvM5tZp9HM/OfMd7Go7ZUU5IHj8+7zyS524LtnJfkvA18zB4wXud/ktxglf05/9hcpYZF+z7D6/GcDIHm/efW/74Mx5bPJrnGGvbrynH3U7nysW3PDAFqJ/m9BXV2kjcmuc7csk3znuXPn79p/ekOBizTygDRT5ydOf7C/PAMLR1eNc7++Qy/mj6tu8+aXb+7z8zwq9n3V9XBC27nz3psTbSNfj3J5Ume0N3fnFv2jAwf7n52HdvdXu/o7hPm5j0vQ62HrcyoobvOz2T4sP/Hsyt39weSvGDHlnkl30ny1O6+YqaGTyT52wwtMxa1QJh3ZIYvuf/W3afNLXt6hvs575fH7f96d396dkF3vznDr6w/UlXXW3DdP+hhfI/1eGKSpyX5zSQ/lCFIeXB3f2wtV+7ud2ZoefEjVXWjucW/MP7/l5l5P5fh1+jn9lXHpfo/Sb6W5LGLujNk6/fzqd395ZnavpGhRcjVMnyJXrGzXqP/K0MrnLd092vnlh2fYb/N257a/qhnfnXvoeXf88eLhy1Y/0rGFjg/lyFo+t3u7pltfSzDa2CvLB5Q/vRe3EJopQXW7/VMF8TxcXrGghquluToJJ9L8r97ppXIOP2bGb5ELjqefT5DC47VzB8b093fWHDM3GhrPQ5ePcP9+lqG48R3jceRF+3QKq9sI46D6e5zZ59HM/56/P/Q1a5bVT+XoQXQp5Pca3wv2NF+bfz/Sz3XGnF8DE/P+t9LH5Ghtdpzuvutc9v+TIaWfDfPcJKJrXnC+P+Pu/tzM9u5PMNr5IrMfV6Z8ZvjsXHWZnrPAiZEdzBgmd6c4Vfr+1TVHbv7w+P8x2c4Pp3Q32t2fe/x/91q8Rg2txv/3zHJWXPLtvksLVV17QytZb6Y5ClD74ur+PZ4ezvb/IfJdPdlVfX5DC0eVtw+Q9eN07r7awu28/as/oF2o31qlS/5p2QIS9Zy1qy7j//fOr+gu79aVacnuf/copXnzf1XGRviphlaQtwuQ1Aza91n9+nueyXf7YZy9wxdH99bVY/q7tetcTMrXSYfnaE1T6rqZhm+4L2/u2e7Eqzsm6t0herur1TV+5P8YIYuJPNf+rZ2P6/yfMvQPSG58vNtZ71GV54rb59f0N1XVNX/zNzWRtS21vu/mjskuXaG0OLLC5a/OcnvZ/FrYLX9cvcMX0ivsg9y5a6tK26X5MYZWlD9/irHs29m8fHsA9397QXzT8zQRebYqnpohhZv70hy1ioBxUZb63FwZf//d3cv+tJ9Sr4XrO5oG3EcTFVdJ8OPFD+W4bG9XoaTKKzYd5Wr/nqGYOIdSX60u7+ytrK3270ztIb5qar6qQXL90qyT1XduLu3tQvhymv7Vqu8tlfGYbtjhvBrS7Z0HP1oVV2Q5NZVdYO5MOtbWdy1a9O8ZwHTIgQClqa7u6r+Kcn/yxBG/OY41sUvZm5A6AxfYJKtnFY+Q/PreZ9bMG9rbpjhQ/U+GT6c70ouWmX+5Rk+HK7Ye/z/+VXWX23+jrDaba08NnuvsnzW1u7Posd55Xnz21vZ9kY9b65k/ELzhqo6NcNZrl5QVbdaYyuJF2Ro1fELGUOgDL+W75krtwJKvrdvPrvKtlbm32DBsi3ez/lf7kcr42DNPt921mt0Pc/r7antogXzFt3/1eyIx2bvJF/uq45Nstp1Vu7/Qdny8WzNj013f7KqDsvQouGIDGMrJcn5VfXn3f23W7idjXDRKvO39Ti43a/zbbDdx8GxZdObM7R2+lCGbtUXZghZkuHxXW1w8B/M8L72pp0YACXD82/PbP29dKX71LZuOxm6yW5t21uzltfq/uN6F83M/8Iqweeme88CpkEIBCzb85P8UZKfr6rfzTA47G2SvLm7z5lZb+UX3LvNtYBYi/X8Kr1ye+/v7rtvcc31WekOsNpx+AYbcBsrg2zebJXlq83fEVa7rZuP/xf9Qj9vZZ2tbWvRdfbubRx0dCNbM3T3RVX1zgwDld4pi1uXzF/ngqp6c5IHV9Udxm5ev5Dhy96/za2+cj9vnuTMBZu7xdx6s7ezUfdzZ71G1/O83p7attfsY7PIqo9NVt8vX01yo6q6+oIgaEuvg1d0948vWL4lqz42Y+vNR9VwFru7ZRhr5leT/E1VfaO7/3kr294Zx8H1HDd2lI04Dh6ZIQD6l+5+3OyCsSv1loKWX0xyTIYzYu7R3X+whtubt57H7KsZxkGa79q6EVb22ZHdfeIGbevmGVopz1vttbql12myCd+zgN2bMYGAperuz2foVrByJo+VX+qPn1v1XeP/+23gza+Mi3GVX/O7++sZvkzfacGYLBth5VfYW84vqKrr56rdWdbjIxm6eNx1lfED7ruN21t1f63B/uOZZ+YdPv5//xq2sXLmpvnm86nhdN2HLLjOjnjerNdKF41tOZvcCeP/X6iqQzKcTee13X3h3Hor++/w+Q2MZ6Y6JEOXhQ/PL99AO2tfr9zXqzx/x7FvFp0ifJnPg7OTXJLkkKpa1H3sAeP/RWcmW837MnyGW/QaPnzBvI9kPLPh2JJkQ3X35d393u5+VoZxyJLheL41O+s4uLL/F7W0OXwbt7fs4+CB4/+XLVh2lWPjnIuSPCTJf2foFvhnq6z3nax+/9bzmL0ryQ2r6k5bqW89NvK1vaXj6IEZzib4iVVaRy6y2d+zgN2UEAjYFfzj+P83M3xx+GKSV8yt8/wMH2CfNnZBuJKqulpVHb6Nt7vS7Hz/VZb/ZYaxCp43fpGev80bjqem3WbjGD0fyTAe0ncHo62qPcbbvdZ6tjt3GyunpN07w5gj3zWeHnjRQLRbsrX9tSV7JHnW+CV9pYZbZxgw9PIkL1zDNl6V4QvIY6rq0LllT8/irhTPzdBy5q+q6ipfTqpqr/F049utqm5VVbdZZdmTMpy69/wkZ2zDZl+eoeXLz2U4M07yvWBo1gsz3M9fHb+szHpGhtN4v3CVsV02yo54jS7yjgy/0j+gqh42t+yoLP4SurNqu4rxdfiiDN03/mjudm+b4TVwWZJ/3YbNrgxM/SdVdc2Z7d0oc6/1sYbLM5wV7BZJ/raqrnJ8qapbrDIw9kJVddg4RtW8lXmXbG0bO+k4eFmG/X+9zA0MPR5HtnVA4mUfB88b/x8+O3M89jxra1ce9/kRSd6U5Ler6m8WrPalDGP0XGX/r/Mx+6vx/z9W1ffNL6yq61TVvbZW+ypeleF48P9V1cMXrVBV9x7H+dua543/f7+q9pm5/h4ZzvR4tQxn0tuW2nbZ9yxgunQHA3YFr0/yiXzvjC7PHb84fVd3f6mqfjJDOPSuqnpThpY6V2T4MH7vDH3pr5m1OzvDGVIeXVWXZjgtbCf51+7+ZHc/r6p+IMmvJPl4VZ08rnOjDKf1/cEMX8aevI77nCTPzvCB8h1V9R8ZWmo8IMOZQT6QoXvF9jomw2llf6eq7pnhFL23SPLTGQbJfGS+17x/a96Z4YvdU8YvmyvjHDxnlQFXZ30wyT0zDI78+gwffh+VoevA73T3oqb3V9LdX6+qozIEW/9dVS/JMEbDfZPcOcNpu39w7jofqaonZPhwf2ZVvS7D2aOunuF5c78M42ncYWu3vwbfn+Tl48DEH82wf26c5F5J7pLh7FCPnT0z09Z09zfH58YvZngefinJaxasd15VPSXJsUneV1UvzXC/7p/htfGRJE9d/11bU6074jW66HauqKonJnldkhOr6mUZvgTeNUMrh9cmeVhmntc7q7YtOCbDc+3ocbDXt2Ro/fjTGcKJo1cZMHg1/57h9fOjST5UVa/K8Jz+ySSnZjhb0rxnZDimPDnD2YXenOH4d9MMYwXdJ8OZ5OYHxl7NYzJ88X5rhtNZf2W83R/JMGj+X69xOzvjOPh7Gc4O9ZTxy/jbMxwHH5XhOPij27CtpR4HM5yq/Jwkv1FVd8nQemX/JD+c4diw1XCquy+pqh/O0Jro18Yg8ckz3YnelCG0fl1VvS3D4/mB7n71uHybHrPuflNVHZNh/L+PVdVJGd7zr5vkVhmOU2/PEE5tk3Ew8B/PMDD5a8bj7+kZHqNbjvfjNhke7y0Gk939P2PrqN/J8Lr6zyTfyHA8ufNY47O3obZd/T0LmKreBc5T78+fP38Zvnz0+Hf7Lax3QIZfyj6W4YPnxRm+4P5rkkfOrXvCuL0DtrC9e2T4wPvVDF8IO8nhc+v8cJL/SvKFJJdmGHzxPRlOu36HuXU7ySlz856+aLvjsl/M8GX02+N2/yHDl9FTMnbxn1n38HE7T1/lvpyX5LwF8/fNMJDwhRm6h52eYWyZnxy395RteJyOyPAl6Oszj9cBW7qfK/skyfdl+KX7C+Nj974kj1nHc+UhGT6MX5Lhi+erMnwgXvXxzhDCnJDkk+O+/nKGQVX/IckD59a9yr5fY137J/mL8bnx+Qy/5n4tw5eiP09yy3W+Nu47s6+fs5V1fyhDqPqV8X6ek+EUyTdYsO4W7+eWlmdoldRJHrcjX6Nbes5n+DL9hnEffy3JGzOEOc8dr3PIjqptS3VtYX/eIENLjY+Nj81FY/0/tJ7tZ2il+H+TnDtu77wMZ5O7RhYch8brVIbTkL9pfA1cmiEIenuGoOSWM+seMG7nhFVu/55J/n58fn85w7HlnAzB+J238Tm+M46DN8/wxXr2OPi4dT6WSz0OZgg3XjQ+dt8c993vZPhxd83vQeNz6OUrj3OGcXuS5DrjY3tBhhZKV3kebMtjNnOd+yZ5aZLPjM+9C8fH4S+THLq1xzFbPu7cNMkzMxzXLxkfm48l+c8MLSn33Ib9++gMr4mvjY/RmRk+o1xzrc+3uXV2yfcsf/78TfevuldCfwCmpKr+JMMXvyO6++QdeDud5K3dffiOug1YUVXvyBBQ7N3d31h2PZA4DgKw6zAmEMBubpUxGO6SYRyKLyd5604vCrZDVV17lXG6HpdhYOjXC4AAAK7KmEAAu7/TquqcDE3Jv5Fh/I9HZPgh4Mnd/a1lFgfrsH+S91fVGzJ0Qdozw5hM983Qzeo3l1caAMCuSwgEsPv7hwwDQP9MhkFoL8owiOafd/cpS6sK1u/zGcZEuX+GAWmvkWFckucn+ZNe2wC7AACTY0wgAAAAgAkwJhAAAADABCytO9hNbnKTPuCAA5Z18wAAAAC7nfe+971f7O59Fi1bWgh0wAEH5LTTTlvWzQMAAADsdqrqk6st0x0MAAAAYAKEQAAAAAATIAQCAAAAmAAhEAAAAMAECIEAAAAAJkAIBAAAADABQiAAAACACRACAQAAAEyAEAgAAABgAoRAAAAAABMgBAIAAACYACEQAAAAwAQIgQAAAAAmQAgEAAAAMAFCIAAAAIAJEAIBAAAATIAQCAAAAGAChEAAAAAAEyAEAgAAAJgAIRAAAADABKwpBKqqI6rq7Ko6p6qOWbB876p6dVV9oKrOrKrHb3ypAAAAAKzXVkOgqtojybFJHpbk4CQ/U1UHz632/yU5q7vvluTwJH9RVXttcK0AAAAArNNaWgIdluSc7j63uy9N8uIkR86t00muV1WV5LpJvpzk8g2tFAAAAIB1W0sItG+S82cuXzDOm/XcJHdM8pkkZyT59e6+Yn5DVXVUVZ1WVaddeOGF6ywZAAAAgG215xrWqQXzeu7yQ5OcnuSBSW6b5A1V9d/dffGVrtR9fJLjk+TQQw+d3wYAAAATd8Axr1l2CWwS5z3zEcsuYdNZS0ugC5Lccubyfhla/Mx6fJKX9+CcJJ9IcoeNKREAAACA7bWWEOjUJAdV1a3HwZ4fneTEuXU+leRBSVJVN0ty+yTnbmShAAAAAKzfVruDdfflVXV0kpOT7JHked19ZlU9eVx+XJJnJDmhqs7I0H3sqd39xR1YNwAAAADbYC1jAqW7T0py0ty842amP5Pkhza2NAAAAAA2ylq6gwEAAACwyQmBAAAAACZACAQAAAAwAUIgAAAAgAkQAgEAAABMgBAIAAAAYAKEQAAAAAATIAQCAAAAmAAhEAAAAMAECIEAAAAAJkAIBAAAADABQiAAAACACRACAQAAAEyAEAgAAABgAoRAAAAAABMgBAIAAACYACEQAAAAwAQIgQAAAAAmQAgEAAAAMAFCIAAAAIAJEAIBAAAATIAQCAAAAGAChEAAAAAAEyAEAgAAAJgAIRAAAADABAiBAAAAACZACAQAAAAwAUIgAAAAgAkQAgEAAABMgBAIAAAAYAKEQAAAAAATIAQCAAAAmAAhEAAAAMAECIEAAAAAJkAIBAAAADABQiAAAACACRACAQAAAEyAEAgAAABgAoRAAAAAABMgBAIAAACYACEQAAAAwAQIgQAAAAAmQAgEAAAAMAFCIAAAAIAJEAIBAAAATIAQCAAAAGAChEAAAAAAEyAEAgAAAJgAIRAAAADABAiBAAAAACZACAQAAAAwAUIgAAAAgAkQAgEAAABMgBAIAAAAYAKEQAAAAAATsKYQqKqOqKqzq+qcqjpmwfLfrqrTx78PVdV3qupGG18uAAAAAOux1RCoqvZIcmyShyU5OMnPVNXBs+t097O7+5DuPiTJ7yZ5a3d/eQfUCwAAAMA6rKUl0GFJzunuc7v70iQvTnLkFtb/mST/vhHFAQAAALAx1hIC7Zvk/JnLF4zzrqKqrp3kiCQv2/7SAAAAANgoawmBasG8XmXdH0nyjtW6glXVUVV1WlWdduGFF661RgAAAAC201pCoAuS3HLm8n5JPrPKuo/OFrqCdffx3X1odx+6zz77rL1KAAAAALbLWkKgU5McVFW3rqq9MgQ9J86vVFV7J7l/kldtbIkAAAAAbK89t7ZCd19eVUcnOTnJHkme191nVtWTx+XHjav+WJLXd/c3dli1AAAAAKzLVkOgJOnuk5KcNDfvuLnLJyQ5YaMKAwAAAGDjrKU7GAAAAACbnBAIAAAAYAKEQAAAAAATIAQCAAAAmAAhEAAAAMAECIEAAAAAJkAIBAAAADABQiAAAACACRACAQAAAEyAEAgAAABgAoRAAAAAABMgBAIAAACYACEQAAAAwAQIgQAAAAAmQAgEAAAAMAFCIAAAAIAJEAIBAAAATIAQCAAAAGAChEAAAAAAEyAEAgAAAJgAIRAAAADABAiBAAAAACZACAQAAAAwAUIgAAAAgAkQAgEAAABMgBAIAAAAYAKEQAAAAAATIAQCAAAAmAAhEAAAAMAECIEAAAAAJkAIBAAAADABQiAAAACACRACAQAAAEyAEAgAAABgAoRAAAAAABMgBAIAAACYACEQAAAAwAQIgQAAAAAmQAgEAAAAMAFCIAAAAIAJEAIBAAAATIAQCAAAAGAChEAAAAAAEyAEAgAAAJgAIRAAAADABAiBAAAAACZACAQAAAAwAUIgAAAAgAkQAgEAAABMgBAIAAAAYAKEQAAAAAATIAQCAAAAmAAhEAAAAMAECIEAAAAAJkAIBAAAADABQiAAAACACVhTCFRVR1TV2VV1TlUds8o6h1fV6VV1ZlW9dWPLBAAAAGB77Lm1FapqjyTHJnlIkguSnFpVJ3b3WTPr3CDJ3yU5ors/VVU33UH1AgAAALAOa2kJdFiSc7r73O6+NMmLkxw5t85jkry8uz+VJN39hY0tEwAAAIDtsZYQaN8k589cvmCcN+t2SW5YVadU1Xur6uc3qkAAAAAAtt9Wu4MlqQXzesF2fiDJg5JcK8k7q+pd3f3RK22o6qgkRyXJ/vvvv+3VAgAAALAua2kJdEGSW85c3i/JZxas87ru/kZ3fzHJ25LcbX5D3X18dx/a3Yfus88+660ZAAAAgG20lhDo1CQHVdWtq2qvJI9OcuLcOq9Kcr+q2rOqrp3knkk+vLGlAgAAALBeW+0O1t2XV9XRSU5OskeS53X3mVX15HH5cd394ap6XZIPJrkiyT9194d2ZOEAAAAArN1axgRKd5+U5KS5ecfNXX52kmdvXGkAAAAAbJS1dAcDAAAAYJMTAgEAAABMgBAIAAAAYAKEQAAAAAATIAQCAAAAmAAhEAAAAMAECIEAAAAAJkAIBAAAADABQiAAAACACRACAQAAAEyAEAgAAABgAoRAAAAAABMgBAIAAACYACEQAAAAwAQIgQAAAAAmQAgEAAAAMAF7LrsAAAA2pwOOec2yS2CTOO+Zj1h2CQBESyAAAACASRACAQAAAEyAEAgAAABgAoRAAAAAABMgBAIAAACYACEQAAAAwAQIgQAAAAAmQAgEAAAAMAFCIAAAAIAJEAIBAAAATIAQCAAAAGAChEAAAAAAEyAEAgAAAJgAIRAAAADABAiBAAAAACZACAQAAAAwAUIgAAAAgAkQAgEAAABMgBAIAAAAYAKEQAAAAAATIAQCAAAAmAAhEAAAAMAECIEAAAAAJkAIBAAAADABQiAAAACACRACAQAAAEyAEAgAAABgAoRAAAAAABMgBAIAAACYACEQAAAAwAQIgQAAAAAmQAgEAAAAMAFCIAAAAIAJEAIBAAAATIAQCAAAAGAChEAAAAAAEyAEAgAAAJgAIRAAAADABAiBAAAAACZgTSFQVR1RVWdX1TlVdcyC5YdX1Ver6vTx7/9ufKkAAAAArNeeW1uhqvZIcmyShyS5IMmpVXVid581t+p/d/cP74AaAQAAANhOa2kJdFiSc7r73O6+NMmLkxy5Y8sCAAAAYCOtJQTaN8n5M5cvGOfNu3dVfaCqXltVd1q0oao6qqpOq6rTLrzwwnWUCwAAAMB6rCUEqgXzeu7y+5LcqrvvluQ5SV65aEPdfXx3H9rdh+6zzz7bVCgAAAAA67eWEOiCJLecubxfks/MrtDdF3f318fpk5JcvapusmFVAgAAALBd1hICnZrkoKq6dVXtleTRSU6cXaGqbl5VNU4fNm73SxtdLAAAAADrs9Wzg3X35VV1dJKTk+yR5HndfWZVPXlcflySn0zyy1V1eZJvJnl0d893GQMAAABgSbYaAiXf7eJ10ty842amn5vkuRtbGgAAAAAbZS3dwQAAAADY5IRAAAAAABMgBAIAAACYACEQAAAAwAQIgQAAAAAmQAgEAAAAMAFCIAAAAIAJEAIBAAAATIAQCAAAAGAChEAAAAAAEyAEAgAAAJgAIRAAAADABAiBAAAAACZACAQAAAAwAUIgAAAAgAkQAgEAAABMgBAIAAAAYAKEQAAAAAATIAQCAAAAmAAhEAAAAMAECIEAAAAAJkAIBAAAADABQiAAAACACRACAQAAAEyAEAgAAABgAoRAAAAAABMgBAIAAACYACEQAAAAwAQIgQAAAAAmQAgEAAAAMAFCIAAAAIAJEAIBAAAATIAQCAAAAGAChEAAAAAAEyAEAgAAAJgAIRAAAADABAiBAAAAACZACAQAAAAwAUIgAAAAgAkQAgEAAABMgBAIAAAAYAKEQAAAAAATIAQCAAAAmAAhEAAAAMAECIEAAAAAJkAIBAAAADABQiAAAACACRACAQAAAEyAEAgAAABgAoRAAAAAABMgBAIAAACYACEQAAAAwAQIgQAAAAAmQAgEAAAAMAFCIAAAAIAJEAIBAAAATMCaQqCqOqKqzq6qc6rqmC2sd4+q+k5V/eTGlQgAAADA9tpqCFRVeyQ5NsnDkhyc5Geq6uBV1ntWkpM3ukgAAAAAts9aWgIdluSc7j63uy9N8uIkRy5Y71eTvCzJFzawPgAAAAA2wFpCoH2TnD9z+YJx3ndV1b5JfizJcVvaUFUdVVWnVdVpF1544bbWCgAAAMA6rSUEqgXzeu7yXyd5and/Z0sb6u7ju/vQ7j50n332WWOJAAAAAGyvPdewzgVJbjlzeb8kn5lb59AkL66qJLlJkodX1eXd/cqNKBIAAACA7bOWEOjUJAdV1a2TfDrJo5M8ZnaF7r71ynRVnZDkvwRAAAAAALuOrYZA3X15VR2d4axfeyR5XnefWVVPHpdvcRwgAAAAAJZvLS2B0t0nJTlpbt7C8Ke7H7f9ZQGwkQ445jXLLoFN4rxnPmLZJQAAsIOsZWBoAAAAADY5IRAAAADABAiBAAAAACZACAQAAAAwAUIgAAAAgAkQAgEAAABMgBAIAAAAYAKEQAAAAAATIAQCAAAAmAAhEAAAAMAECIEAAAAAJkAIBAAAADABQiAAAACACRACAQAAAEyAEAgAAABgAoRAAAAAABMgBAIAAACYACEQAAAAwAQIgQAAAAAmQAgEAAAAMAFCIAAAAIAJEAIBAAAATIAQCAAAAGAChEAAAAAAEyAEAgAAAJgAIRAAAADABAiBAAAAACZACAQAAAAwAUIgAAAAgAkQAgEAAABMgBAIAAAAYAKEQAAAAAATIAQCAAAAmAAhEAAAAMAECIEAAAAAJkAIBAAAADABQiAAAACACRACAQAAAEyAEAgAAABgAoRAAAAAABMgBAIAAACYACEQAAAAwAQIgQAAAAAmQAgEAAAAMAFCIAAAAIAJEAIBAAAATIAQCAAAAGAChEAAAAAAEyAEAgAAAJgAIRAAAADABAiBAAAAACZACAQAAAAwAUIgAAAAgAkQAgEAAABMgBAIAAAAYALWFAJV1RFVdXZVnVNVxyxYfmRVfbCqTq+q06rqvhtfKgAAAADrtefWVqiqPZIcm+QhSS5IcmpVndjdZ82s9qYkJ3Z3V9Vdk7w0yR12RMEAAAAAbLu1tAQ6LMk53X1ud1+a5MVJjpxdobu/3t09XrxOkg4AAAAAu4y1hED7Jjl/5vIF47wrqaofq6qPJHlNkidsTHkAAAAAbIS1hEC1YN5VWvp09yu6+w5JHpnkGQs3VHXUOGbQaRdeeOE2FQoAAADA+q0lBLogyS1nLu+X5DOrrdzdb0ty26q6yYJlx3f3od196D777LPNxQIAAACwPmsJgU5NclBV3bqq9kry6CQnzq5QVQdWVY3Td0+yV5IvbXSxAAAAAKzPVs8O1t2XV9XRSU5OskeS53X3mVX15HH5cUl+IsnPV9VlSb6Z5FEzA0UDAAAAsGRbDYGSpLtPSnLS3LzjZqafleRZG1saAAAAABtlLd3BAAAAANjkhEAAAAAAEyAEAgAAAJgAIRAAAADABAiBAAAAACZACAQAAAAwAUIgAAAAgAkQAgEAAABMgBAIAAAAYAKEQAAAAAATIAQCAAAAmAAhEAAAAMAECIEAAAAAJkAIBAAAADABQiAAAACACRACAQAAAEyAEAgAAABgAoRAAAAAABMgBAIAAACYACEQAAAAwAQIgQAAAAAmQAgEAAAAMAFCIAAAAIAJEAIBAAAATIAQCAAAAGAChEAAAAAAEyAEAgAAAJgAIRAAAADABAiBAAAAACZACAQAAAAwAUIgAAAAgAkQAgEAAABMgBAIAAAAYAKEQAAAAAATIAQCAAAAmAAhEAAAAMAECIEAAAAAJkAIBAAAADABQiAAAACACRACAQAAAEyAEAgAAABgAoRAAAAAABMgBAIAAACYACEQAAAAwAQIgQAAAAAmQAgEAAAAMAFCIAAAAIAJEAIBAAAATIAQCAAAAGAChEAAAAAAEyAEAgAAAJgAIRAAAADABAiBAAAAACZACAQAAAAwAUIgAAAAgAnYc9kFcGUHHPOaZZfAJnHeMx+x7BIAAADYRNbUEqiqjqiqs6vqnKo6ZsHyn62qD45//1NVd9v4UgEAAABYr62GQFW1R5JjkzwsycFJfqaqDp5b7RNJ7t/dd03yjCTHb3ShAAAAAKzfWloCHZbknO4+t7svTfLiJEfOrtDd/9PdXxkvvivJfhtbJgAAAADbYy0h0L5Jzp+5fME4bzW/mOS121MUAAAAABtrLQND14J5vXDFqgdkCIHuu8ryo5IclST777//GksEAAAAYHutpSXQBUluOXN5vySfmV+pqu6a5J+SHNndX1q0oe4+vrsP7e5D99lnn/XUCwAAAMA6rCUEOjXJQVV166raK8mjk5w4u0JV7Z/k5Uke290f3fgyAQAAANgeW+0O1t2XV9XRSU5OskeS53X3mVX15HH5cUn+b5IbJ/m7qkqSy7v70B1XNgAAAADbYi1jAqW7T0py0ty842amn5jkiRtbGgAAAAAbZS3dwQAAAADY5IRAAAAAABMgBAIAAACYACEQAAAAwAQIgQAAAAAmQAgEAAAAMAFCIAAAAIAJEAIBAAAATIAQCAAAAGAChEAAAAAAEyAEAgAAAJgAIRAAAADABAiBAAAAACZACAQAAAAwAUIgAAAAgAkQAgEAAABMgBAIAAAAYAKEQAAAAAATIAQCAAAAmAAhEAAAAMAECIEAAAAAJkAIBAAAADABQiAAAACACRACAQAAAEyAEAgAAABgAoRAAAAAABMgBAIAAACYACEQAAAAwAQIgQAAAAAmQAgEAAAAMAFCIAAAAIAJEAIBAAAATIAQCAAAAGAChEAAAAAAEyAEAgAAAJgAIRAAAADABAiBAAAAACZACAQAAAAwAUIgAAAAgAkQAgEAAABMgBAIAAAAYAKEQAAAAAATIAQCAAAAmAAhEAAAAMAECIEAAAAAJkAIBAAAADABQiAAAACACRACAQAAAEyAEAgAAABgAoRAAAAAABMgBAIAAACYACEQAAAAwAQIgQAAAAAmQAgEAAAAMAFCIAAAAIAJEAIBAAAATMCaQqCqOqKqzq6qc6rqmAXL71BV76yqb1fVb218mQAAAABsjz23tkJV7ZHk2CQPSXJBklOr6sTuPmtmtS8n+bUkj9wRRQIAAACwfdbSEuiwJOd097ndfWmSFyc5cnaF7v5Cd5+a5LIdUCMAAAAA22ktIdC+Sc6fuXzBOG+bVdVRVXVaVZ124YUXrmcTAAAAAKzDWkKgWjCv13Nj3X18dx/a3Yfus88+69kEAAAAAOuwlhDogiS3nLm8X5LP7JhyAAAAANgR1hICnZrkoKq6dVXtleTRSU7csWUBAAAAsJG2enaw7r68qo5OcnKSPZI8r7vPrKonj8uPq6qbJzktyfWTXFFVT0lycHdfvONKBwAAAGCtthoCJUl3n5TkpLl5x81Mfy5DNzEAAAAAdkFr6Q4GAAAAwCYnBAIAAACYACEQAAAAwAQIgQAAAAAmQAgEAAAAMAFCIAAAAIAJEAIBAAAATIAQCAAAAGAChEAAAAAAEyAEAgAAAJgAIRAAAADABAiBAAAAACZACAQAAAAwAUIgAAAAgAkQAgEAAABMgBAIAAAAYAKEQAAAAAATIAQCAAAAmAAhEAAAAMAECIEAAAAAJkAIBAAAADABQiAAAACACRACAQAAAEyAEAgAAABgAoRAAAAAABMgBAIAAACYACEQAAAAwAQIgQAAAAAmQAgEAAAAMAFCIAAAAIAJEAIBAAAATIAQCAAAAGAChEAAAAAAEyAEAgAAAJgAIRAAAADABAiBAAAAACZACAQAAAAwAUIgAAAAgAkQAgEAAABMgBAIAAAAYAKEQAAAAAATIAQCAAAAmAAhEAAAAMAECIEAAAAAJkAIBAAAADABQiAAAACACRACAQAAAEyAEAgAAABgAoRAAAAAABMgBAIAAACYACEQAAAAwAQIgQAAAAAmQAgEAAAAMAFCIAAAAIAJEAIBAAAATIAQCAAAAGAC1hQCVdURVXV2VZ1TVccsWF5V9bfj8g9W1d03vlQAAAAA1murIVBV7ZHk2CQPS3Jwkp+pqoPnVntYkoPGv6OS/P0G1wkAAADAdlhLS6DDkpzT3ed296VJXpzkyLl1jkzygh68K8kNquoWG1wrAAAAAOu05xrW2TfJ+TOXL0hyzzWss2+Sz86uVFVHZWgplCRfr6qzt6lapuwmSb647CJ2JfWsZVcAuwXHljmOLbAhHFvmOLbAhnBsmePYsqpbrbZgLSFQLZjX61gn3X18kuPXcJtwJVV1Wncfuuw6gN2LYwuwIzi2ADuCYwsbYS3dwS5IcsuZy/sl+cw61gEAAABgSdYSAp2a5KCqunVV7ZXk0UlOnFvnxCQ/P54l7F5Jvtrdn53fEAAAAADLsdXuYN19eVUdneTkJHskeV53n1lVTx6XH5fkpCQPT3JOkkuSPH7HlcxE6UYI7AiOLcCO4NgC7AiOLWy36r7K0D0AAAAA7GbW0h0MAAAAgE1OCAQAAAAwAUIgAAAAgAkQAgEAAABMgBCIXVJV3ayq7l5V319VN1t2PcDmVlXXrqrfqarfrqprVtXjqurEqvqzqrrususDNqeqOrqqbjJOH1hVb6uqi6rq3VV1l2XXBwDznB2MXUpVHZLkuCR7J/n0OHu/JBcl+ZXuft9yKgM2s6p6aZLzk1wrye2TfDjJS5P8SJKbd/djl1gesElV1Zndfadx+jVJ/qm7X1FVhyf5k+6+zzLrAza/8QfxfZN0ks909+eXXBKbnBCIXUpVnZ7kSd397rn590ryD919t6UUBmxqVXV6dx9SVZXks0lu0d09Xv5Ad991ySUCm1BVnd3dtx+nT+3ue8ws+6BjC7BefhxnR9lz2QXAnOvMB0BJ0t3vqqrrLKMgYPcxBj8n9fgLyHjZryHAev1nVZ2Q5I+SvKKqnpLk5UkelORTS6wL2PxOyOo/jj8/iR/HWRchELua147NqV+QoetGktwyyc8ned3SqgI2u9Oq6rrd/fXufsLKzKq6bZKvLbEuYBPr7v9TVY9L8u9JbpvkGkmOSvLKJD+7vMqA3YAfx9khdAdjl1NVD0tyZIa+r5XkgiQndvdJSy0M2C1VVbU3QwBgF1JVf5shXF704/gnuvvoZdXG5iYEAmASqurmSdLdn6uqfZLcL8nZ3X3mcisDNquq2j/JF7r7W+MYY49LcvckZyX5x+6+fJn1AZubH8fZEYRAbBpVdVR3H7/sOoDNp6qelOSYDB+gnpXhi9qZSe6T5M+6+5+XVx2wWVXVh5Ic1t2XVNWzMvxq/8okD0yS2e6nALArMCYQm0ktuwBg0zo6yZ0ynCL+k0kOHFsE3TDJW5IIgYD1uFp3XzJOPzjJPbr7iiQvrKoPLLEuYDfmx3G2hxCIXU5V3SHfa/bYST6TodnjPyy1MGAzu2z8onZJVX28uz+XJN39FWcHA7bD+VX1wO5+c5LzMozX8cmquvFyywJ2c34cZ92utuwCYFZVPTXJizMc2N6T5NRx+t+r6phl1gZsaldU1dXH6UeszKyqa8Z7IbB+T0zyB1X1tiR7JTm9qt6c5I1JfmOplQG7s0uXXQCblzGB2KVU1UeT3Km7L5ubv1eSM7v7oOVUBmxm4+Ctn11wbNk3yR27+43LqQzYHVTVHZPcLkMr+wuSnDp2CwPYcFX1qe7ef9l1sDnpDsau5ook35dhzI5ZtxiXAWyz7v7UKvM/neTTO7kcYDfT3R9O8uGqun6Sg5LsneQry60K2Myq6oOrLUpys51ZC7sXIRC7mqckeVNVfSzJ+eO8/ZMcmGFgV4BtNo419lcZwuRfS/IHSR6Z5KNJfmH8AgewTarqhUme0t1frKqHJvmnJGcnOaiqfqu7/2O5FQKb2M2SPDRXDZQryf/s/HLYXQiB2KV09+uq6nZJDsswMHTle82qv7PU4oDN7Pgkz05y3SRvTvLUJI9P8sNJnpvkQcsrDdjE7tbdXxynn5bkft19XlXdJMmbkgiBgPX6ryTX7e7T5xdU1Sk7vRp2G8YEAmC3V1Xv7+7vH6fP6e4DZ5a9r7vvvrzqgM2qqs5Mcu/uvriq3p7kB1fGAqqqM7v7TsutEACuTEsgAKZgj5npv5xbttfOLATYrfxhkrdU1bFJ3pHkP6rqVUkemOR1S60MABbQEgiA3V5VPSnJi7r763PzD0xydHc/ZSmFAZveeBz5pVz57GCv7O6Tl1oYACwgBAIAAACYgKstuwAA2NFq8NNV9VPj9IOq6m+r6leqynshsC5V9WNVdaNxep+q+peqOqOqXlJV+y27PgCYpyUQALu9qvq7JDfNMP7PxUmukeTVSR6e5PPd/etLLA/YpKrqrO4+eJx+SZJ3ZTgj2IOT/Gx3P2SZ9QHAPCEQALu9qjqju+9SVVdP8rkkt+juS6tqzyTv7+67LLlEYBOqqrO7+/bj9Hu7+wdmlp3e3YcsrTgAWEATeACm4PIk6e7Lkpza3ZeOly9P8p1lFgZsaqdU1R9V1bXG6UcmSVU9IMlXl1oZACwgBAJgCj5XVddNku4+YmVmVd08yaVLqwrY7I5OckWSs5P8VJKXV9XXMpwt7LHLLAwAFtEdDIDJqqrrJLlOd39h2bUAm1tV7Z1kz+7+0rJrAYDVCIEAmISVs4B19xVVtVeSOyc5r7u/vNzKgM1qPJZc1uMH6rEb2N2TnNXdr11qcQCwgO5gAOz2xnE6Ppvk01V1ZJL/TvLnST5YVT+yzNqATe3UJDdIkqr67SR/kuRaSX6jqv7fEusCgIW0BAJgt1dV70/ysAxfzj6Q5B7dfXZV3SrJy7r70KUWCGxKVfWh7r7zOH1akvt19zfHMw++r7vvutwKAeDKtAQCYBK6+3Pd/Ykkn+rus8d5n4z3QmD9Lq6qO4/TX0xyzXF6zzi2ALAL2nPZBQDAzlBVV+vuK5I8YWbeHkn2Wl5VwCb35CQvqqoPJPlCktOq6q1J7prkT5daGQAsoDsYALu9qrpHkjO6+1tz8w9Ict/ufuFSCgM2vTFM/qEkt8vwA+sFSU7u7ouWWRcALCIEAgCADVJVN3aaeAB2VfoqA7Dbq6qbV9XfV9WxVXXjqnp6VZ1RVS+tqlssuz5gc6qqZ1bVTcbpQ6vq3CTvrqpPVtX9l1weAFyFEAiAKTghyVlJzk/yliTfTPKIDKeKP255ZQGb3CO6+4vj9LOTPKq7D0zykCR/sbyyAGAx3cEA2O1V1fu7+/vH6U919/4zy07v7kOWVhywaVXVR5Lcubsvr6p3dfe9Zpad0d13WWJ5AHAVWgIBMAWz73cv2MIygG1xbJKTquqBSV5XVX9dVT9YVX+Y5PTllgYAV+UU8QBMwauq6rrd/fXu/v2VmVV1YJKPLrEuYBPr7udU1RlJfjnfOzvY7ZO8MskfL7E0AFhIdzAAAACACdAEHoBJqKrDquoe4/TBVfUbVfXwZdcFbF5Vdc+quv44fa2q+sOqenVVPauq9l52fQAwT0sgAHZ7VfW0JA/L0FXjDUnumeSUJA9OcnJ3/8nyqgM2q6o6M8ndxoGhj09ySZL/TPKgcf6PL7VAAJgjBAJgtzeO2XFIkmsk+VyS/br74qq6VpJ3d/ddl1kfsDlV1Ye7+47j9Pu6++4zy5x5EIBdju5gAEzB5d39ne6+JMnHu/viJOnubya5YrmlAZvYh6rq8eP0B6rq0CSpqtsluWx5ZQHAYkIgAKbg0qq69jj9AyszxzE7hEDAej0xyf2r6uNJDk7yzqo6N8k/jssAYJeiOxgAu72qukZ3f3vB/JskuUV3n7GEsoDdRFVdL8ltMow7dkF3f37JJQHAQkIgACapqm7U3V9edh3A7qOqDkxytyQf7u6zll0PAMzTHQyA3V5V3aeqPlxVZ46ndH5DktOq6vyquvey6wM2p6p6y9iiMFX12CQnZTgT4Uuq6leXWhwALKAlEAC7vap6T5JfTHLdJK9O8sjufntV3T3Jc7r7PkstENiUqupD3X3ncfrUJEd095fGMcje5cyDAOxq9lx2AQCwE1x9Zdyfqrqwu9+eJN39vvE08QDrcVlV7dvdn07y9STfGOd/O8keyysLABYTAgEwBbPdn393btleO7MQYLfyv5O8vqpeluTMJG+uqtcluV+S5y+1MgBYQHcwAHZ7VfWjSd7Y3ZfMzb9tkp/o7j9bTmXAZldVeyd5TJLbZTw7WJJXdfdHlloYACwgBAIAAACYAGcHA2C3V1XXrqrfqarfrqprVtXjqurEqvqzqrrususDNqeqOnrm7GC3raq3VdVXqurdVXWXZdcHAPOEQABMwQlJbpbk1klek+TQJH+epJL8/fLKAja5X+7uL47Tf5vkr7r7hkmemuS45ZUFAIsZGBqAKbhdd/90VVWSzyZ5cHd3Vf13kg8suTZg85r9LH3T7n5FknT3KVV1vSXVBACr0hIIgMnoYSC8k8b/K5cNjges139W1QlVdZskr6iqp1TV/lX1+CSfWnZxADBPSyAApuC0qrpud3+9u5+wMnM8O9jXllgXsIl19/+pqscl+fckt01yjSRHJXllkp9dXmUAsJizgwEwaVVV7c0QAIAJ0B0MgEmoqptX1c3H6X2q6ser6k4CIGC9xq5f1xynq6oeX1XPqapfriot7gHY5QiBANjtVdWTkrwzybuq6peT/FeSH07y8qr6xaUWB2xmJ+V7n6efmeQRSd6d5B5Jjl9WUQCwGt3BANjtVdUZSe6Z5FpJPpnkwO7+XFXdMMlbuvuQZdYHbE5VdVZ3HzxOvzfJPbr7ivHyB7r7bkstEADmaAkEwBRc1t2XdPeXkny8uz+XJN39lTg7GLB+51fVA8fp85LcMkmq6sZLqwgAtkBfZQCm4Iqqunp3X5ahu0aSZBzLww8iwHo9MckLqurpSb6a5PSqen+SGyb5jWUWBgCL6A4GwG6vqvZP8tkxBJqdv2+SO3b3G5dTGbA7qKo7Jrldhh9YL0hy6kq3MADYlQiBAABgA1TV9ZMclOTcsbspAOxSNIEHYLdXVXeoqtdW1Wuq6rZVdUJVXVRV7xl/wQfYZlX1wqq6yTj90CRnJnlWhm5hP7XU4gBgASEQAFNwfJK/S/LCJG9O8roMY3Y8I8lzl1gXsLndrbu/OE4/Lcn9uvvBSX4gye8vrywAWEwIBMAUXK+7X93d/57hTGEv7sGrM4RBAOtxtbELWJJckeRTSTIGQ07AAsAux5sTAFOwx8z0X84t22tnFgLsVv4wyVuq6tgk70jyH1X1qiQPzNDiEAB2KQaGBmC3V1VPSvKi7v763PwDkxzd3U9ZSmHApjceR34pVz472Cu7++SlFgYACwiBAAAAACbAmEAA7PZq8NNV9VPj9IOq6m+r6leqynshsC5V9WNVdaNxep+q+peqOqOqXlJV+y27PgCYpyUQALu9qvq7JDfNMP7PxUmukeTVSR6e5PPd/etLLA/YpKrqrO4+eJx+SZJ3JfmPJA9O8rPd/ZBl1gcA84RAAOz2quqM7r5LVV09yeeS3KK7L62qPZO8v7vvsuQSgU2oqs7u7tuP0+/t7h+YWXZ6dx+ytOIAYAFN4AGYgsuTpLsvS3Jqd186Xr48yXeWWRiwqZ1SVX9UVdcapx+ZJFX1gCRfXWplALCAEAiAKfhcVV03Sbr7iJWZVXXzJJcurSpgszs6yRVJzk7yU0leXlVfy3C2sMcuszAAWER3MAAmq6quk+Q63f2FZdcCbG5VtXeSPbv7S8uuBQBWIwQCYBJWzgLW3VdU1V5J7pzkvO7+8nIrAzar8VhyWY8fqMduYHdPclZ3v3apxQHAArqDAbDbG8fp+GyST1fVkUn+O8mfJ/lgVf3IMmsDNrVTk9wgSarqt5P8SZJrJfmNqvp/S6wLABbSEgiA3V5VvT/JwzJ8OftAknt099lVdaskL+vuQ5daILApVdWHuvvO4/RpSe7X3d8czzz4vu6+63IrBIAr0xIIgEno7s919yeSfKq7zx7nfTLeC4H1u7iq7jxOfzHJNcfpPePYAsAuaM9lFwAAO0NVXa27r0jyhJl5eyTZa3lVAZvck5O8qKo+kOQLSU6rqrcmuWuSP11qZQCwgO5gAOz2quoeSc7o7m/NzT8gyX27+4VLKQzY9MYw+YeS3C7DD6wXJDm5uy9aZl0AsIgQCAAANkhV3dhp4gHYVemrDMBur6puXlV/X1XHVtWNq+rpVXVGVb20qm6x7PqAzamqnllVNxmnD62qc5O8u6o+WVX3X3J5AHAVQiAApuCEJGclOT/JW5J8M8kjMpwq/rjllQVsco/o7i+O089O8qjuPjDJQ5L8xfLKAoDFdAcDYLdXVe/v7u8fpz/V3fvPLDu9uw9ZWnHAplVVH0ly5+6+vKre1d33mll2RnffZYnlAcBVaAkEwBTMvt+9YAvLALbFsUlOqqoHJnldVf11Vf1gVf1hktOXWxoAXJVTxAMwBa+qqut299e7+/dXZlbVgUk+usS6gE2su59TVWck+eV87+xgt0/yyiR/vMTSAGAh3cEAAAAAJkATeAAmoaoOq6p7jNMHV9VvVNXDl10XsHlV1T2r6vrj9LWq6g+r6tVV9ayq2nvZ9QHAPC2BANjtVdXTkjwsQ1eNNyS5Z5JTkjw4ycnd/SfLqw7YrKrqzCR3GweGPj7JJUn+M8mDxvk/vtQCAWCOEAiA3d44ZschSa6R5HNJ9uvui6vqWkne3d13XWZ9wOZUVR/u7juO0+/r7rvPLHPmQQB2ObqDATAFl3f3d7r7kiQf7+6Lk6S7v5nkiuWWBmxiH6qqx4/TH6iqQ5Okqm6X5LLllQUAiwmBAJiCS6vq2uP0D6zMHMfsEAIB6/XEJPevqo8nOTjJO6vq3CT/OC4DgF2K7mAA7Paq6hrd/e0F82+S5BbdfcYSygJ2E1V1vSS3yTDu2AXd/fkllwQACwmBAJikqrpRd3952XUAu4+qOjDJ3ZJ8uLvPWnY9ADBPdzAAdntVdZ+q+nBVnTme0vkNSU6rqvOr6t7Lrg/YnKrqLWOLwlTVY5OclOFMhC+pql9danEAsICWQADs9qrqPUl+Mcl1k7w6ySO7++1Vdfckz+nu+yy1QGBTqqoPdfedx+lTkxzR3V8axyB7lzMPArCr2XPZBQDATnD1lXF/qurC7n57knT3+8bTxAOsx2VVtW93fzrJ15N8Y5z/7SR7LK8sAFhMCATAFMx2f/7duWV77cxCgN3K/07y+qp6WZIzk7y5ql6X5H5Jnr/UygBgAd3BANjtVdWPJnljd18yN/+2SX6iu/9sOZUBm11V7Z3kMUlul/HsYEle1d0fWWphALCAEAgAAABgApwdDIBJq6qjll0DsPtxbAFgVyQEAmDqatkFALslxxYAdjm6gwEwCVV1hyRHJtk3SSf5TJITu/vDSy0M2NQcWwDYTLQEAmC3V1VPTfLiDL/MvyfJqeP0v1fVMcusDdi8HFsA2Gy0BAJgt1dVH01yp+6+bG7+XknO7O6DllMZsJk5tgCw2WgJBMAUXJHk+xbMv8W4DGA9HFsA2FT2XHYBALATPCXJm6rqY0nOH+ftn+TAJEcvqyhg03tKHFsA2ER0BwNgEqrqakkOyzB4ayW5IMmp3f2dpRYGbGqOLQBsJkIgAAAAgAkwJhAAAADABAiBAAAAACZACAQAAAAwAUIgAGCHqqprVtV7quoDVXVmVf3hEmp4clX9/A6+jRtU1a/MXP6+qvrPHXmbAADbwsDQAMAOVVWV5Drd/fWqunqStyf59e5+1zq3t2d3X76hRW6AqjogyX91952XXcu8XXWfAQA7l5ZAAMAO1YOvjxevPv4t/BWqqk6pqr+uqv+pqg9V1WHj/KdX1fFV9fokL6iqfarqZVV16vh3n6q6WlWdV1U3mNneOVV1s/H6vzXOO6Sq3lVVH6yqV1TVDWdu+9Bx+iZVdd44faexJdPp43UOWuWuPjPJbcf1nl1VB1TVh8ZtPK6qXlVVr6uqs6vqaavtr9nrjZd/q6qePk7/WlWdNdbx4nHedarqeeN+eH9VHTlzm/9RVa9O8vrVHyEAYCr2XHYBAMDur6r2SPLeJAcmOba7372F1a/T3f+rqn4wyfOSrLSs+YEk9+3ub1bVvyX5q+5+e1Xtn+Tk7r5jVb0qyY8leX5V3TPJed39+aEx0ne9IMmvdvdbq+qPkjwtyVO2UM+Tk/xNd7+oqvZKsscq6x2T5M7dfch4nw+YW37YeF8uSXJqVb2mu0/bwu2udhu37u5vz4Rd/yfJm7v7CeO891TVG8dl905y1+7+8jbeDgCwG9ISCADY4br7O2M4sl+Sw6pqS12m/n28ztuSXH8m7Dixu785Tj84yXOr6vQkJ47rXS/JS5I8alzn0ePl76qqvZPcoLvfOs76lyQ/uJXy35nk96rqqUluNVPDtnpDd39pvP7Lk9x3Hdv4YJIXVdXPJVnp3vVDSY4Z98UpSa6ZZP+Z2xQAAQBJhEAAwE7U3RdlCCqO2NJqq1z+xsy8qyW5d3cfMv7t291fyxDYHFhV+yR5ZIawZa0uz/c+G11zpuZ/S/KjSb6Z5OSqeuA2bHPWavdrS3VcqZYkj0hybIZWUe+tqj2TVJKfmNkX+3f3h8f1Z/cZADBxQiAAYIcax++5wTh9rQyteD6yhas8alz3vkm+2t1fXbDO65McPXMbhyTD+ENJXpHkL5N8uLu/NHulcVtfqar7jbMem2SlVdB5GcKVJPnJmW3fJsm53f23GVod3XWVur+W5HpbuF8PqaobjfvgkUnescp6n09y06q6cVVdI8kPj3VcLcktu/stSX4nyQ2SXDfJyUl+dRyAO1X1/VuoAQCYMGMCAQA72i2S/Ms4LtDVkry0u/9rC+t/par+J8n1kzxhlXV+LcmxVfXBDJ9n3pZh7J5k6AJ2apLHrXLdX0hyXFVdO8m5SR4/zv/zJC+tqscmefPM+o9K8nNVdVmSzyX5o0Ub7e4vVdU7xkGdX5uhxc6styf51wzjIv3bauMBdfdl41hF707yiXwvMNsjyQvHLm2VYUyki6rqGUn+OskHxyDovIzBEQDALKeIBwB2GVV1SpLfWseAybu0qnpckkO7++itrQsAsKPoDgYAAAAwAVoCAQA7XVUdm+Q+c7P/prufv4x6tkVV3TjJmxYsetD8GEQ7YzsAAGslBAIAAACYAN3BAAAAACZACAQAAAAwAUIgAAAAgAkQAgEAAABMgBAIAAAAYAL+fzOKdLCbocIzAAAAAElFTkSuQmCC",
      "text/plain": [
       "<Figure size 1440x720 with 1 Axes>"
      ]
     },
     "metadata": {
      "needs_background": "light"
     },
     "output_type": "display_data"
    }
   ],
   "source": [
    "plt.figure(figsize=(20, 10))\n",
    "ax = instacart_train.groupby('3_previous_tip_user').tip.mean().plot(kind='bar')\n",
    "ax.set_title(label = 'Verteilung tip der 3 vorherigen orders und tip aktuelle order', fontsize = 20)\n",
    "plt.show()"
   ]
  },
  {
   "cell_type": "markdown",
   "metadata": {},
   "source": [
    "### Day of week zu tip\n",
    "- Samstag und Sonntag ist die Wahrscheinlichkeit, dass ein tip gegeben wird, um ca. 0,1 höher. Der Unterschied ist statistisch signifikant, da für alle Ausprägungen ausreichend Beobachtungen vorliegen."
   ]
  },
  {
   "cell_type": "code",
   "execution_count": 103,
   "metadata": {},
   "outputs": [
    {
     "data": {
      "image/png": "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",
      "text/plain": [
       "<Figure size 1440x720 with 1 Axes>"
      ]
     },
     "metadata": {
      "needs_background": "light"
     },
     "output_type": "display_data"
    }
   ],
   "source": [
    "plt.figure(figsize=(20, 10))\n",
    "ax = instacart_train.groupby('order_dow').tip.mean().plot(kind='bar')\n",
    "ax.set_title(label = 'Verteilung nach DOW und Tip', fontsize = 20)\n",
    "plt.show()"
   ]
  },
  {
   "cell_type": "markdown",
   "metadata": {},
   "source": [
    "### Hour of day zu tip\n",
    "- Zwischen 19 Uhr und 4 Uhr scheint die Wahrscheinlichkeit, dass ein tip gegegeben wird, um ca. 0,1 höher. Ca. 14% der Bestellungen fallen in diesen Zeitraum. Somit scheint der Unterschied auch statistisch signifikant zu sein."
   ]
  },
  {
   "cell_type": "code",
   "execution_count": 104,
   "metadata": {},
   "outputs": [
    {
     "name": "stdout",
     "output_type": "stream",
     "text": [
      "Ca. 13.955476948707787% der Bestellungen wurden in zwischen 19 und 4 Uhr aufgegeben.\n"
     ]
    },
    {
     "data": {
      "image/png": "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",
      "text/plain": [
       "<Figure size 1440x720 with 1 Axes>"
      ]
     },
     "metadata": {
      "needs_background": "light"
     },
     "output_type": "display_data"
    }
   ],
   "source": [
    "night_percentage = len(instacart_train[(instacart_train['order_hour_of_day'] < 5) | (instacart_train['order_hour_of_day'] > 18)]) / len(instacart_train)\n",
    "print(f'Ca. {night_percentage*100}% der Bestellungen wurden in zwischen 19 und 4 Uhr aufgegeben.')\n",
    "plt.figure(figsize=(20, 10))\n",
    "ax = instacart_train.groupby('order_hour_of_day').tip.mean().plot(kind='bar')\n",
    "ax.set_title(label = 'Verteilung nach Hour of Day und Tip', fontsize = 20)\n",
    "plt.show()"
   ]
  },
  {
   "cell_type": "markdown",
   "metadata": {},
   "source": [
    "### Days since prior order zu tip\n",
    "\n",
    "- Aufwärtstrend in der ersten Woche an den Tagen 1-7 erkennbar.\n",
    "- Erste Trendkomponente: Statistisch signifikanter Abwärtstrend hinsichtlich der tip-Wahrscheinlichkeit ab Beginn der zweiten Woche. (Siehe Abbildung Verteilung nach Weeks since prior order und tip)\n",
    "- Zweite Trendkomponente: Statistisch signifkant höherer tip-Wahrscheinlichkeit, wenn relativ gesehen wieder an denselben Wochentagen bestellt wird (Erste Bestellung Dienstags, zweite Bestellung Dienstags). Dagegen deutlich geringere tip-Wahrscheinlichkeit, wenn zwei Wochentage später die nächste Bestellung erfolgt (Erste Bestellung Dienstags, zweite Bestellung Donnerstags) (Siehe Abbildung Verteilung nach relative day since prior order und tip)"
   ]
  },
  {
   "cell_type": "code",
   "execution_count": 105,
   "metadata": {},
   "outputs": [
    {
     "data": {
      "image/png": "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",
      "text/plain": [
       "<Figure size 1440x720 with 1 Axes>"
      ]
     },
     "metadata": {
      "needs_background": "light"
     },
     "output_type": "display_data"
    }
   ],
   "source": [
    "plt.figure(figsize=(20, 10))\n",
    "ax = instacart_train.groupby('days_since_prior_order').tip.mean().plot(kind='bar')\n",
    "ax.set_title(label = 'Verteilung nach Days since prior order und tip', fontsize = 20)\n",
    "plt.show()"
   ]
  },
  {
   "cell_type": "code",
   "execution_count": 106,
   "metadata": {},
   "outputs": [
    {
     "data": {
      "image/png": "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",
      "text/plain": [
       "<Figure size 1440x720 with 1 Axes>"
      ]
     },
     "metadata": {
      "needs_background": "light"
     },
     "output_type": "display_data"
    }
   ],
   "source": [
    "plt.figure(figsize=(20, 10))\n",
    "instacart_train['weeks_since_prior_order'] = instacart_train['days_since_prior_order'] // 7\n",
    "ax = instacart_train.groupby('weeks_since_prior_order').tip.mean().plot(kind='bar')\n",
    "ax.set_title(label = 'Verteilung nach Weeks since prior order und tip', fontsize = 20)\n",
    "plt.show()"
   ]
  },
  {
   "cell_type": "code",
   "execution_count": 107,
   "metadata": {},
   "outputs": [
    {
     "data": {
      "image/png": "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",
      "text/plain": [
       "<Figure size 1440x720 with 1 Axes>"
      ]
     },
     "metadata": {
      "needs_background": "light"
     },
     "output_type": "display_data"
    }
   ],
   "source": [
    "plt.figure(figsize=(20, 10))\n",
    "instacart_train['day_since_prior_order'] = instacart_train['days_since_prior_order'] % 7\n",
    "ax = instacart_train.groupby('day_since_prior_order').tip.mean().plot(kind='bar')\n",
    "ax.set_title(label = 'Verteilung nach relative day since prior order und tip', fontsize = 20)\n",
    "plt.show()"
   ]
  },
  {
   "cell_type": "markdown",
   "metadata": {},
   "source": [
    "### Mean days since prior order per User zu tip\n",
    "- Nutzer, die im Durschnitt nach 0 bis 7 Tagen erneut bestellen haben eine stark steigende tip-Wahrscheinlichkeit.\n",
    "- Die höchste tip-Wahrscheinlichkeit haben Nutzer, die durchschnittlichen nach genau 7 Tagen erneut bestellen.\n",
    "- Nutzer, die im Durchscnitt mehr nach mehr als 7 Tagen erneut bestellen, haben eine sinkende tip-Wahrscheinlichkeit."
   ]
  },
  {
   "cell_type": "code",
   "execution_count": 108,
   "metadata": {},
   "outputs": [
    {
     "data": {
      "image/png": "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",
      "text/plain": [
       "<Figure size 1440x720 with 1 Axes>"
      ]
     },
     "metadata": {
      "needs_background": "light"
     },
     "output_type": "display_data"
    }
   ],
   "source": [
    "plt.figure(figsize=(20, 10))\n",
    "instacart_train['mean_days_since_prior_oder_by_user'] = instacart_train.groupby('user_id')['days_since_prior_order'].transform('mean')\n",
    "instacart_train['mean_days_since_prior_oder_by_user'] = instacart_train['mean_days_since_prior_oder_by_user'].round(0)\n",
    "ax = instacart_train.groupby('mean_days_since_prior_oder_by_user').tip.mean().plot(kind='bar')\n",
    "ax.set_title(label = 'Verteilung nach mean days since prior order und tip', fontsize = 20)\n",
    "plt.show()"
   ]
  },
  {
   "cell_type": "markdown",
   "metadata": {},
   "source": [
    "### Order number zu tip\n",
    "- Mit der Anzahl der Bestellungen nimmt die tip-Wahrscheinlichkeit zunächst stetig zu. \n",
    "- Die höchste tip-Wahrscheinlichkeit kann für die Nutzer bei der 35. Bestellung beobachtet werden. Bei ca. 52% der 35. Bestellungen wurde ein tip gegeben.\n",
    "- Bei mehr als 35 Bestellungen beginnt die tip-Wahrscheinlichkeit wieder zu sinken. Je höher die Anzahl der Bestellungen, desto weniger Beobachtungen liegen für vor. Dennoch sind die Trends signifikant."
   ]
  },
  {
   "cell_type": "code",
   "execution_count": 109,
   "metadata": {},
   "outputs": [
    {
     "data": {
      "image/png": "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",
      "text/plain": [
       "<Figure size 1440x720 with 1 Axes>"
      ]
     },
     "metadata": {
      "needs_background": "light"
     },
     "output_type": "display_data"
    }
   ],
   "source": [
    "plt.figure(figsize=(20, 10))\n",
    "ax = instacart_train.groupby('order_number').tip.mean().plot(kind='bar')\n",
    "ax.set_title(label = 'Verteilung nach Order number und Tip', fontsize = 20)\n",
    "plt.show()"
   ]
  },
  {
   "cell_type": "markdown",
   "metadata": {},
   "source": [
    "### Amount of ordered products zu tip"
   ]
  },
  {
   "cell_type": "code",
   "execution_count": 110,
   "metadata": {},
   "outputs": [
    {
     "data": {
      "image/png": "iVBORw0KGgoAAAANSUhEUgAABIEAAAJsCAYAAABqPLOnAAAAOXRFWHRTb2Z0d2FyZQBNYXRwbG90bGliIHZlcnNpb24zLjQuMywgaHR0cHM6Ly9tYXRwbG90bGliLm9yZy/MnkTPAAAACXBIWXMAAAsTAAALEwEAmpwYAABHDklEQVR4nO3de7xsZV0/8M9X8IYX8IJXxEOKGaaQId4TLxlKipr98lKCpWReMLUSf/ZL0y6kZeUtwxtpmZV5wUBRUTQvqAgoklKIRyVNQQHNO/j8/lhry5w5M3vP3mf22XP2er9fr3ntmTXfWetZa82sveezn/Wsaq0FAAAAgM3tKhvdAAAAAADWnxAIAAAAYACEQAAAAAADIAQCAAAAGAAhEAAAAMAACIEAAAAABkAIBECSpKpaVZ02Nu25/fRDN6RRm1RVHdpv1+dudFsWRVVtraqtq6jf0m/DE2as39TbfNpnddLnmtnM6/i32d97O2K9t01VndDPf8t6zB9gVyQEAliFqnpD/wflb81Q++6+9iHr0A5fKpioqp7dvzdaVf3kRreHyarqtKpqG7TshQl3q+qokffr0u37VfX5/gv8ARvdxp1NcLG9kd95q7lt2eh2Ayyi3Te6AQC7mOOTPDLJ45P8zbSi/o/P+yb5SpJ/2ykt23E/leQ7G90I1q6qKslvJGlJKt379Hc2tFEwm08meWt/f88khyY5Msn/qar7tNZO36B2sRi2JvnDsWl7JXlqksuS/NWE11ya5FlJjkvy3+vWMoBdjBAIYBVaa6dV1X8m+ZmqumNr7cwppY9L9yX8ta21y3deC9eutfbZjW4DO+z+SfZLckKSByQ5sqr+b2vtBxvaKljZ2a215y496APN16YLgv40yb03qF0sgNba1iTPHZ3W/7PlqUkuHX3vjLk03T9jAOg5HQxg9V7Z/3z8pCerarckR6XrjfGqkem37bv5f6k/3eGr/ell252yM3I6wE9U1VOq6lNV9d3+FJITkryvL33OWPf3Q8fm88iqel9VXVJV36uqz1TV71fV1Scsc6axQ1Yai2XSaS6jp69V1UFVdVJVXVpV36mq91fV3abM66ZV9dqq+lq//mdX1ZGrPR1u5JSTo6rq3n0bv1VV3+zb8lMTXnObqjquqs6oqov6ffaFqjq+qvZZZln3r6q3923+fr+/31ZV95tSP/P2mMHSe/KVSf4hyQ2TPHTKcn98SlBVPbyqPtYv/xtV9caquvmU+qm3kdqrVdWTq+rkfpt9v5/ve6rqAcutQFXtUVUvrKov9q87v6qe2YcCc1FVd+3bcln/Pjilqg6eUrt7VT2xqk7v3y/fqaqz+vXb7u+oqnpwVZ1aVV/p2//lfp8+sX9+S7+t7tU/Ht2Gp43Na5+qemlVXdDP6+tVdWJV3WkH1n1rkuf0D983af/1dXtU1bP6z9y3q+p/q+ojVfXICfMc/Xwf0r+fv1E7cEpOa60leXn/8JDR9ve361bVi/r7P6yRY0FV3beq3tm34XtV9Z/9Z3nPKdvkZ/v6pWPCe6rqrlNqV338m6aqrlFVb+rn97Kqukr/2iP7ks+P7J+tY6+9flX9aXXH9O/27+VTq+r+syx7retSaz+W37iqXl3d770fH8tnbeta1YRT60bXu7rfy2/t3yvfrqoPrmYbAuyK9AQCWL2/S/LHSR5VVc9orY2fQvXAJDdP8u7W2ueTpKoOS/LmJFdN8vYk5yfZJ8nDkhxeVfee0qvor5PcM8lJSU5OckWSj/fPHZnk/UlOG6nfunSnql6d5NeTXNgv+9Ikd0ny/CT3raqf34BeSgcn+b0kH0kXkO2b5JeSnFpVB7XWzlsqrKobJflwki1JPtDfv0m6L4bvWuPyfzHJEUnekeQVSQ5It7/uVFUHtNYuHql9WJInpAvcPpzkB0lul66X14Oq6uDW2janGFTVHyb5gyT/m+7Uli8luVmSuyX51STvWev2WElV3TjJg5P8Z2vtw1X1zSRPT3J0kn9a5qVP7F93Yrr3052T/EqSA/s2fL+vO23K62+R7n323ZFp10/33v1wkncnuSjJTZM8KMnJVfX41tqrxmeU7vPxrnTb7B1JLk/ykHSnc1wj258OshZ3TneKyHuSvCzJrdPt65+rqvu31v59qbCqlj6vv5DkvCRvSPK9dL1SXtLP69dG6o9O8rdJ/qd/3cVJbpTkDkkem+69e2m/HkclueXYOm0dmdcd022L6yc5Jd1n+IbptscHq+qhrbWT17D+f9XP417pjmVbxwuqaq8k703yM0nOTPKadP84/IUkb6iq27XWfn/CvO+abtt+sH/NDdN9btZqKfgbD1Wu1rfv+um20TeTLB1rfzPdqbrfTvIvSb6W7tSyZ6b73N69tXbpyLreLd174WrptvH5SQ5K935/7w60fVlVdb10n7m7J3lWa+24fvofpts/B6b7DC21dbTNt+zbtyXJvyd5Z5JrpTu+vbOqfrO1tvTPivWymmP5DdIdC34i3Xvjg+mOB6/I2o/l87BfuvZ/Ot3n9qbpjn3vqKpHtdaWO24C7Lpaa25ubm5uq7yl+1Ldkhw14bm39c89vH98vSSXpPtCeMBY7e3SBQZnjk0/oZ/HfyfZb8IyDu2ff+6U9h3VP//mJNcce+65/XNPHZvekpw2pfbQkWlb+mknTFn2aen/kT+hvdttsyS/2U9/+dj0V/fT/2xs+oFJvr/c+i+zPS5Pct+x5/60f+73xqbfPMnVJ8zr/unCuL+ZML0luSDJzSe8bp8d2R4zrOOx/eueNTLtE0l+lOTWE+qX9u03k9x+7Lk39M/9nxWWed0kn+q3x8NGpl99dH1Hpu+Z7gvXNya8L7f2yzx59Ll0Icql/e2qs74Pl/nMtCRPHnvuiH76fyW5yoRt9JIku41M323k/XnE2Pb+fpIbTVj+DVf6nIw8t3u6MOJ7Se419tzN0h0XvjL6/syEz2o/fabP9djzJ2TyZ+Ia6QKHHyU5aMq2/c1Vvm+PmrQf0wVAf9c/d+qE98l7klxr7DW37Lf/N5Pcduy5l/evO35sGZ8d34/9c08dWadDR6Yv+76btF8zdrzu2/kf6QKyX11m+29ZZhk/SvKIsel7JTk7XSB74xm2/Y6sy2qO5cf30/9ybPrBSX44um1W+d5Zav/WZWq225Yjr2tJXjilTZckue5q2+Tm5ua2K9ycDgawNsf3Px83OrGqbpquZ8lX04VBSfKYdH+cP6e19h+j9a21c9OduvMzNfkqOC9ofW+iVXpqusDj11tr3x177vlJvp7k0WuY7476UGvthLFpr0nX1tFTPq6WbgDuy5L80Whxa+2TSV63xuW/sbV26ti0pX15yOjE1tp/tyt7wYxOf1eSc9P1ihj1lP7nM9pYD6H+dRdOaM9M22MlVVXp3os/yrbb5oR0X3QfN+FlS17cWjtnbNpSL4Kpbaiq3dP1tLh9kt9trb156bnW2vcnrW9r7bJ063e9JNNOaTpm9D3bWvtaus/SnknmcbWz83PlaUZLy3hbul5Qt07X8y7Vner15HS9ep7WWrtipP6KJM9I9yVy/HN0ebovkdto2/YyW8nhSW6V5CWttfePzefLSV6QrlfcfVcxz5n0vTZ+NckZrbUXjC37e+l61FSSR014+dmttb9d46IP6k8xem5V/WW6HkiPSRdoPHtC/TNaa98em/ar6Xr0vLRtP8bZs5N8K8mv1ZWnw94t3XvqA/17YNRLk3xujesyVVUdlK73yc2TPKC19verfP2B6Xpx/Wtr7Y2jz7Wuh9Nz0oV1vzSP9i5j1mP5VdN9Rr6VsTF9WmtnpDttdaNcluR5oxNG2rRXppxKC7CrczoYwNq8N90XhLtX1U+11j7TT39sumPrCa21pS+CS2NLHFiTx7C5Tf/zp9L9d3jUx1bbsKraI11vmYuT/HZNHkrl+/3ydrYzxie01n5YVV9NFwws+ckk10z3RfRbE+bzwSwfbMy8/HSnbGVs+UvByqPT9VQ4sH9+t5GS8dNc7pIuFHjnjrRnyvZYyX3ShQanjAVQb0jy50mOqqr/N/KeXLYNmbJNxvxNut5PL2+tvWj8yaq6XZLfTfJz6U6zuMZYyc3HX5Pkstba+Wtsz6z+vbX2ownTT0v35fpn0gVCt0lyg3S9g35/yufou9n2c/QPSf4iyblV9U/9fD7UWrtolW1cOmbccsoxY//+50+l6zk1T3dK9z6fNubWVUeWPW7Vx6sRB/a3pAvRvpLk9UmOGw/P0/WQ+tSEedyx/7ndaVyttUuq6qx078fbprsa2VL9+yfUX1FVH0z3uZqXe6Q7RfNbSX6uD7RXa+m9seeU/bN3/3O9j++zHrtum2SPdJ+7yybM57RcOQbSznbmlN8vp6Vr08+k640GsKkIgQDWoLXWqupV6U4lelySZ/ShwdLluUfHO7lB/3PiQNIjrj1h2v+soXnXS/ef+r1z5QCwi+LSKdMvz7YBy579z69OqZ82fdXLb61d3n/B323sqRcl+e10X0ZPSXcKzlIPlaPSndIxaq8kl0zoebWq9vTGt8dKju5/njA6sbX29ap6e7peAUckedOMbVgaK2piG6rqWene9yclOWbC83dJ90V89ySnphv75JvpTyPq27Ld4ORT2rJie1Zp2ntn6bO29N5b+tzun+U/Rz/+3LbWXlRVF6cbZ+mYdO+fVlXvT9dbalLgNsnSsn95hbpJx4wdtbTsO2V6b61py17L8WrJ37XWjpqx9muttTZh+tK+m3Y1qKXpe43Vr/SemJefSXKddOPjrPVqjEv75+f72zTr8d4YdemU6as9ls97G6/GrMcCgE1FCASwdq9N15X8Mf2X4numG/jyvWO9GZb++3lga23Sf6+XM+mLzkqWlndWa+2Oy1auzVIvimm/Q/aawzK+2f+88ZTnp02fi35Q6mPSjV9zt/H/FteEKySl+1J0g6q65iqDoB1SVXunG0g2Sf6xqv5xSunRmRwCrXZ5v5JuYPSz0o1JcsWEst9P15Pr3q2108Ze/6x0IdBGmfbeuUn/87Kxn29prT1s1pm31l6X5HX94Mp3S3dKya8nOaXvNfi1GWaztOwjWmsnzrrsOVla9l+21p6+yteu5Xi1FtOWs9T2m6Q7ZXPcTcfqln6u9J4YtSPHv5emC+d/K8mJVfWQNRwrltr81Nbai1f52nE741i+lm28s8x6LADYVIwJBLBGrbWvpuvhsHTFnqWePsePlZ7e/7znHBe/9MV7u54RrbX/TfcF6HZVdf05LnPJJf3PW4w/UVXXzZWnt+2Iz6brdXOHqrrOhOfvMYdlLOcn0v2OfNeEAGif/vlxp6frgXXYOrdt3JHpxkH5RLrBiifdLkpyv6rab0cW1F9J6YR0vaJ+sX+vTXLrJN8YD4B699qRNszBPWrCpd3TDXibdOFW0r0HL01yl35ck1VprV3aWju5tfb4dNvs+tn2GHBFklTVpN5N63HMGDX1+JHulK4freOy19PSvjt0/Ik+lDso3alkS6fvLl2Rcbv3ZL9fJh1nduT411prT0x3hbb7Jzmpqq41oW65/TPP98bOOpZ/J92YT5N61hw6h2Ws1R2n/H45tP951oTnAHZ5QiCAHbM0gO4z0gVBFyd5y1jNa9N9mXxOVW030G5VXaWqDl3lcr/e/9x3yvMvShcMvKb/8jO+zOv1l6BetT4U+Wy68ZB+PJh1/6XpRel6gOyQ1toP0l2Bbc90vUp+rB8Y9TE7uowVbO1/3mP0S3pVXTvdPp/0n/OX9D//oqq2G+9m0rQ5WRob6YmttcdNuqW7/PFKA0Qvq6punW6A5h8mObwfoHiarUmuX1V3GJvHb2T7AbV3tv3Tna71Y1V1RLog4Px0l9xOa+3ydPv0pkleXFXbva+r6qZjn4HD+gGzx92o//mdkWnLfYbflm7MsSdV1QMnrURV3bUf/2stpi6776n0D0kOrqr/N2l9qupWOxoorpO/T/f+fEr/fh31/HRXs/v7kQHfP5zkvCQ/178HRj05E8YDmsfxr7X2tHSnEt87XQ+x646VLLd/zkj3Hn1YVf36pPlX1e373owrtWNnHMt/mO79dJ2MDQxdVQdnYy5QsGTPJH8wOmGkTZdl+9/lAJuC08EAdsy7knw+V14N5aV9gPFj/bgsD0/3B+XpVXVqup46P0r3R/5d043zMD5w7nLOS9cb4xFV9YMkX0x3isTrW2tfaK29pqp+Nt2X3c9V1Sl9zfWT7JducNTXJnnCGtY5SV6YrofJh6rqX9L9d/3e6QaN/WSuHOB1RxybbsDj36uqO6f7wnbTJP8n3WC4D8mVpzPMVWvtf6rqjUkekeTsqnpXui8MP59uXc9O16tg9DXvqqrnJ/l/ST5TVW9NN6DxjdP1KDg93VhCc9OHhz+Z5JzW2nKD8r463dWRHltVz+kDjtV6cbpeb+9N9wV0u1OkWmvP7e/+Vbqw54NV9c/pvlAdnG47vCnJw9ew/Hl5Z7qg7gHp3qu3TvKwdPv1N8YGjX5+uvfyE5I8qKrem+5zd6N0YdLd023XpYGL35jke/2AwlvTBW/3TDe2zifSXdZ8yanpxvx5c1WdnK7n2xdaa6/vB9h9WLqxqE6qqg+ne899J12vjTul641202wbLM3qfek+O39aVT+dvkdIa23pSnxP7tfveemupvXBdOOn3CzdgMN3Snf1vrVcuXDdtNa2VtVvJ3lZkjP7995F6QK+u6YLPJ45Ut/6YPLdSf61qt6cLgg8MMn90r1XJvXs2+HjX2vt/1bV95L8YZJ3V9VhrbWlnjmnphtU/ZVV9aYk/5vk0tbaS/vnH5Xuc/jqqjomyUfT/aNhnyR3SPLT/frOcurhzjiW/990V7L77T5k+WC69+6vpDuWP3gOy1iLDyR5XP/75UMjbbpKkt9srX1zuRcD7KqEQAA7oP8S8epceRnzV06pO7XvFfE76b4c3zPd1aW+nO6P+X9d5XKvqKqHJjkuXShynXRfOD+Y5At9zZOq6h3pvsDeL934Dt9IFwa9MN1/zdekD5kq3ZVujkz3JfJt6f7YX9W6LLOMr/anH/1JkgcmuXO68OuJSb6dLgRazz/SfyPJBem+FDwp3ZfJE9P953jiOrbW/qCqTk83ntAvJrlWui9iZ2Ttl7VfztIpiK9arqj/cvyedCHWg7K2/3Av9Tq5T3+b5Ln98t5ZVQ9K14vrV9Kd3vKxdF8ufyIbGwJ9NF248fx0YUel+ww+u7X28dHCPox5SLpLjx+Vbp9eO9174fPpAr/RS1wfm+7zfcd079nvpfs8PjPJ34xdne1V6QYXf0SS30v3N9n7010RK621T/W93p7eL/ex6YKbr6Q7TeU56Xoerlpr7TNVdWS649ETc2UA/Uf989+sqnulG0fqUekGFr9GuiDov5I8LV1wsnBaay+vqvPTrdsvpXvffindMe9P+suoj9Z/qKrumW6cqwf0kz+a7pSgX8iEEGhex7/W2vOq6rtJXpDk1Kq6f2vt4tbaKVX1jHSf76el69X5hXRjCqW1dmEf8j+lX8dHpzt17H/SBZIvSXLOjG3YGcfyi6vq7umO5Q9KFwifl25spK3ZuBDo8+l+Px7X/7x6ulMEn9daO2WD2gSw7mryxRUAYHFV1R+n+5JymD/WAZhVVW1JFwCt5op0AJuGMYEAWFhVdbMJ026frqfNN9L1nAAAAGbgdDAAFtkZ/akdn053Ctj+SQ5P90+MJ7TWvreRjQMAgF2JEAiARfa36cb+eWS6cY8uTTdY7p9Pufw4AAAwhTGBAAAAAAbAmEAAAAAAA7Bhp4Pd8IY3bFu2bNmoxQMAAABsOp/4xCcubq3tPem5DQuBtmzZkjPOOGOjFg8AAACw6VTVF6Y953QwAAAAgAEQAgEAAAAMgBAIAAAAYACEQAAAAAADIAQCAAAAGAAhEAAAAMAACIEAAAAABkAIBAAAADAAQiAAAACAARACAQAAAAyAEAgAAABgAIRAAAAAAAMgBAIAAAAYACEQAAAAwAAIgQAAAAAGQAgEAAAAMABCIAAAAIABEAIBAAAADIAQCAAAAGAAhEAAAAAAA7BiCFRVr6mqr1XVp6c8X1X14qo6v6o+VVV3nH8zAQAAANgRs/QEOiHJYcs8/4Ak+/e3o5P8zY43CwAAAIB5WjEEaq19IMk3lik5IsnrWuf0JHtV1U3n1UAAAAAAdtw8xgS6eZIvjTy+sJ8GAAAAwILYfQ7zqAnT2sTCqqPTnTKWfffddw6LBgAAWJ0tx5603bStxx2+AS3Z9Szytpu1bYu8DrOa9zrMe9ttVN0sFrlt6zG/cfPoCXRhkluMPN4nyZcnFbbWjm+tHdxaO3jvvfeew6IBAAAAmMU8QqATkzymv0rYXZJc1lr7yhzmCwAAAMCcrHg6WFX9Y5JDk9ywqi5M8pwkV02S1torkpyc5IFJzk/ynSSPXa/GAgAAALA2K4ZArbVHrvB8S/KkubUIAAAAgLmbx+lgAAAAACw4IRAAAADAAAiBAAAAAAZACAQAAAAwAEIgAAAAgAEQAgEAAAAMgBAIAAAAYACEQAAAAAADIAQCAAAAGAAhEAAAAMAACIEAAAAABkAIBAAAADAAQiAAAACAARACAQAAAAyAEAgAAABgAIRAAAAAAAMgBAIAAAAYACEQAAAAwAAIgQAAAAAGQAgEAAAAMABCIAAAAIABEAIBAAAADIAQCAAAAGAAhEAAAAAAAyAEAgAAABgAIRAAAADAAAiBAAAAAAZACAQAAAAwAEIgAAAAgAEQAgEAAAAMgBAIAAAAYACEQAAAAAADIAQCAAAAGAAhEAAAAMAACIEAAAAABkAIBAAAADAAQiAAAACAARACAQAAAAyAEAgAAABgAIRAAAAAAAMgBAIAAAAYACEQAAAAwAAIgQAAAAAGQAgEAAAAMABCIAAAAIABEAIBAAAADIAQCAAAAGAAhEAAAAAAAyAEAgAAABgAIRAAAADAAAiBAAAAAAZACAQAAAAwAEIgAAAAgAEQAgEAAAAMgBAIAAAAYACEQAAAAAADIAQCAAAAGAAhEAAAAMAACIEAAAAABkAIBAAAADAAQiAAAACAARACAQAAAAyAEAgAAABgAIRAAAAAAAMgBAIAAAAYACEQAAAAwAAIgQAAAAAGQAgEAAAAMABCIAAAAIAB2H2jGwAAAEBny7EnbTdt63GHb0BLgM1ITyAAAACAARACAQAAAAyAEAgAAABgAIRAAAAAAAMgBAIAAAAYACEQAAAAwAAIgQAAAAAGQAgEAAAAMABCIAAAAIABEAIBAAAADIAQCAAAAGAAhEAAAAAAAyAEAgAAABgAIRAAAADAAAiBAAAAAAZACAQAAAAwAEIgAAAAgAEQAgEAAAAMgBAIAAAAYACEQAAAAAADIAQCAAAAGAAhEAAAAMAACIEAAAAABkAIBAAAADAAQiAAAACAAZgpBKqqw6rqvKo6v6qOnfD8nlX19qr6ZFWdW1WPnX9TAQAAAFirFUOgqtotycuSPCDJAUkeWVUHjJU9Kcl/tNYOTHJokr+oqqvNua0AAAAArNEsPYEOSXJ+a+2C1toPkrwxyRFjNS3Jdaqqklw7yTeSXD7XlgIAAACwZrOEQDdP8qWRxxf200a9NMlPJflyknOSPLW19qO5tBAAAACAHbb7DDU1YVobe/wLSc5Ocp8kt0ry7qr699baN7eZUdXRSY5Okn333XfVjQUAAFgkW449abtpW487fANaArCyWXoCXZjkFiOP90nX42fUY5O8uXXOT/L5JLcdn1Fr7fjW2sGttYP33nvvtbYZAAAAgFWaJQT6eJL9q2q/frDnRyQ5cazmi0numyRVdeMkP5nkgnk2FAAAAIC1W/F0sNba5VX15CSnJNktyWtaa+dW1RP651+R5PlJTqiqc9KdPvbM1trF69huAAAAAFZhljGB0lo7OcnJY9NeMXL/y0nuP9+mAQAAADAvs5wOBgAAAMAuTggEAAAAMABCIAAAAIABEAIBAAAADIAQCAAAAGAAhEAAAAAAAzDTJeIBAABgnrYce9J207Yed/gGtASGQ08gAAAAgAEQAgEAAAAMgBAIAAAAYACEQAAAAAADIAQCAAAAGAAhEAAAAMAACIEAAAAABkAIBAAAADAAQiAAAACAARACAQAAAAyAEAgAAABgAIRAAAAAAAMgBAIAAAAYgN03ugEAAACszpZjT9pu2tbjDl+Y+c3TIrdtPYyv72ZeV3Y+PYEAAAAABkAIBAAAADAAQiAAAACAARACAQAAAAyAEAgAAABgAIRAAAAAAAMgBAIAAAAYACEQAAAAwAAIgQAAAAAGQAgEAAAAMABCIAAAAIABEAIBAAAADIAQCAAAAGAAhEAAAAAAAyAEAgAAABgAIRAAAADAAAiBAAAAAAZACAQAAAAwAEIgAAAAgAEQAgEAAAAMgBAIAAAAYACEQAAAAAADIAQCAAAAGAAhEAAAAMAACIEAAAAABkAIBAAAADAAQiAAAACAARACAQAAAAyAEAgAAABgAIRAAAAAAAMgBAIAAAAYACEQAAAAwAAIgQAAAAAGQAgEAAAAMABCIAAAAIABEAIBAAAADIAQCAAAAGAAhEAAAAAAAyAEAgAAABgAIRAAAADAAAiBAAAAAAZACAQAAAAwAEIgAAAAgAHYfaMbAAAAAItmy7EnbTdt63GHb0BLYH70BAIAAAAYACEQAAAAwAAIgQAAAAAGQAgEAAAAMABCIAAAAIABEAIBAAAADIAQCAAAAGAAhEAAAAAAAyAEAgAAABgAIRAAAADAAAiBAAAAAAZACAQAAAAwAEIgAAAAgAEQAgEAAAAMwO4b3QAAAGBjbTn2pO2mbT3u8A1oCQDrSU8gAAAAgAEQAgEAAAAMgBAIAAAAYACEQAAAAAADIAQCAAAAGABXBwMAYFBcCQuAodITCAAAAGAAhEAAAAAAAyAEAgAAABgAIRAAAADAAAiBAAAAAAZACAQAAAAwAEIgAAAAgAEQAgEAAAAMwEwhUFUdVlXnVdX5VXXslJpDq+rsqjq3qt4/32YCAAAAsCN2X6mgqnZL8rIkP5/kwiQfr6oTW2v/MVKzV5KXJzmstfbFqrrROrUXAAAAgDWYpSfQIUnOb61d0Fr7QZI3JjlirOZRSd7cWvtikrTWvjbfZgIAAACwI2YJgW6e5Esjjy/sp426TZLrVdVpVfWJqnrMvBoIAAAAwI5b8XSwJDVhWpswn59Nct8k10zykao6vbX2n9vMqOroJEcnyb777rv61gIAAEyx5diTtpu29bjDN6Al21vktgHDMUtPoAuT3GLk8T5Jvjyh5p2ttW+31i5O8oEkB47PqLV2fGvt4NbawXvvvfda2wwAAADAKs0SAn08yf5VtV9VXS3JI5KcOFbztiT3rKrdq2qPJHdO8pn5NhUAAACAtVrxdLDW2uVV9eQkpyTZLclrWmvnVtUT+udf0Vr7TFW9M8mnkvwoyataa59ez4YDAAAAMLtZxgRKa+3kJCePTXvF2OMXJnnh/JoGAAAAwLzMFAIBAAA7hwGEAVgvs4wJBAAAAMAuTggEAAAAMABCIAAAAIABEAIBAAAADIAQCAAAAGAAXB0MAICZuXIVAOy69AQCAAAAGAAhEAAAAMAACIEAAAAABsCYQAAAwEIzFhXAfOgJBAAAADAAQiAAAACAAXA6GAAA7AROaQJgowmBAGDB+KIIAMB6cDoYAAAAwAAIgQAAAAAGQAgEAAAAMADGBAJgcIy5AwzJ+DHP8Q5guPQEAgAAABgAPYEA2FT08oFdi88sAOw8egIBAAAADIAQCAAAAGAAhEAAAAAAA2BMIACATcyYOwDAEiEQAEl8UQQAgM3O6WAAAAAAA6AnEAAbajP0QNoM6wAAwOYnBAJgXQhGAABgsTgdDAAAAGAAhEAAAAAAA+B0MABgwzhtcO1sOwBgtYRAAAALZLOEO5tlPQBgMxECAeyifMECAABWQwgEsMkJi2B7PhcAwBAJgQBgFyXIYCi81wFgPoRAAHPgCwpsTrN+th0DAIBdgRAI2FR8EQMAAJhMCASwEwmp1s62AwCAHSMEAoCdRJAFuxafWQA2GyEQwDJ8AQAAADYLIRAwSIse7ixy+xa5bfM2pHUFAGDzEwIBG8qXbAAAgJ1DCASsGwEPbD4+15uXfQsAm58QCABIIgQAANjshEDALsGXUwAAgB0jBAKATU6ICgBAIgQCAIBdkoB3/Y1vY9t3dkPadrN+Fn1mWQRX2egGAAAAALD+9AQCfsx/J4BdneMYAMB0QiAYAF+KgJ1t3scdxzEAgB0nBIJd2EZ9KfJlDAAAYNdjTCAAAACAARACAQAAAAyAEAgAAABgAIwJBAvImDsAAADMmxAIdiLhDgAAABvF6WAAAAAAA6AnEMyBHj4AAAAsOj2BAAAAAAZACAQAAAAwAE4HgxU41QsAAIDNQE8gAAAAgAEQAgEAAAAMgNPBGCyneQEA8zCkvymGtK4Am5EQiE3HHycAAACwPSEQAMBO4J8UAMBGEwIBALApCNoAYHlCIHYZ/rADAACAtXN1MAAAAIABEAIBAAAADIAQCAAAAGAAjAnEhjPWDwAAAKw/PYEAAAAABkAIBAAAADAATgdj3TjNCwAAABaHnkAAAAAAAyAEAgAAABgAp4Oxak7zAgAAgF2PnkAAAAAAAyAEAgAAABgAIRAAAADAABgTiB8z1g8AAABsXnoCAQAAAAyAnkAAAMCG0BN9/dnGwCgh0ECMH/wd+AEAAGBYnA4GAAAAMABCIAAAAIABEAIBAAAADIAxgXZxBnoDAAAAZqEnEAAAAMAACIEAAAAABsDpYAvKaV4AAADAPOkJBAAAADAAegLtZHr4AAAAABthpp5AVXVYVZ1XVedX1bHL1N2pqq6oqofPr4kAAAAA7KgVQ6Cq2i3Jy5I8IMkBSR5ZVQdMqfuzJKfMu5EAAAAA7JhZegIdkuT81toFrbUfJHljkiMm1D0lyb8m+doc2wcAAADAHMwyJtDNk3xp5PGFSe48WlBVN0/y0CT3SXKnubVuF2KsHwAAAGCRzdITqCZMa2OP/yrJM1trVyw7o6qjq+qMqjrjoosumrGJAAAAAOyoWXoCXZjkFiOP90ny5bGag5O8saqS5IZJHlhVl7fW3jpa1Fo7PsnxSXLwwQePB0kAAAAArJNZQqCPJ9m/qvZL8t9JHpHkUaMFrbX9lu5X1QlJ/m08ANpVOc0LAAAA2AxWDIFaa5dX1ZPTXfVrtySvaa2dW1VP6J9/xTq3EQAAAIAdNEtPoLTWTk5y8ti0ieFPa+2oHW8WAAAAAPM0y8DQAAAAAOziZuoJtBkZ6wcAAAAYEj2BAAAAAAZACAQAAAAwAEIgAAAAgAEQAgEAAAAMwKYbGNqAzwAAAADb0xMIAAAAYACEQAAAAAADIAQCAAAAGAAhEAAAAMAACIEAAAAABmCXujrY+JW/XPULAAAAYDZ6AgEAAAAMgBAIAAAAYACEQAAAAAADIAQCAAAAGAAhEAAAAMAACIEAAAAABkAIBAAAADAAQiAAAACAARACAQAAAAyAEAgAAABgAHbf6AYkyZZjT9pu2tbjDt+AlgAAAABsTnoCAQAAAAyAEAgAAABgAIRAAAAAAAMgBAIAAAAYACEQAAAAwAAsxNXBAACAzcPVf2Ex+CwyTk8gAAAAgAEQAgEAAAAMgBAIAAAAYACEQAAAAAADIAQCAAAAGAAhEAAAAMAACIEAAAAABkAIBAAAADAAQiAAAACAARACAQAAAAyAEAgAAABgAIRAAAAAAAMgBAIAAAAYACEQAAAAwAAIgQAAAAAGQAgEAAAAMABCIAAAAIABEAIBAAAADIAQCAAAAGAAhEAAAAAAAyAEAgAAABgAIRAAAADAAAiBAAAAAAZACAQAAAAwAEIgAAAAgAEQAgEAAAAMgBAIAAAAYACEQAAAAAADIAQCAAAAGAAhEAAAAMAACIEAAAAABkAIBAAAADAAQiAAAACAARACAQAAAAyAEAgAAABgAIRAAAAAAAMgBAIAAAAYACEQAAAAwAAIgQAAAAAGQAgEAAAAMABCIAAAAIABEAIBAAAADIAQCAAAAGAAhEAAAAAAAyAEAgAAABgAIRAAAADAAAiBAAAAAAZACAQAAAAwAEIgAAAAgAEQAgEAAAAMgBAIAAAAYACEQAAAAAADIAQCAAAAGAAhEAAAAMAACIEAAAAABkAIBAAAADAAQiAAAACAARACAQAAAAyAEAgAAABgAIRAAAAAAAMgBAIAAAAYACEQAAAAwAAIgQAAAAAGQAgEAAAAMAAzhUBVdVhVnVdV51fVsROef3RVfaq/fbiqDpx/UwEAAABYqxVDoKraLcnLkjwgyQFJHllVB4yVfT7JvVprd0jy/CTHz7uhAAAAAKzdLD2BDklyfmvtgtbaD5K8MckRowWttQ+31i7pH56eZJ/5NhMAAACAHTFLCHTzJF8aeXxhP22a30jyjh1pFAAAAADztfsMNTVhWptYWHXvdCHQPaY8f3SSo5Nk3333nbGJAAAAAOyoWXoCXZjkFiOP90ny5fGiqrpDklclOaK19vVJM2qtHd9aO7i1dvDee++9lvYCAAAAsAazhEAfT7J/Ve1XVVdL8ogkJ44WVNW+Sd6c5Ndaa/85/2YCAAAAsCNWPB2stXZ5VT05ySlJdkvymtbauVX1hP75VyT5gyQ3SPLyqkqSy1trB69fswEAAABYjVnGBEpr7eQkJ49Ne8XI/ccledx8mwYAAADAvMxyOhgAAAAAuzghEAAAAMAACIEAAAAABkAIBAAAADAAQiAAAACAARACAQAAAAyAEAgAAABgAIRAAAAAAAMgBAIAAAAYACEQAAAAwAAIgQAAAAAGQAgEAAAAMABCIAAAAIABEAIBAAAADIAQCAAAAGAAhEAAAAAAAyAEAgAAABgAIRAAAADAAAiBAAAAAAZACAQAAAAwAEIgAAAAgAEQAgEAAAAMgBAIAAAAYACEQAAAAAADIAQCAAAAGAAhEAAAAMAACIEAAAAABkAIBAAAADAAQiAAAACAARACAQAAAAyAEAgAAABgAIRAAAAAAAMgBAIAAAAYACEQAAAAwAAIgQAAAAAGQAgEAAAAMABCIAAAAIABEAIBAAAADIAQCAAAAGAAhEAAAAAAAyAEAgAAABgAIRAAAADAAAiBAAAAAAZACAQAAAAwAEIgAAAAgAEQAgEAAAAMgBAIAAAAYACEQAAAAAADIAQCAAAAGAAhEAAAAMAACIEAAAAABkAIBAAAADAAQiAAAACAARACAQAAAAyAEAgAAABgAIRAAAAAAAMgBAIAAAAYACEQAAAAwAAIgQAAAAAGQAgEAAAAMABCIAAAAIABEAIBAAAADIAQCAAAAGAAhEAAAAAAAyAEAgAAABgAIRAAAADAAAiBAAAAAAZACAQAAAAwAEIgAAAAgAEQAgEAAAAMgBAIAAAAYACEQAAAAAADIAQCAAAAGAAhEAAAAMAACIEAAAAABkAIBAAAADAAQiAAAACAARACAQAAAAyAEAgAAABgAIRAAAAAAAMgBAIAAAAYACEQAAAAwAAIgQAAAAAGQAgEAAAAMABCIAAAAIABEAIBAAAADIAQCAAAAGAAhEAAAAAAAyAEAgAAABgAIRAAAADAAAiBAAAAAAZACAQAAAAwAEIgAAAAgAEQAgEAAAAMgBAIAAAAYABmCoGq6rCqOq+qzq+qYyc8X1X14v75T1XVHeffVAAAAADWasUQqKp2S/KyJA9IckCSR1bVAWNlD0iyf387OsnfzLmdAAAAAOyAWXoCHZLk/NbaBa21HyR5Y5IjxmqOSPK61jk9yV5VddM5txUAAACANZolBLp5ki+NPL6wn7baGgAAAAA2SLXWli+o+uUkv9Bae1z/+NeSHNJae8pIzUlJ/rS19sH+8alJfq+19omxeR2d7nSxJPnJJOeNLe6GSS6eod2boW6R27bodYvctkWvW+S2LXrdIrdt0esWuW2LXrfIbVv0ukVu26LXLXLbFr1ukdu26HWL3LZFr1vkti163SK3bbPULXLbFr1uR+Z1y9ba3hOrW2vL3pLcNckpI4+fleRZYzV/m+SRI4/PS3LTleY9YVlnDKVukdu26HWL3LZFr1vkti163SK3bdHrFrlti163yG1b9LpFbtui1y1y2xa9bpHbtuh1i9y2Ra9b5LYtet0it22z1C1y2xa9bt7LXLrNcjrYx5PsX1X7VdXVkjwiyYljNScmeUx/lbC7JLmstfaVGeYNAAAAwE6w+0oFrbXLq+rJSU5JsluS17TWzq2qJ/TPvyLJyUkemOT8JN9J8tj1azIAAAAAq7ViCJQkrbWT0wU9o9NeMXK/JXnSHNpz/IDqFrlti163yG1b9LpFbtui1y1y2xa9bpHbtuh1i9y2Ra9b5LYtet0it23R6xa5bYtet8htW/S6RW7botctcts2S90it23R6+a9zCQzDAwNAAAAwK5vljGBAAAAANjFCYEAAAAABmCXCIGq6rZVdd+quvbY9MPGHh9SVXfq7x9QVU+vqgeuMO/XzbD8e/Tzuv/Y9DtX1XX7+9esqj+sqrdX1Z9V1Z4jdcdU1S1mWM7VquoxVXW//vGjquqlVfWkqrrqWO2tqup3quqvq+ovquoJo8sEAAAAGLWQYwJV1WNba6/t7x+TbtDpzyQ5KMlTW2tv6587s7V2x/7+c5I8IN1g1+9OcuckpyW5X5JTWmt/XFXjl7avJPdO8t4kaa09uJ/Xx1prh/T3H98v/y1J7p/k7a214/rnzk1yYH8FtePTXRntTUnu209/WF93WZJvJ/lckn9M8i+ttYsmrPc/9O3fI8mlSa6d5M39/Kq1duTINnlQkvenuyrb2UkuSfLQJE9srZ0267aGSarqRq21r81xfjdorX19XvMbEvtiMdgPi8O+WBz2xeKwLxaD/bA47AtYRmtt4W5Jvjhy/5wk1+7vb0lyRrogKEnOGqvbLV2A8s0k1+2nXzPJp/r7Zyb5+ySHJrlX//Mr/f17jcxrdL4fT7J3f/9aSc4Zee4zI/fPHFuHs0fnl67X1f2TvDrJRUnemeTIJNcZqVtq5+5Jvppkt/5xLT03uq79/T2SnNbf33e07bviLcmN5jivG2z0+oy0Zc8kxyX5bJKv97fP9NP2muH17xi5f90kf5rk9UkeNVb38pH7N0nyN0leluQGSZ7bv3f+OclNR+quP3a7QZKtSa6X5PojdYeNrc+rk3wqyRuS3HjkueOS3LC/f3CSC5Kcn+QLY5+zM5P8fpJbrbDuByd5X//ZvUW6kPey/rP5M33NtZM8L8m5/XMXJTk9yVHz3A+bcV/Mcz9s1L7YDPths+yLee8P+8Lvinnui521H4a8L2bZD5tlXyzyflj0fTHP/bDB+2Ku27ivrXSdGR6W7h/8d07fcWPGbXzbCdOuOmHaDVeYzxNnWNa1k9xx0v5P9710r/7+liQPT/LTU96nD03XwWG7tm/UOiS52uh2T9dx5BlJHrCWfZHkDjO+Zqa6WffD1NesdiHzuvUfuEm3c5J8f6TuPyas5DuTvChjQcuk+/3js/ufV0nytP4DelA/7YIJbftkf9C4QZIzxp4bXc6/JHlsf/+1SQ7u798mycdH6sYDoqsmeXC6XkEXjUz/dP+Gu16Sb6U/aCW5RrYNnM5JcvX+/vWSfGJ0HiP3F/YXZ183twN2Fv8X5ylJnpnkJmPb6ZlJ3t0/vuOU288m+crI6/61X9+HJDmxf7z0fjhzpO6dSZ6S5Nh+ez0z3QH5KUneNlL3oySfH7v9sP95wei2G7n/qiR/lOSW6T5Tbx19f47cf1+SO418Ls4Yee7zSf48yReTfKyfz80m7IuPpevl98gkX0ry8H76fZN8pL//tiRHJdknydOT/L8k+yf5uyR/spr9MLR9Mc/9sFH7YjPsh82yL+a9P+wLvyvmuS/muR/si8n7Ypb9sFn2xSLvh0XfF/PcDxu8L+a9je+f7vvLO/r2varfBucnuf/4Pp50y7adKe6d5MJ030/elWTLlG3x9LHbM5JcvPR4pG70+9490r0H39ev+wNHnju23/afTfK4/uer031fenpfc690nTvek+6Mln9L8qF0Z/LcYgHW4ZNJrtff/90kH073HfLdSf50Dfviin4/Pj/JAcu8ZsW6Wddh2bbNUrQet3Q9XQ5K98EbvW1J8uWRuvemD2xGpu2e5HVJrhiZ9tEke/T3rzIyfc9sH8Lsky7Aeenozhl5fmu6EOHz/c+b9NOvnW2Dpz2TnJDuNK+PpjvYXJDuNK0DR+rOWmY7XHPk/tP6138hyTFJTk3yynQBynNG6p6a7kB4fLoP1VIQtXeSD4zULewvzr5ubgfsLP4vzvOWeQ+cN/Khf2/f/vHbd0fqzx57/bPTHTRvMLatzhq5/8Wx14y+j3+n32e3H91OE9p55jJtGJ3fZ5Ps3t8/fazunCnzu2eSlyf5n359j55xPc7qf35ybPrHl44FST67mv0wtH0xz/2wUftiM+yHzbIv5r0/7Ivt98VG7IfNsi/muR/si8n7Ypb9sFn2xSLvh0XfF/PcDxu8L+a9jT+TkZBjZPp+2bZDwIun3F6S5Jujy0lyu/7+w5P8V5K7TGjft5L8U5I/SPKc/nbJ0v0p2+99Se7Y3/+JbPt969x0Z+PcoJ/36Fk1n15a/sj0/ZK8pb//80netQDrMNqx4oz039nT5RCjZ+jMui/OSvLTSf44XcjzyXTflbfZ37PUzboOy91WLFivW7o08B5TnnvDyP19MhJijNXdfeT+1afU3DAjB4Sx5w7PyBf1Gdq8R5L9Jky/TpID04UmN57w/G1WsYybpQ8lkuzVv9kPmVB3u/655brNLewvzv7+3A7YWfxfnO9K8nvZtqvpjdMFZO/pH386yf5T9teXRu5/JiNBZz/tyHQH3C9MaluSP5q2TfrHS8Hoi/r386QechfmymT9gmzbRXL0YPiUfn3vk64X2F8l+bkkf5jk9ZP2xci03ZIcluS1I9M+ku4/I7+cLiB9SD/9XrmyN8uH0x9P0nUnPWXKe33F/bAB++JTY4936r6Y537YqH2xGfbDZtkX67E/7IsN/V2xCJ+Ls+a1L+a5H+yLyftilv2wmfbFBu2HhT0+zbov5r0fxvbFX+7EfbGWbfzgZbbxf6X/PjPW7qslOX/k8beSHN1vs/HbxZO2X//4dknOS3f61eh3on3TjWv7Z7myU8Wk7Tf6mk+MPXfWyP2lIU52S/K1bNtB49OjNSN1o/M+dwHW4cPpT19L9311qVfQNbJtQDTrvhjvlHJIuuPGl5J8eDV1s67DcrcVC9x23VsW8xfnuoQPWfxfnNfrD0qfTZdKf6Pfnn+WK0/7e3iSn5yyHx4ycv8FSe43oeawJP818vh56cfTGqu7dZI3TVnOg9KdzvY/E557zthtKb2/SZLXjdUemi6NPytdT7aT0x0grzpS88YZ38cHpuvV9o4kt03y1+kGTj83yd1Gaj7WT//g0nZM1zvumNXsh6Htix3cD5f0++HuY3Wj++I2M+6LS/p98YLV7ot13g8PntN+uPeE/fCbWdtn4qBV7ovLsgk+F1nM49Nq98WlWd3nwu+KOR6jktxhXvthE+6LSceoVe+LKfvh0oz8zh7bF0vHp116X2R+vysOncd+mPUzMVK3ms/FZ/r9sOZ9sV77YZWfiT+YcV+cmem/t+e9jZ/V7/tnJnlUf3tmP+1ZI3Xvzcjnaazdnx+5f0bGOlOk++51dpJvTXjtEen+wf/wTP5O9p1cOXzLt3JlMHKVbBuMnJBu2I63pRv+5PVJHp2uE8g/9zWv6R8/qt/OL+qn75Ft/5G+Uetwh3S9cF7X3z7Xt/mMjAyLsop9cdaUmsqUsYmn1c26DsseH2Ypcts1b9n2F+f4wfp6I3Wb4o+YTP/FuftIzdyCh75upj8o+2m3TXe1umuPTT9srOa+y9WsUPeAGeumzi9d982fXuVy17vup1aq62uW3b7940Ny5emCt0sXLm53/uxY3QHpgsidXXf7dOcfz2t+E9d3FfO684zb7s6zzG/C616/Uk1f97p51KxiXtdMd1XHucxvnermue3u2e/bZccfSHce+tN3Zl3ftt+f4zLnva47NL/+s7Nnf3+PdL9P/y3d7+09R2pGL37xvCRvH62ZMK+V6kbn94cz1O2R7m+C96yw3D1mXO7EdZ3D+k7adqNtm7aux2RkTIpl9uNC1GXk9/ZGt28dlnm1dP9wvF//+NHpxpx8Urb9Mn71JI8ZqXtUumEf1q2ub9toza+l+0I4aV5HzrDM8fnt6LrOuu3G6ybOr3/u1unGR3lxun/gPiEjn52Rulul6/H/10n+YlLdLDU7UPeidP8gnlS3tA6zzG+WdR2f32+tUPfiFZZ7QLrTf17S74djMzY2TLqxVPeY4fNzv4wMUTIyfa8kz57ymmsleWFGhhgZee6WY7er9dNvmORhI3W7pxtS4xH9/bv36/J7Sa7V11w1yRP76Y/PlRc9umaSW86wDnsusw57rGIdrjppHfppu6UbHuSp6X63/0q2H0B61n3xqJVqZq1bzTpMuy3kJeJZf1X12NbaaxeprqqumW7A5k/Pc7mLsK5VdUy6X6afSfef46e21t7WP3dma+2Os9T095+S5MlzrJv3ctdjfk9MF2Yut+2WrenvPyfdwXz3dAO7HZJuDK/7pevF9cdT6u6cbqC6nV037/ZtN78NbNuJ2d590v0Bndbag6fUVbr/WP+4bpaaWee1g22bd93Oat/HWmuH9Pcfl+7z+9Z0vSHf3lo7bkLd4/u6t6xn3YSaJ87QtselO7astMz1WNcdbd+56f7Yvbyqjk/y7XTj7923n/6wCTXfSdcF/sc1U+Y177rt2rbo81vFvC7rX/+5dP/N/pfW2sUZM1b3j33dRRtQ989zbN8Ore8OLPNNU+r+Id3vk2um6zV0rXSfnfum6xl+5FjdHun+MXftJG9eZV1aa0fNWjehZi1tW26Z817Xlea3tI2nze+YJL+Y5ANJHpiuJ8Yl6U7LeWJr7bRZ6+Y5r5G6B6X7u2Qe83tqumFD5tm+FetgrarqRq21r838gjZDUuS2+W6ZMCD2Zq1bhLal65l07f7+lnRdCZ/aPz5r1hp1c9l2u6X7g+ib2fa/y58aYt0Gtu3MdFffOzTdaZaHJvlKf/9eI3VnrVQ3S80q6+bWtnWa39zrRu5/PNsO4DhtAMydUrfIbVunutGBP8fHBTh71hp1O7ztzkrXrf7+6U5XuCjdmBBHJrmOuul167DMpd9Vu6e7qMxSb4HKtr9TdnrdIrdtnerOGXlujySn9ff3zYS/tZarm+e8Nlndnpnhys7rXPeNnTG/kZrPLDev5W4ZuYr1RtVl9qtnz1p3k6xwle3MeIXt5W67h02rqj417al0YwNtmrpFbltvt9ba/yZJa21rVR2a5E1Vdcu+dtYadTu27S5vrV2R5DtV9bnW2jf713y3qn400LqNatvB6brXPjvJ77bWzq6q77bW3p9t/ewMdbPUrKZunm1bj/nNu+4qVXW9dF/IqvX/jW+tfbuqLt/gukVu23rUjfaE/WRVHdxaO6OqbpPu6pmz1qjbsW3XWms/SjfW4Luq6qq58oqhf57ulG91k+vmvcyrVNXV0gWme6T74viNdKdEXXVkn21E3SK3bT3qki4ouqJ/7jpJ0lr7Yr//Vls3z3ltlrp/Ttdb99DW2v8kSVXdJN2ViP8l3ZWzlqs7csHrRtdjqebey82rqu6YySpd7/9sZF2S16Yb0Ptfk/x6Vf1SupDn+0nusoa6E5KclO7z+L4k/5CuV9oRSV7R/7w43Zi1o26e7p+OLd1VwpbXZkiK3HbNW7o0/6Bsf97gliRf3kx1i9y2vu69SQ4a2z+7pxto7IpZa9Tt8Lb7aK68YsDolQr2zLYj7Q+mbqPaNjJ9aXD4l2aZXnaz1M1zXkOqS/ffowuSfL7/eZN++rWzbe+InV63yG1bp7o90/0B+Ll0n6Uf9vXvTz8mwiw16nZ42521zOfpmuqm163DMp/W76MvpBtH6NQkr0z3n/HnbGTdIrdtneqemm4w2uPT9fB4bD9974yMvTJL3TzntcnqZr2y8y5ft4p5XZHZrmK9UXVnj7X92Zl89exZ684auf/Fsdec3f/8ncxwhe3lbjMXuu16t3Tda+8x5bk3bKa6RW5bf3+fjI1sP/Lc3WetUbfD2+7qU2puOHYgHUzdRrVtwvOHJ/mTac+vpm6e8xpi3Uj9Hkn2W8S6RW7bPOrS/Zf4wHS9uW485bUr1qhb27ZLf5GHGfafunVeZl97syQ36+/vle6CJocsQt0it22d6m7XP3fbFfbZinXznNdmqcvsV3be5etWMa9PZ7arWG9U3Wcy29WzZ62b6SrbmeEK28vdDAwNAAAAG6g/bfjYdKf83Kif/NUkJyY5rrV2yWapW8W8Hp4u/DhvwvZ6SGvtrRtc94Ik72qtvWes5rAkL2mt7b/KuucleUHrh7kYqbt1v10ePjb9Qel6FW1prd1kvK3TCIEAAABgQdUCXO14Z9UtctsWsa7WcoVtIRAAAAAspqr6Ymtt3yHULXLbFr1u1nm5OhgAAABsoFrwqx3Ps26R27bodbPOazlCIAAAANhYN07yC0kuGZteST68yeoWuW2LXjfrvKYSAgEAAMDG+rck126tnT3+RFWdtsnqFrlti14367ymMiYQAAAAwABcZaMbAAAAAMD6EwIBAAAADIAQCAAAAGAAhEAAwC6hqh5SVQesw3y3VNWn5z3fft4nVNXD12PeE5a15vWoqkOr6m7zbhMAsFiEQADAruIhSXY4BKqqHbo6alXttqNtWOXydsbVXA9NIgQCgE1OCAQArKiq3lpVn6iqc6vq6H7a/1bVn/XT31NVh1TVaVV1QVU9uK+5RlW9tqrOqaqzqure/fSjquqlI/P/t6o6dGS+f1xVn6yq06vqxn0vlQcneWFVnV1Vt5rSzoP613yqqt5SVdfrp59WVX9SVe9P8tSq+tl+/h9J8qSR1+9WVS+sqo/38/jNfvqhVfW+qnpDknOWqauqemlV/UdVnZTkRits1639NvxYf7t1P/2EqnpRVb0vyZ8ts17T1mO57XtYVZ3Zv+7UqtqS5AlJntZv23tW1S9X1af7mg8stw4AwK5DCAQAzOLXW2s/m+TgJMdU1Q2SXCvJaf30byX5oyQ/n+ShSZ7Xv+5JSdJau32SRyb5u6q6xgrLulaS01trByb5QJLHt9Y+nOTEJL/bWjuotfa5Ka99XZJnttbukOScJM8ZeW6v1tq9Wmt/keS1SY5prd117PW/keSy1tqdktwpyeOrar/+uUOSPLu1dsAydQ9N8pNJbp/k8Zmtd803W2uHJHlpkr8amX6bJPdrrT1jmfWath4TVdXeSV6Z5Jf67fvLrbWtSV6R5C/7bfvvSf4gyS/0NQ+eZd4AwOITAgEAszimqj6Z5PQkt0iyf5IfJHln//w5Sd7fWvthf39LP/0eSV6fJK21zyb5QrpwYzk/SPJv/f1PjMxrWVW1Z7qg5/39pL9L8nMjJf80pe71IzX3T/KYqjo7yUeT3CDduibJx1prn1+h7ueS/GNr7YrW2peTvHeGpv/jyM/RMOdfWmtXTFuvFdZjmrsk+cDSerTWvjGl7kNJTqiqxyfZqae/AQDrZ2ecYw4A7ML604jul+SurbXvVNVpSa6R5IettdaX/SjJ95OktfajkXFsaspsL8+2/4wa7R00Ot8rMr+/V7490qY2paaSPKW1dso2E7tt8O0Z6h64zLynaVPuf3u8cEJbpy1r2vZd7jVXNqK1J1TVnZMcnuTsqjqotfb1lV4HACw2PYEAgJXsmeSSPgC6bbreJLP6QJJHJ0lV3SbJvknOS7I1yUFVdZWqukW6U61W8q0k15n2ZGvtsiSXVNU9+0m/luT9E+ouTXJZVd2jn/TokadPSfJbVXXVpTZX1bUmLG5a3QeSPKIfM+imSe49w3r9ysjPj8y6Xiusx9ZM3r4fSXKvpVPcqur6/fRttm1V3aq19tHW2h8kuThd7y8AYBenJxAAsJJ3JnlCVX0qXYBz+ipe+/Ikr6iqc9L1Tjmqtfb9qvpQks+nO3Xs00nOnGFeb0zyyqo6JsnDp4wLdGS/vD2SXJDksVPm9dgkr6mq76QLdJa8Kt3pZ2dWVSW5KN1VycZNq3tLkvv06/WfmRBCTXD1qvpoun/OPXJKzbT1mrYeE7dva+2i6gb2fnNVXSXJ19KN4/T2JG+qqiOSPCXdINH7p+s5dGqST86wHgDAgqsre1sDALAzVdXWJAe31i7e6LYAAJuf08EAAAAABsDpYADALqeqXpbk7mOT/7q19tqNaM9KquotSfYbm/zM1tqWDWgOADBQTgcDAAAAGACngwEAAAAMgBAIAAAAYACEQAAAAAADIAQCAAAAGAAhEAAAAMAA/H9ef2mZOehcTgAAAABJRU5ErkJggg==",
      "text/plain": [
       "<Figure size 1440x720 with 1 Axes>"
      ]
     },
     "metadata": {
      "needs_background": "light"
     },
     "output_type": "display_data"
    }
   ],
   "source": [
    "plt.figure(figsize=(20, 10))\n",
    "ax = instacart_train.groupby('amount_ordered_products').tip.mean().plot(kind='bar')\n",
    "ax.set_title(label = 'Verteilung nach Anzahl bestellter Produkte und Tip', fontsize = 20)\n",
    "plt.show()"
   ]
  },
  {
   "cell_type": "markdown",
   "metadata": {},
   "source": [
    "### Amount of reordered products zu tip"
   ]
  },
  {
   "cell_type": "code",
   "execution_count": 111,
   "metadata": {},
   "outputs": [
    {
     "data": {
      "image/png": "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",
      "text/plain": [
       "<Figure size 1440x720 with 1 Axes>"
      ]
     },
     "metadata": {
      "needs_background": "light"
     },
     "output_type": "display_data"
    }
   ],
   "source": [
    "plt.figure(figsize=(20, 10))\n",
    "ax = instacart_train.groupby('amount_reordered_products').tip.mean().plot(kind='bar')\n",
    "ax.set_title(label = 'Verteilung nach Anzahl nochmals bestellter Produkte und Tip', fontsize = 20)\n",
    "plt.show()"
   ]
  },
  {
   "cell_type": "markdown",
   "metadata": {},
   "source": [
    "### Factor of reordered products zu tip"
   ]
  },
  {
   "cell_type": "code",
   "execution_count": 112,
   "metadata": {},
   "outputs": [
    {
     "data": {
      "image/png": "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",
      "text/plain": [
       "<Figure size 1440x720 with 1 Axes>"
      ]
     },
     "metadata": {
      "needs_background": "light"
     },
     "output_type": "display_data"
    }
   ],
   "source": [
    "plt.figure(figsize=(20, 10))\n",
    "ax = instacart_train.groupby('factor_reordered_products').tip.mean().plot(kind='bar')\n",
    "ax.set_title(label = 'Verteilung nach Anzahl nochmals bestellter Produkte und Tip', fontsize = 20)\n",
    "plt.show()"
   ]
  },
  {
   "cell_type": "markdown",
   "metadata": {},
   "source": [
    "## Korrelationen"
   ]
  },
  {
   "cell_type": "code",
   "execution_count": 113,
   "metadata": {},
   "outputs": [],
   "source": [
    "instacart_train = instacart_train.loc[:,~instacart_train.columns.str.contains('aisles')]\n",
    "instacart_train = instacart_train.loc[:,~instacart_train.columns.str.contains('departments')]"
   ]
  },
  {
   "cell_type": "code",
   "execution_count": 114,
   "metadata": {},
   "outputs": [
    {
     "data": {
      "image/png": "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",
      "text/plain": [
       "<Figure size 1440x720 with 2 Axes>"
      ]
     },
     "metadata": {
      "needs_background": "light"
     },
     "output_type": "display_data"
    }
   ],
   "source": [
    "plt.figure(figsize=(20, 10))\n",
    "corr_with_income = instacart_train.corr()[['tip']].sort_values(by='tip', ascending=False)\n",
    "heatmap = sns.heatmap(corr_with_income, vmin=-1, vmax=1, annot=True, cmap='coolwarm')\n",
    "heatmap.set_title('Korrelationen der Features mit income')\n",
    "plt.show()"
   ]
  },
  {
   "cell_type": "code",
   "execution_count": 115,
   "metadata": {},
   "outputs": [
    {
     "data": {
      "image/png": "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",
      "text/plain": [
       "<Figure size 1440x720 with 1 Axes>"
      ]
     },
     "metadata": {
      "needs_background": "light"
     },
     "output_type": "display_data"
    }
   ],
   "source": [
    "plt.figure(figsize=(20, 10))\n",
    "ax = instacart_train.groupby('user_id').tip.mean().plot.hist(bins=20)\n",
    "ax.set_title(label = 'Anzahl der Nutzer, die bisher zu einer Wahrscheinlichkeit X einen Tip gegeben haben', fontsize = 20)\n",
    "plt.show()"
   ]
  },
  {
   "cell_type": "markdown",
   "metadata": {},
   "source": [
    "## Datenqualität analysieren"
   ]
  },
  {
   "cell_type": "markdown",
   "metadata": {},
   "source": [
    "### Outliers\n",
    "- ToDo: Outlier auswerten und behandeln"
   ]
  },
  {
   "cell_type": "markdown",
   "metadata": {},
   "source": [
    "### Missing Values\n",
    "- ToDo: Missing values auswerten und behandeln"
   ]
  },
  {
   "cell_type": "code",
   "execution_count": 116,
   "metadata": {},
   "outputs": [
    {
     "data": {
      "text/plain": [
       "order_id                                   0\n",
       "tip                                        0\n",
       "user_id                                    0\n",
       "eval_set                                   0\n",
       "order_number                               0\n",
       "order_dow                                  0\n",
       "order_hour_of_day                          0\n",
       "days_since_prior_order                206209\n",
       "amount_ordered_products                    0\n",
       "amount_reordered_products                  0\n",
       "factor_reordered_products                  0\n",
       "previous_order_tip                         0\n",
       "3_previous_tip_user                        0\n",
       "mean_tip_user                              0\n",
       "weeks_since_prior_order               206209\n",
       "day_since_prior_order                 206209\n",
       "mean_days_since_prior_oder_by_user         0\n",
       "dtype: int64"
      ]
     },
     "execution_count": 116,
     "metadata": {},
     "output_type": "execute_result"
    }
   ],
   "source": [
    "instacart_train.isna().sum()"
   ]
  },
  {
   "cell_type": "code",
   "execution_count": 117,
   "metadata": {},
   "outputs": [],
   "source": [
    "instacart_train['days_since_prior_order']= instacart_train['days_since_prior_order'].fillna(instacart_train['days_since_prior_order'].mean())"
   ]
  },
  {
   "cell_type": "code",
   "execution_count": 118,
   "metadata": {},
   "outputs": [
    {
     "data": {
      "text/plain": [
       "order_id                                   0\n",
       "tip                                        0\n",
       "user_id                                    0\n",
       "eval_set                                   0\n",
       "order_number                               0\n",
       "order_dow                                  0\n",
       "order_hour_of_day                          0\n",
       "days_since_prior_order                206209\n",
       "amount_ordered_products                    0\n",
       "amount_reordered_products                  0\n",
       "factor_reordered_products                  0\n",
       "previous_order_tip                         0\n",
       "3_previous_tip_user                        0\n",
       "mean_tip_user                              0\n",
       "weeks_since_prior_order               206209\n",
       "day_since_prior_order                 206209\n",
       "mean_days_since_prior_oder_by_user         0\n",
       "dtype: int64"
      ]
     },
     "execution_count": 118,
     "metadata": {},
     "output_type": "execute_result"
    }
   ],
   "source": [
    "instacart_train.isna().sum()"
   ]
  },
  {
   "cell_type": "markdown",
   "metadata": {},
   "source": [
    "## Optimierung der Datentypen"
   ]
  },
  {
   "cell_type": "code",
   "execution_count": 119,
   "metadata": {},
   "outputs": [],
   "source": [
    "''' \n",
    "    iterate through all the columns of a dataframe and modify the data type\n",
    "    to reduce memory usage.\n",
    "'''\n",
    "def reduce_mem_usage(train_data):\n",
    "    start_mem = train_data.memory_usage().sum() / 1024**2\n",
    "    print('Memory usage of dataframe is {:.2f} MB'.format(start_mem))\n",
    "\n",
    "    for col in train_data.columns:\n",
    "        col_type = train_data[col].dtype\n",
    "        \n",
    "        if col_type not in [object]:\n",
    "            c_min = train_data[col].min()\n",
    "            c_max = train_data[col].max()\n",
    "            if str(col_type)[:3] == 'int':\n",
    "                if c_min > np.iinfo(np.int8).min and c_max < np.iinfo(np.int8).max:\n",
    "                    train_data[col] = train_data[col].astype(np.int8)\n",
    "                elif c_min > np.iinfo(np.int16).min and c_max < np.iinfo(np.int16).max:\n",
    "                    train_data[col] = train_data[col].astype(np.int16)\n",
    "                elif c_min > np.iinfo(np.int32).min and c_max < np.iinfo(np.int32).max:\n",
    "                    train_data[col] = train_data[col].astype(np.int32)\n",
    "                elif c_min > np.iinfo(np.int64).min and c_max < np.iinfo(np.int64).max:\n",
    "                    train_data[col] = train_data[col].astype(np.int64)  \n",
    "            else:\n",
    "                if c_min > np.finfo(np.float16).min and c_max < np.finfo(np.float16).max:\n",
    "                    train_data[col] = train_data[col].astype(np.float16)\n",
    "                elif c_min > np.finfo(np.float32).min and c_max < np.finfo(np.float32).max:\n",
    "                    train_data[col] = train_data[col].astype(np.float32)\n",
    "                else:\n",
    "                    train_data[col] = train_data[col].astype(np.float64)\n",
    "        else:\n",
    "            train_data[col] = train_data[col].astype('category')\n",
    "    end_mem = train_data.memory_usage().sum() / 1024**2\n",
    "    print('Memory usage after optimization is: {:.2f} MB'.format(end_mem))\n",
    "    print('Decreased by {:.1f}%'.format(100 * (start_mem - end_mem) / start_mem))\n",
    "\n",
    "    return train_data\n",
    "\n",
    "# instacart_train = reduce_mem_usage(instacart_train)\n",
    "\n",
    "# "
   ]
  },
  {
   "cell_type": "markdown",
   "metadata": {},
   "source": [
    "# Data Preparation"
   ]
  },
  {
   "cell_type": "markdown",
   "metadata": {},
   "source": [
    "- Feature Engineering\n",
    "    - Trinkgeld bei der letzten Bestellung\n",
    "    - Durchschnitt für User\n",
    "    - // Anzahl der Produkte pro Bestellung\n",
    "\n",
    "- Feature Selection\n",
    "    - chi2\n",
    "    - f-Value\n",
    "    - eval_set: Löschen, da kein Zusammenhang mit Zielvariable\n",
    "\n",
    "- Encoding"
   ]
  },
  {
   "cell_type": "markdown",
   "metadata": {},
   "source": [
    "## Feature Engineering"
   ]
  },
  {
   "cell_type": "markdown",
   "metadata": {},
   "source": [
    "### Discretization"
   ]
  },
  {
   "cell_type": "markdown",
   "metadata": {},
   "source": [
    "- ToDo: Discretize order_dow in weekend and weekday"
   ]
  },
  {
   "cell_type": "markdown",
   "metadata": {},
   "source": [
    "- ToDo: Discretize days_since_prior_oder"
   ]
  },
  {
   "cell_type": "code",
   "execution_count": 125,
   "metadata": {},
   "outputs": [],
   "source": [
    "dow_day_dict = {0: 1, 1: 1, 2: 0, 3: 0, 4: 0, 5: 0, 6: 0}\n",
    "\n",
    "instacart_train['order_dow_discretized'] = instacart_train['order_dow'].map(dow_day_dict, na_action='ignore')"
    "Anzahl der Produkte pro Bestellung:\n",
    "Im Dataframe orders_products_prior kann anhand add_to_card_order abgelesen werden, wieviele Produkte pro Bestellung (order_id) hinzugefügt werden. Zunächst wird ein Subset erstellt mit den Summen pro order_id, welches darauffolgend mit dem Trainingsdatensatz verbunden wird in einem neuen Dataframe für die Features. "
   ]
  },
  {
   "cell_type": "code",
   "execution_count": 127,
   "metadata": {},
   "outputs": [
    {
     "data": {
      "text/html": [
       "<div>\n",
       "<style scoped>\n",
       "    .dataframe tbody tr th:only-of-type {\n",
       "        vertical-align: middle;\n",
       "    }\n",
       "\n",
       "    .dataframe tbody tr th {\n",
       "        vertical-align: top;\n",
       "    }\n",
       "\n",
       "    .dataframe thead th {\n",
       "        text-align: right;\n",
       "    }\n",
       "</style>\n",
       "<table border=\"1\" class=\"dataframe\">\n",
       "  <thead>\n",
       "    <tr style=\"text-align: right;\">\n",
       "      <th></th>\n",
       "      <th>order_id</th>\n",
       "      <th>tip</th>\n",
       "      <th>user_id</th>\n",
       "      <th>eval_set</th>\n",
       "      <th>order_number</th>\n",
       "      <th>order_dow</th>\n",
       "      <th>order_hour_of_day</th>\n",
       "      <th>days_since_prior_order</th>\n",
       "      <th>amount_ordered_products</th>\n",
       "      <th>amount_reordered_products</th>\n",
       "      <th>factor_reordered_products</th>\n",
       "      <th>previous_order_tip</th>\n",
       "      <th>3_previous_tip_user</th>\n",
       "      <th>mean_tip_user</th>\n",
       "      <th>weeks_since_prior_order</th>\n",
       "      <th>day_since_prior_order</th>\n",
       "      <th>mean_days_since_prior_oder_by_user</th>\n",
       "      <th>order_dow_discretized</th>\n",
       "    </tr>\n",
       "  </thead>\n",
       "  <tbody>\n",
       "    <tr>\n",
       "      <th>0</th>\n",
       "      <td>2539329</td>\n",
       "      <td>1</td>\n",
       "      <td>1</td>\n",
       "      <td>prior</td>\n",
       "      <td>1</td>\n",
       "      <td>2</td>\n",
       "      <td>8</td>\n",
       "      <td>NaN</td>\n",
       "      <td>5</td>\n",
       "      <td>0</td>\n",
       "      <td>0.0</td>\n",
       "      <td>0.0</td>\n",
       "      <td>0.000000</td>\n",
       "      <td>1.0</td>\n",
       "      <td>NaN</td>\n",
       "      <td>NaN</td>\n",
       "      <td>20.0</td>\n",
       "      <td>0</td>\n",
       "    </tr>\n",
       "    <tr>\n",
       "      <th>1</th>\n",
       "      <td>2398795</td>\n",
       "      <td>1</td>\n",
       "      <td>1</td>\n",
       "      <td>prior</td>\n",
       "      <td>2</td>\n",
       "      <td>3</td>\n",
       "      <td>7</td>\n",
       "      <td>15.0</td>\n",
       "      <td>6</td>\n",
       "      <td>3</td>\n",
       "      <td>0.5</td>\n",
       "      <td>1.0</td>\n",
       "      <td>0.333333</td>\n",
       "      <td>1.0</td>\n",
       "      <td>2.0</td>\n",
       "      <td>1.0</td>\n",
       "      <td>20.0</td>\n",
       "      <td>0</td>\n",
       "    </tr>\n",
       "    <tr>\n",
       "      <th>2</th>\n",
       "      <td>473747</td>\n",
       "      <td>1</td>\n",
       "      <td>1</td>\n",
       "      <td>prior</td>\n",
       "      <td>3</td>\n",
       "      <td>3</td>\n",
       "      <td>12</td>\n",
       "      <td>21.0</td>\n",
       "      <td>5</td>\n",
       "      <td>3</td>\n",
       "      <td>0.6</td>\n",
       "      <td>1.0</td>\n",
       "      <td>0.666667</td>\n",
       "      <td>1.0</td>\n",
       "      <td>3.0</td>\n",
       "      <td>0.0</td>\n",
       "      <td>20.0</td>\n",
       "      <td>0</td>\n",
       "    </tr>\n",
       "    <tr>\n",
       "      <th>3</th>\n",
       "      <td>2254736</td>\n",
       "      <td>1</td>\n",
       "      <td>1</td>\n",
       "      <td>prior</td>\n",
       "      <td>4</td>\n",
       "      <td>4</td>\n",
       "      <td>7</td>\n",
       "      <td>29.0</td>\n",
       "      <td>5</td>\n",
       "      <td>5</td>\n",
       "      <td>1.0</td>\n",
       "      <td>1.0</td>\n",
       "      <td>1.000000</td>\n",
       "      <td>1.0</td>\n",
       "      <td>4.0</td>\n",
       "      <td>1.0</td>\n",
       "      <td>20.0</td>\n",
       "      <td>0</td>\n",
       "    </tr>\n",
       "    <tr>\n",
       "      <th>4</th>\n",
       "      <td>431534</td>\n",
       "      <td>1</td>\n",
       "      <td>1</td>\n",
       "      <td>prior</td>\n",
       "      <td>5</td>\n",
       "      <td>4</td>\n",
       "      <td>15</td>\n",
       "      <td>28.0</td>\n",
       "      <td>8</td>\n",
       "      <td>5</td>\n",
       "      <td>0.6</td>\n",
       "      <td>1.0</td>\n",
       "      <td>1.000000</td>\n",
       "      <td>1.0</td>\n",
       "      <td>4.0</td>\n",
       "      <td>0.0</td>\n",
       "      <td>20.0</td>\n",
       "      <td>0</td>\n",
       "    </tr>\n",
       "    <tr>\n",
       "      <th>...</th>\n",
       "      <td>...</td>\n",
       "      <td>...</td>\n",
       "      <td>...</td>\n",
       "      <td>...</td>\n",
       "      <td>...</td>\n",
       "      <td>...</td>\n",
       "      <td>...</td>\n",
       "      <td>...</td>\n",
       "      <td>...</td>\n",
       "      <td>...</td>\n",
       "      <td>...</td>\n",
       "      <td>...</td>\n",
       "      <td>...</td>\n",
       "      <td>...</td>\n",
       "      <td>...</td>\n",
       "      <td>...</td>\n",
       "      <td>...</td>\n",
       "      <td>...</td>\n",
       "    </tr>\n",
       "    <tr>\n",
       "      <th>3214869</th>\n",
       "      <td>2558525</td>\n",
       "      <td>0</td>\n",
       "      <td>206209</td>\n",
       "      <td>prior</td>\n",
       "      <td>9</td>\n",
       "      <td>4</td>\n",
       "      <td>15</td>\n",
       "      <td>22.0</td>\n",
       "      <td>3</td>\n",
       "      <td>3</td>\n",
       "      <td>1.0</td>\n",
       "      <td>0.0</td>\n",
       "      <td>0.000000</td>\n",
       "      <td>0.4</td>\n",
       "      <td>3.0</td>\n",
       "      <td>1.0</td>\n",
       "      <td>18.0</td>\n",
       "      <td>0</td>\n",
       "    </tr>\n",
       "    <tr>\n",
       "      <th>3214870</th>\n",
       "      <td>2266710</td>\n",
       "      <td>0</td>\n",
       "      <td>206209</td>\n",
       "      <td>prior</td>\n",
       "      <td>10</td>\n",
       "      <td>5</td>\n",
       "      <td>18</td>\n",
       "      <td>29.0</td>\n",
       "      <td>9</td>\n",
       "      <td>3</td>\n",
       "      <td>0.3</td>\n",
       "      <td>0.0</td>\n",
       "      <td>0.000000</td>\n",
       "      <td>0.4</td>\n",
       "      <td>4.0</td>\n",
       "      <td>1.0</td>\n",
       "      <td>18.0</td>\n",
       "      <td>0</td>\n",
       "    </tr>\n",
       "    <tr>\n",
       "      <th>3214871</th>\n",
       "      <td>1854736</td>\n",
       "      <td>0</td>\n",
       "      <td>206209</td>\n",
       "      <td>prior</td>\n",
       "      <td>11</td>\n",
       "      <td>4</td>\n",
       "      <td>10</td>\n",
       "      <td>30.0</td>\n",
       "      <td>8</td>\n",
       "      <td>6</td>\n",
       "      <td>0.8</td>\n",
       "      <td>0.0</td>\n",
       "      <td>0.000000</td>\n",
       "      <td>0.4</td>\n",
       "      <td>4.0</td>\n",
       "      <td>2.0</td>\n",
       "      <td>18.0</td>\n",
       "      <td>0</td>\n",
       "    </tr>\n",
       "    <tr>\n",
       "      <th>3214872</th>\n",
       "      <td>626363</td>\n",
       "      <td>1</td>\n",
       "      <td>206209</td>\n",
       "      <td>prior</td>\n",
       "      <td>12</td>\n",
       "      <td>1</td>\n",
       "      <td>12</td>\n",
       "      <td>18.0</td>\n",
       "      <td>20</td>\n",
       "      <td>14</td>\n",
       "      <td>0.7</td>\n",
       "      <td>0.0</td>\n",
       "      <td>0.000000</td>\n",
       "      <td>0.4</td>\n",
       "      <td>2.0</td>\n",
       "      <td>4.0</td>\n",
       "      <td>18.0</td>\n",
       "      <td>1</td>\n",
       "    </tr>\n",
       "    <tr>\n",
       "      <th>3214873</th>\n",
       "      <td>2977660</td>\n",
       "      <td>1</td>\n",
       "      <td>206209</td>\n",
       "      <td>prior</td>\n",
       "      <td>13</td>\n",
       "      <td>1</td>\n",
       "      <td>12</td>\n",
       "      <td>7.0</td>\n",
       "      <td>9</td>\n",
       "      <td>4</td>\n",
       "      <td>0.4</td>\n",
       "      <td>1.0</td>\n",
       "      <td>0.333333</td>\n",
       "      <td>0.4</td>\n",
       "      <td>1.0</td>\n",
       "      <td>0.0</td>\n",
       "      <td>18.0</td>\n",
       "      <td>1</td>\n",
       "    </tr>\n",
       "  </tbody>\n",
       "</table>\n",
       "<p>3214874 rows × 18 columns</p>\n",
       "</div>"
      ],
      "text/plain": [
       "   order_id  tip  user_id eval_set  order_number  order_dow  \\\n",
       "0   2539329    1        1    prior             1          2   \n",
       "1   2398795    1        1    prior             2          3   \n",
       "2    473747    1        1    prior             3          3   \n",
       "3   2254736    1        1    prior             4          4   \n",
       "4    431534    1        1    prior             5          4   \n",
       "\n",
       "         order_hour_of_day  days_since_prior_order  amount_ordered_products  \\\n",
       "0                        8                     NaN                        5   \n",
       "1                        7                    15.0                        6   \n",
       "2                       12                    21.0                        5   \n",
       "3                        7                    29.0                        5   \n",
       "4                       15                    28.0                        8   \n",
       "...                    ...                     ...                      ...   \n",
       "3214869                 15                    22.0                        3   \n",
       "3214870                 18                    29.0                        9   \n",
       "3214871                 10                    30.0                        8   \n",
       "3214872                 12                    18.0                       20   \n",
       "3214873                 12                     7.0                        9   \n",
       "\n",
       "         amount_reordered_products  factor_reordered_products  \\\n",
       "0                                0                        0.0   \n",
       "1                                3                        0.5   \n",
       "2                                3                        0.6   \n",
       "3                                5                        1.0   \n",
       "4                                5                        0.6   \n",
       "...                            ...                        ...   \n",
       "3214869                          3                        1.0   \n",
       "3214870                          3                        0.3   \n",
       "3214871                          6                        0.8   \n",
       "3214872                         14                        0.7   \n",
       "3214873                          4                        0.4   \n",
       "\n",
       "         previous_order_tip  3_previous_tip_user  mean_tip_user  \\\n",
       "0                       0.0             0.000000            1.0   \n",
       "1                       1.0             0.333333            1.0   \n",
       "2                       1.0             0.666667            1.0   \n",
       "3                       1.0             1.000000            1.0   \n",
       "4                       1.0             1.000000            1.0   \n",
       "...                     ...                  ...            ...   \n",
       "3214869                 0.0             0.000000            0.4   \n",
       "3214870                 0.0             0.000000            0.4   \n",
       "3214871                 0.0             0.000000            0.4   \n",
       "3214872                 0.0             0.000000            0.4   \n",
       "3214873                 1.0             0.333333            0.4   \n",
       "\n",
       "         weeks_since_prior_order  day_since_prior_order  \\\n",
       "0                            NaN                    NaN   \n",
       "1                            2.0                    1.0   \n",
       "2                            3.0                    0.0   \n",
       "3                            4.0                    1.0   \n",
       "4                            4.0                    0.0   \n",
       "...                          ...                    ...   \n",
       "3214869                      3.0                    1.0   \n",
       "3214870                      4.0                    1.0   \n",
       "3214871                      4.0                    2.0   \n",
       "3214872                      2.0                    4.0   \n",
       "3214873                      1.0                    0.0   \n",
       "\n",
       "         mean_days_since_prior_oder_by_user  order_dow_discretized  \n",
       "0                                      20.0                      0  \n",
       "1                                      20.0                      0  \n",
       "2                                      20.0                      0  \n",
       "3                                      20.0                      0  \n",
       "4                                      20.0                      0  \n",
       "...                                     ...                    ...  \n",
       "3214869                                18.0                      0  \n",
       "3214870                                18.0                      0  \n",
       "3214871                                18.0                      0  \n",
       "3214872                                18.0                      1  \n",
       "3214873                                18.0                      1  \n",
       "\n",
       "[3214874 rows x 18 columns]"
      ]
     },
     "execution_count": 127,
     "metadata": {},
     "output_type": "execute_result"
    }
   ],
   "source": [
    "instacart_train.head()"
   ]
  },
  {
   "cell_type": "code",
   "execution_count": 10,
   "metadata": {},
   "outputs": [
    {
     "data": {
      "text/html": [
       "<div>\n",
       "<style scoped>\n",
       "    .dataframe tbody tr th:only-of-type {\n",
       "        vertical-align: middle;\n",
       "    }\n",
       "\n",
       "    .dataframe tbody tr th {\n",
       "        vertical-align: top;\n",
       "    }\n",
       "\n",
       "    .dataframe thead th {\n",
       "        text-align: right;\n",
       "    }\n",
       "</style>\n",
       "<table border=\"1\" class=\"dataframe\">\n",
       "  <thead>\n",
       "    <tr style=\"text-align: right;\">\n",
       "      <th></th>\n",
       "      <th>order_id</th>\n",
       "      <th>add_to_cart_order</th>\n",
       "    </tr>\n",
       "  </thead>\n",
       "  <tbody>\n",
       "    <tr>\n",
       "      <th>0</th>\n",
       "      <td>2</td>\n",
       "      <td>1</td>\n",
       "    </tr>\n",
       "    <tr>\n",
       "      <th>1</th>\n",
       "      <td>2</td>\n",
       "      <td>2</td>\n",
       "    </tr>\n",
       "    <tr>\n",
       "      <th>2</th>\n",
       "      <td>2</td>\n",
       "      <td>3</td>\n",
       "    </tr>\n",
       "    <tr>\n",
       "      <th>3</th>\n",
       "      <td>2</td>\n",
       "      <td>4</td>\n",
       "    </tr>\n",
       "    <tr>\n",
       "      <th>4</th>\n",
       "      <td>2</td>\n",
       "      <td>5</td>\n",
       "    </tr>\n",
       "    <tr>\n",
       "      <th>5</th>\n",
       "      <td>2</td>\n",
       "      <td>6</td>\n",
       "    </tr>\n",
       "    <tr>\n",
       "      <th>6</th>\n",
       "      <td>2</td>\n",
       "      <td>7</td>\n",
       "    </tr>\n",
       "    <tr>\n",
       "      <th>7</th>\n",
       "      <td>2</td>\n",
       "      <td>8</td>\n",
       "    </tr>\n",
       "    <tr>\n",
       "      <th>8</th>\n",
       "      <td>2</td>\n",
       "      <td>9</td>\n",
       "    </tr>\n",
       "    <tr>\n",
       "      <th>9</th>\n",
       "      <td>3</td>\n",
       "      <td>1</td>\n",
       "    </tr>\n",
       "    <tr>\n",
       "      <th>10</th>\n",
       "      <td>3</td>\n",
       "      <td>2</td>\n",
       "    </tr>\n",
       "    <tr>\n",
       "      <th>11</th>\n",
       "      <td>3</td>\n",
       "      <td>3</td>\n",
       "    </tr>\n",
       "    <tr>\n",
       "      <th>12</th>\n",
       "      <td>3</td>\n",
       "      <td>4</td>\n",
       "    </tr>\n",
       "    <tr>\n",
       "      <th>13</th>\n",
       "      <td>3</td>\n",
       "      <td>5</td>\n",
       "    </tr>\n",
       "    <tr>\n",
       "      <th>14</th>\n",
       "      <td>3</td>\n",
       "      <td>6</td>\n",
       "    </tr>\n",
       "  </tbody>\n",
       "</table>\n",
       "</div>"
      ],
      "text/plain": [
       "    order_id  add_to_cart_order\n",
       "0          2                  1\n",
       "1          2                  2\n",
       "2          2                  3\n",
       "3          2                  4\n",
       "4          2                  5\n",
       "5          2                  6\n",
       "6          2                  7\n",
       "7          2                  8\n",
       "8          2                  9\n",
       "9          3                  1\n",
       "10         3                  2\n",
       "11         3                  3\n",
       "12         3                  4\n",
       "13         3                  5\n",
       "14         3                  6"
      ]
     },
     "execution_count": 10,
     "metadata": {},
     "output_type": "execute_result"
    }
   ],
   "source": [
    "h = opp[['order_id','add_to_cart_order']]\n",
    "h.head(15)"
   ]
  },
  {
   "cell_type": "code",
   "execution_count": 11,
   "metadata": {},
   "outputs": [
    {
     "data": {
      "text/html": [
       "<div>\n",
       "<style scoped>\n",
       "    .dataframe tbody tr th:only-of-type {\n",
       "        vertical-align: middle;\n",
       "    }\n",
       "\n",
       "    .dataframe tbody tr th {\n",
       "        vertical-align: top;\n",
       "    }\n",
       "\n",
       "    .dataframe thead th {\n",
       "        text-align: right;\n",
       "    }\n",
       "</style>\n",
       "<table border=\"1\" class=\"dataframe\">\n",
       "  <thead>\n",
       "    <tr style=\"text-align: right;\">\n",
       "      <th></th>\n",
       "      <th>add_to_cart_order</th>\n",
       "    </tr>\n",
       "    <tr>\n",
       "      <th>order_id</th>\n",
       "      <th></th>\n",
       "    </tr>\n",
       "  </thead>\n",
       "  <tbody>\n",
       "    <tr>\n",
       "      <th>2</th>\n",
       "      <td>9</td>\n",
       "    </tr>\n",
       "    <tr>\n",
       "      <th>3</th>\n",
       "      <td>8</td>\n",
       "    </tr>\n",
       "    <tr>\n",
       "      <th>4</th>\n",
       "      <td>13</td>\n",
       "    </tr>\n",
       "    <tr>\n",
       "      <th>5</th>\n",
       "      <td>26</td>\n",
       "    </tr>\n",
       "    <tr>\n",
       "      <th>6</th>\n",
       "      <td>3</td>\n",
       "    </tr>\n",
       "    <tr>\n",
       "      <th>7</th>\n",
       "      <td>2</td>\n",
       "    </tr>\n",
       "    <tr>\n",
       "      <th>8</th>\n",
       "      <td>1</td>\n",
       "    </tr>\n",
       "    <tr>\n",
       "      <th>9</th>\n",
       "      <td>15</td>\n",
       "    </tr>\n",
       "    <tr>\n",
       "      <th>10</th>\n",
       "      <td>15</td>\n",
       "    </tr>\n",
       "    <tr>\n",
       "      <th>11</th>\n",
       "      <td>5</td>\n",
       "    </tr>\n",
       "  </tbody>\n",
       "</table>\n",
       "</div>"
      ],
      "text/plain": [
       "          add_to_cart_order\n",
       "order_id                   \n",
       "2                         9\n",
       "3                         8\n",
       "4                        13\n",
       "5                        26\n",
       "6                         3\n",
       "7                         2\n",
       "8                         1\n",
       "9                        15\n",
       "10                       15\n",
       "11                        5"
      ]
     },
     "execution_count": 11,
     "metadata": {},
     "output_type": "execute_result"
    }
   ],
   "source": [
    "count_items = h.groupby(['order_id']).max()\n",
    "count_items.head(10)"
   ]
  },
  {
   "cell_type": "code",
   "execution_count": 12,
   "metadata": {},
   "outputs": [
    {
     "data": {
      "text/html": [
       "<div>\n",
       "<style scoped>\n",
       "    .dataframe tbody tr th:only-of-type {\n",
       "        vertical-align: middle;\n",
       "    }\n",
       "\n",
       "    .dataframe tbody tr th {\n",
       "        vertical-align: top;\n",
       "    }\n",
       "\n",
       "    .dataframe thead th {\n",
       "        text-align: right;\n",
       "    }\n",
       "</style>\n",
       "<table border=\"1\" class=\"dataframe\">\n",
       "  <thead>\n",
       "    <tr style=\"text-align: right;\">\n",
       "      <th></th>\n",
       "      <th>item_count</th>\n",
       "    </tr>\n",
       "    <tr>\n",
       "      <th>order_id</th>\n",
       "      <th></th>\n",
       "    </tr>\n",
       "  </thead>\n",
       "  <tbody>\n",
       "    <tr>\n",
       "      <th>2</th>\n",
       "      <td>9</td>\n",
       "    </tr>\n",
       "    <tr>\n",
       "      <th>3</th>\n",
       "      <td>8</td>\n",
       "    </tr>\n",
       "    <tr>\n",
       "      <th>4</th>\n",
       "      <td>13</td>\n",
       "    </tr>\n",
       "    <tr>\n",
       "      <th>5</th>\n",
       "      <td>26</td>\n",
       "    </tr>\n",
       "    <tr>\n",
       "      <th>6</th>\n",
       "      <td>3</td>\n",
       "    </tr>\n",
       "  </tbody>\n",
       "</table>\n",
       "</div>"
      ],
      "text/plain": [
       "          item_count\n",
       "order_id            \n",
       "2                  9\n",
       "3                  8\n",
       "4                 13\n",
       "5                 26\n",
       "6                  3"
      ]
     },
     "execution_count": 12,
     "metadata": {},
     "output_type": "execute_result"
    }
   ],
   "source": [
    "count_items.rename(columns = {'add_to_cart_order':'item_count'}, inplace = True)\n",
    "count_items.head()"
   ]
  },
  {
   "cell_type": "code",
   "execution_count": 13,
   "metadata": {},
   "outputs": [
    {
     "data": {
      "text/plain": [
       "order_id             8\n",
       "product_id           8\n",
       "add_to_cart_order    8\n",
       "reordered            8\n",
       "dtype: int64"
      ]
     },
     "execution_count": 13,
     "metadata": {},
     "output_type": "execute_result"
    }
   ],
   "source": [
    "#Prüfen, ob richtig gezählt wird\n",
    "(opp.loc[opp['order_id'] == 3]).count()"
   ]
  },
  {
   "cell_type": "code",
   "execution_count": 14,
   "metadata": {},
   "outputs": [
    {
     "data": {
      "text/html": [
       "<div>\n",
       "<style scoped>\n",
       "    .dataframe tbody tr th:only-of-type {\n",
       "        vertical-align: middle;\n",
       "    }\n",
       "\n",
       "    .dataframe tbody tr th {\n",
       "        vertical-align: top;\n",
       "    }\n",
       "\n",
       "    .dataframe thead th {\n",
       "        text-align: right;\n",
       "    }\n",
       "</style>\n",
       "<table border=\"1\" class=\"dataframe\">\n",
       "  <thead>\n",
       "    <tr style=\"text-align: right;\">\n",
       "      <th></th>\n",
       "      <th>order_id</th>\n",
       "      <th>tip</th>\n",
       "      <th>user_id</th>\n",
       "      <th>eval_set</th>\n",
       "      <th>order_number</th>\n",
       "      <th>order_dow</th>\n",
       "      <th>order_hour_of_day</th>\n",
       "      <th>days_since_prior_order</th>\n",
       "      <th>item_count</th>\n",
       "    </tr>\n",
       "  </thead>\n",
       "  <tbody>\n",
       "    <tr>\n",
       "      <th>0</th>\n",
       "      <td>2539329</td>\n",
       "      <td>1</td>\n",
       "      <td>1</td>\n",
       "      <td>prior</td>\n",
       "      <td>1</td>\n",
       "      <td>2</td>\n",
       "      <td>8</td>\n",
       "      <td>NaN</td>\n",
       "      <td>5</td>\n",
       "    </tr>\n",
       "    <tr>\n",
       "      <th>1</th>\n",
       "      <td>2398795</td>\n",
       "      <td>1</td>\n",
       "      <td>1</td>\n",
       "      <td>prior</td>\n",
       "      <td>2</td>\n",
       "      <td>3</td>\n",
       "      <td>7</td>\n",
       "      <td>15.0</td>\n",
       "      <td>6</td>\n",
       "    </tr>\n",
       "    <tr>\n",
       "      <th>2</th>\n",
       "      <td>473747</td>\n",
       "      <td>1</td>\n",
       "      <td>1</td>\n",
       "      <td>prior</td>\n",
       "      <td>3</td>\n",
       "      <td>3</td>\n",
       "      <td>12</td>\n",
       "      <td>21.0</td>\n",
       "      <td>5</td>\n",
       "    </tr>\n",
       "    <tr>\n",
       "      <th>3</th>\n",
       "      <td>2254736</td>\n",
       "      <td>1</td>\n",
       "      <td>1</td>\n",
       "      <td>prior</td>\n",
       "      <td>4</td>\n",
       "      <td>4</td>\n",
       "      <td>7</td>\n",
       "      <td>29.0</td>\n",
       "      <td>5</td>\n",
       "    </tr>\n",
       "    <tr>\n",
       "      <th>4</th>\n",
       "      <td>431534</td>\n",
       "      <td>1</td>\n",
       "      <td>1</td>\n",
       "      <td>prior</td>\n",
       "      <td>5</td>\n",
       "      <td>4</td>\n",
       "      <td>15</td>\n",
       "      <td>28.0</td>\n",
       "      <td>8</td>\n",
       "    </tr>\n",
       "  </tbody>\n",
       "</table>\n",
       "</div>"
      ],
      "text/plain": [
       "   order_id  tip  user_id eval_set  order_number  order_dow  \\\n",
       "0   2539329    1        1    prior             1          2   \n",
       "1   2398795    1        1    prior             2          3   \n",
       "2    473747    1        1    prior             3          3   \n",
       "3   2254736    1        1    prior             4          4   \n",
       "4    431534    1        1    prior             5          4   \n",
       "\n",
       "   order_hour_of_day  days_since_prior_order  item_count  \n",
       "0                  8                     NaN           5  \n",
       "1                  7                    15.0           6  \n",
       "2                 12                    21.0           5  \n",
       "3                  7                    29.0           5  \n",
       "4                 15                    28.0           8  "
      ]
     },
     "execution_count": 14,
     "metadata": {},
     "output_type": "execute_result"
    }
   ],
   "source": [
    "instacart_train_feature_count = pd.merge(instacart_train,\n",
    "                 count_items[['item_count']],\n",
    "                 on='order_id')\n",
    "instacart_train_feature_count.head() "
   ]
  },
  {
   "cell_type": "markdown",
   "metadata": {},
   "source": [
    "Create Feature: previous_order_tip mit der Information, ob der Nutzer in der vorhergehenden Bestellungen einen Tip vergeben hat."
   ]
  },
  {
   "cell_type": "code",
   "execution_count": 19,
   "metadata": {},
   "outputs": [
    {
     "data": {
      "text/html": [
       "<div>\n",
       "<style scoped>\n",
       "    .dataframe tbody tr th:only-of-type {\n",
       "        vertical-align: middle;\n",
       "    }\n",
       "\n",
       "    .dataframe tbody tr th {\n",
       "        vertical-align: top;\n",
       "    }\n",
       "\n",
       "    .dataframe thead th {\n",
       "        text-align: right;\n",
       "    }\n",
       "</style>\n",
       "<table border=\"1\" class=\"dataframe\">\n",
       "  <thead>\n",
       "    <tr style=\"text-align: right;\">\n",
       "      <th></th>\n",
       "      <th>order_id</th>\n",
       "      <th>tip</th>\n",
       "      <th>user_id</th>\n",
       "      <th>eval_set</th>\n",
       "      <th>order_number</th>\n",
       "      <th>order_dow</th>\n",
       "      <th>order_hour_of_day</th>\n",
       "      <th>days_since_prior_order</th>\n",
       "    </tr>\n",
       "  </thead>\n",
       "  <tbody>\n",
       "    <tr>\n",
       "      <th>0</th>\n",
       "      <td>2539329</td>\n",
       "      <td>1</td>\n",
       "      <td>1</td>\n",
       "      <td>prior</td>\n",
       "      <td>1</td>\n",
       "      <td>2</td>\n",
       "      <td>8</td>\n",
       "      <td>NaN</td>\n",
       "    </tr>\n",
       "    <tr>\n",
       "      <th>1</th>\n",
       "      <td>2398795</td>\n",
       "      <td>1</td>\n",
       "      <td>1</td>\n",
       "      <td>prior</td>\n",
       "      <td>2</td>\n",
       "      <td>3</td>\n",
       "      <td>7</td>\n",
       "      <td>15.0</td>\n",
       "    </tr>\n",
       "    <tr>\n",
       "      <th>2</th>\n",
       "      <td>473747</td>\n",
       "      <td>1</td>\n",
       "      <td>1</td>\n",
       "      <td>prior</td>\n",
       "      <td>3</td>\n",
       "      <td>3</td>\n",
       "      <td>12</td>\n",
       "      <td>21.0</td>\n",
       "    </tr>\n",
       "    <tr>\n",
       "      <th>3</th>\n",
       "      <td>2254736</td>\n",
       "      <td>1</td>\n",
       "      <td>1</td>\n",
       "      <td>prior</td>\n",
       "      <td>4</td>\n",
       "      <td>4</td>\n",
       "      <td>7</td>\n",
       "      <td>29.0</td>\n",
       "    </tr>\n",
       "    <tr>\n",
       "      <th>4</th>\n",
       "      <td>431534</td>\n",
       "      <td>1</td>\n",
       "      <td>1</td>\n",
       "      <td>prior</td>\n",
       "      <td>5</td>\n",
       "      <td>4</td>\n",
       "      <td>15</td>\n",
       "      <td>28.0</td>\n",
       "    </tr>\n",
       "  </tbody>\n",
       "</table>\n",
       "</div>"
      ],
      "text/plain": [
       "   order_id  tip  user_id eval_set  order_number  order_dow  \\\n",
       "0   2539329    1        1    prior             1          2   \n",
       "1   2398795    1        1    prior             2          3   \n",
       "2    473747    1        1    prior             3          3   \n",
       "3   2254736    1        1    prior             4          4   \n",
       "4    431534    1        1    prior             5          4   \n",
       "\n",
       "   order_hour_of_day  days_since_prior_order  \n",
       "0                  8                     NaN  \n",
       "1                  7                    15.0  \n",
       "2                 12                    21.0  \n",
       "3                  7                    29.0  \n",
       "4                 15                    28.0  "
      ]
     },
     "execution_count": 19,
     "metadata": {},
     "output_type": "execute_result"
    }
   ],
   "source": [
    "orders_tip = instacart_train[instacart_train.tip == 1]\n",
    "orders_tip.head()"
   ]
  },
  {
   "cell_type": "code",
   "execution_count": 20,
   "metadata": {},
   "outputs": [],
   "source": [
    "instacart_train_feature_previous = instacart_train.copy()"
   ]
  },
  {
   "cell_type": "code",
   "execution_count": 21,
   "metadata": {},
   "outputs": [
    {
     "data": {
      "text/html": [
       "<div>\n",
       "<style scoped>\n",
       "    .dataframe tbody tr th:only-of-type {\n",
       "        vertical-align: middle;\n",
       "    }\n",
       "\n",
       "    .dataframe tbody tr th {\n",
       "        vertical-align: top;\n",
       "    }\n",
       "\n",
       "    .dataframe thead th {\n",
       "        text-align: right;\n",
       "    }\n",
       "</style>\n",
       "<table border=\"1\" class=\"dataframe\">\n",
       "  <thead>\n",
       "    <tr style=\"text-align: right;\">\n",
       "      <th></th>\n",
       "      <th>order_id</th>\n",
       "      <th>tip</th>\n",
       "      <th>user_id</th>\n",
       "      <th>eval_set</th>\n",
       "      <th>order_number</th>\n",
       "      <th>order_dow</th>\n",
       "      <th>order_hour_of_day</th>\n",
       "      <th>days_since_prior_order</th>\n",
       "      <th>orders_with_tip</th>\n",
       "    </tr>\n",
       "  </thead>\n",
       "  <tbody>\n",
       "    <tr>\n",
       "      <th>0</th>\n",
       "      <td>2539329</td>\n",
       "      <td>1</td>\n",
       "      <td>1</td>\n",
       "      <td>prior</td>\n",
       "      <td>1</td>\n",
       "      <td>2</td>\n",
       "      <td>8</td>\n",
       "      <td>NaN</td>\n",
       "      <td>0</td>\n",
       "    </tr>\n",
       "    <tr>\n",
       "      <th>1</th>\n",
       "      <td>2398795</td>\n",
       "      <td>1</td>\n",
       "      <td>1</td>\n",
       "      <td>prior</td>\n",
       "      <td>2</td>\n",
       "      <td>3</td>\n",
       "      <td>7</td>\n",
       "      <td>15.0</td>\n",
       "      <td>0</td>\n",
       "    </tr>\n",
       "    <tr>\n",
       "      <th>2</th>\n",
       "      <td>473747</td>\n",
       "      <td>1</td>\n",
       "      <td>1</td>\n",
       "      <td>prior</td>\n",
       "      <td>3</td>\n",
       "      <td>3</td>\n",
       "      <td>12</td>\n",
       "      <td>21.0</td>\n",
       "      <td>0</td>\n",
       "    </tr>\n",
       "    <tr>\n",
       "      <th>3</th>\n",
       "      <td>2254736</td>\n",
       "      <td>1</td>\n",
       "      <td>1</td>\n",
       "      <td>prior</td>\n",
       "      <td>4</td>\n",
       "      <td>4</td>\n",
       "      <td>7</td>\n",
       "      <td>29.0</td>\n",
       "      <td>0</td>\n",
       "    </tr>\n",
       "    <tr>\n",
       "      <th>4</th>\n",
       "      <td>431534</td>\n",
       "      <td>1</td>\n",
       "      <td>1</td>\n",
       "      <td>prior</td>\n",
       "      <td>5</td>\n",
       "      <td>4</td>\n",
       "      <td>15</td>\n",
       "      <td>28.0</td>\n",
       "      <td>0</td>\n",
       "    </tr>\n",
       "  </tbody>\n",
       "</table>\n",
       "</div>"
      ],
      "text/plain": [
       "   order_id  tip  user_id eval_set  order_number  order_dow  \\\n",
       "0   2539329    1        1    prior             1          2   \n",
       "1   2398795    1        1    prior             2          3   \n",
       "2    473747    1        1    prior             3          3   \n",
       "3   2254736    1        1    prior             4          4   \n",
       "4    431534    1        1    prior             5          4   \n",
       "\n",
       "   order_hour_of_day  days_since_prior_order  orders_with_tip  \n",
       "0                  8                     NaN                0  \n",
       "1                  7                    15.0                0  \n",
       "2                 12                    21.0                0  \n",
       "3                  7                    29.0                0  \n",
       "4                 15                    28.0                0  "
      ]
     },
     "execution_count": 21,
     "metadata": {},
     "output_type": "execute_result"
    }
   ],
   "source": [
    "instacart_train_feature_previous['orders_with_tip'] = 0\n",
    "instacart_train_feature_previous.head()"
   ]
  },
  {
   "cell_type": "code",
   "execution_count": 22,
   "metadata": {},
   "outputs": [
    {
     "name": "stderr",
     "output_type": "stream",
     "text": [
      "c:\\Users\\Anne\\anaconda3\\lib\\site-packages\\numpy\\lib\\arraysetops.py:583: FutureWarning: elementwise comparison failed; returning scalar instead, but in the future will perform elementwise comparison\n",
      "  mask |= (ar1 == a)\n"
     ]
    },
    {
     "data": {
      "text/html": [
       "<div>\n",
       "<style scoped>\n",
       "    .dataframe tbody tr th:only-of-type {\n",
       "        vertical-align: middle;\n",
       "    }\n",
       "\n",
       "    .dataframe tbody tr th {\n",
       "        vertical-align: top;\n",
       "    }\n",
       "\n",
       "    .dataframe thead th {\n",
       "        text-align: right;\n",
       "    }\n",
       "</style>\n",
       "<table border=\"1\" class=\"dataframe\">\n",
       "  <thead>\n",
       "    <tr style=\"text-align: right;\">\n",
       "      <th></th>\n",
       "      <th>order_id</th>\n",
       "      <th>tip</th>\n",
       "      <th>user_id</th>\n",
       "      <th>eval_set</th>\n",
       "      <th>order_number</th>\n",
       "      <th>order_dow</th>\n",
       "      <th>order_hour_of_day</th>\n",
       "      <th>days_since_prior_order</th>\n",
       "      <th>orders_with_tip</th>\n",
       "    </tr>\n",
       "  </thead>\n",
       "  <tbody>\n",
       "    <tr>\n",
       "      <th>0</th>\n",
       "      <td>2539329</td>\n",
       "      <td>1</td>\n",
       "      <td>1</td>\n",
       "      <td>prior</td>\n",
       "      <td>1</td>\n",
       "      <td>2</td>\n",
       "      <td>8</td>\n",
       "      <td>NaN</td>\n",
       "      <td>0</td>\n",
       "    </tr>\n",
       "    <tr>\n",
       "      <th>1</th>\n",
       "      <td>2398795</td>\n",
       "      <td>1</td>\n",
       "      <td>1</td>\n",
       "      <td>prior</td>\n",
       "      <td>2</td>\n",
       "      <td>3</td>\n",
       "      <td>7</td>\n",
       "      <td>15.0</td>\n",
       "      <td>0</td>\n",
       "    </tr>\n",
       "    <tr>\n",
       "      <th>2</th>\n",
       "      <td>473747</td>\n",
       "      <td>1</td>\n",
       "      <td>1</td>\n",
       "      <td>prior</td>\n",
       "      <td>3</td>\n",
       "      <td>3</td>\n",
       "      <td>12</td>\n",
       "      <td>21.0</td>\n",
       "      <td>0</td>\n",
       "    </tr>\n",
       "    <tr>\n",
       "      <th>3</th>\n",
       "      <td>2254736</td>\n",
       "      <td>1</td>\n",
       "      <td>1</td>\n",
       "      <td>prior</td>\n",
       "      <td>4</td>\n",
       "      <td>4</td>\n",
       "      <td>7</td>\n",
       "      <td>29.0</td>\n",
       "      <td>0</td>\n",
       "    </tr>\n",
       "    <tr>\n",
       "      <th>4</th>\n",
       "      <td>431534</td>\n",
       "      <td>1</td>\n",
       "      <td>1</td>\n",
       "      <td>prior</td>\n",
       "      <td>5</td>\n",
       "      <td>4</td>\n",
       "      <td>15</td>\n",
       "      <td>28.0</td>\n",
       "      <td>0</td>\n",
       "    </tr>\n",
       "  </tbody>\n",
       "</table>\n",
       "</div>"
      ],
      "text/plain": [
       "   order_id  tip  user_id eval_set  order_number  order_dow  \\\n",
       "0   2539329    1        1    prior             1          2   \n",
       "1   2398795    1        1    prior             2          3   \n",
       "2    473747    1        1    prior             3          3   \n",
       "3   2254736    1        1    prior             4          4   \n",
       "4    431534    1        1    prior             5          4   \n",
       "\n",
       "   order_hour_of_day  days_since_prior_order  orders_with_tip  \n",
       "0                  8                     NaN                0  \n",
       "1                  7                    15.0                0  \n",
       "2                 12                    21.0                0  \n",
       "3                  7                    29.0                0  \n",
       "4                 15                    28.0                0  "
      ]
     },
     "execution_count": 22,
     "metadata": {},
     "output_type": "execute_result"
    }
   ],
   "source": [
    "instacart_train_feature_previous.loc[instacart_train_feature_previous['order_id'].isin(orders_tip),'order_id'] = 1\n",
    "instacart_train_feature_previous.head()\n"
   ]
  },
  {
   "cell_type": "code",
   "execution_count": 28,
   "metadata": {},
   "outputs": [
    {
     "data": {
      "text/html": [
       "<div>\n",
       "<style scoped>\n",
       "    .dataframe tbody tr th:only-of-type {\n",
       "        vertical-align: middle;\n",
       "    }\n",
       "\n",
       "    .dataframe tbody tr th {\n",
       "        vertical-align: top;\n",
       "    }\n",
       "\n",
       "    .dataframe thead th {\n",
       "        text-align: right;\n",
       "    }\n",
       "</style>\n",
       "<table border=\"1\" class=\"dataframe\">\n",
       "  <thead>\n",
       "    <tr style=\"text-align: right;\">\n",
       "      <th></th>\n",
       "      <th>order_id</th>\n",
       "      <th>user_id</th>\n",
       "      <th>eval_set</th>\n",
       "      <th>order_number</th>\n",
       "      <th>order_dow</th>\n",
       "      <th>order_hour_of_day</th>\n",
       "      <th>days_since_prior_order</th>\n",
       "      <th>orders_with_tip</th>\n",
       "    </tr>\n",
       "    <tr>\n",
       "      <th>tip</th>\n",
       "      <th></th>\n",
       "      <th></th>\n",
       "      <th></th>\n",
       "      <th></th>\n",
       "      <th></th>\n",
       "      <th></th>\n",
       "      <th></th>\n",
       "      <th></th>\n",
       "    </tr>\n",
       "  </thead>\n",
       "  <tbody>\n",
       "    <tr>\n",
       "      <th>0</th>\n",
       "      <td>1858960</td>\n",
       "      <td>1858960</td>\n",
       "      <td>1858960</td>\n",
       "      <td>1858960</td>\n",
       "      <td>1858960</td>\n",
       "      <td>1858960</td>\n",
       "      <td>1725357</td>\n",
       "      <td>1858960</td>\n",
       "    </tr>\n",
       "    <tr>\n",
       "      <th>1</th>\n",
       "      <td>1355914</td>\n",
       "      <td>1355914</td>\n",
       "      <td>1355914</td>\n",
       "      <td>1355914</td>\n",
       "      <td>1355914</td>\n",
       "      <td>1355914</td>\n",
       "      <td>1283308</td>\n",
       "      <td>1355914</td>\n",
       "    </tr>\n",
       "  </tbody>\n",
       "</table>\n",
       "</div>"
      ],
      "text/plain": [
       "     order_id  user_id  eval_set  order_number  order_dow  order_hour_of_day  \\\n",
       "tip                                                                            \n",
       "0     1858960  1858960   1858960       1858960    1858960            1858960   \n",
       "1     1355914  1355914   1355914       1355914    1355914            1355914   \n",
       "\n",
       "     days_since_prior_order  orders_with_tip  \n",
       "tip                                           \n",
       "0                   1725357          1858960  \n",
       "1                   1283308          1355914  "
      ]
     },
     "execution_count": 28,
     "metadata": {},
     "output_type": "execute_result"
    }
   ],
   "source": [
    "#Prüfen, ob es passt\n",
    "instacart_train_feature_previous.groupby('tip').count()"
   ]
  },
  {
   "cell_type": "code",
   "execution_count": null,
   "metadata": {},
   "outputs": [],
   "source": [
    "#mean tip user"
   ]
  },
  {
   "cell_type": "markdown",
   "metadata": {},
   "source": [
    "### Discretization"
   ]
  },
  {
   "cell_type": "markdown",
   "metadata": {},
   "source": [
    "- ToDo: Discretize order_dow in weekend and weekday"
   ]
  },
  {
   "cell_type": "markdown",
   "metadata": {},
   "source": [
    "- ToDo: Discretize days_since_prior_oder"
   ]
  },
  {
   "cell_type": "markdown",
   "metadata": {},
   "source": [
    "### Feature Creation"
   ]
  },
  {
   "cell_type": "markdown",
   "metadata": {},
   "source": [
    "Create Feature: previous_order_tip mit der Information, ob der Nutzer in der vorhergehenden Bestellungen einen Tip vergeben hat."
   ]
  },
  {
   "cell_type": "code",
   "execution_count": 128,
   "metadata": {},
   "outputs": [
    {
     "data": {
      "text/html": [
       "<div>\n",
       "<style scoped>\n",
       "    .dataframe tbody tr th:only-of-type {\n",
       "        vertical-align: middle;\n",
       "    }\n",
       "\n",
       "    .dataframe tbody tr th {\n",
       "        vertical-align: top;\n",
       "    }\n",
       "\n",
       "    .dataframe thead th {\n",
       "        text-align: right;\n",
       "    }\n",
       "</style>\n",
       "<table border=\"1\" class=\"dataframe\">\n",
       "  <thead>\n",
       "    <tr style=\"text-align: right;\">\n",
       "      <th></th>\n",
       "      <th>order_id</th>\n",
       "      <th>tip</th>\n",
       "      <th>user_id</th>\n",
       "      <th>eval_set</th>\n",
       "      <th>order_number</th>\n",
       "      <th>order_dow</th>\n",
       "      <th>order_hour_of_day</th>\n",
       "      <th>days_since_prior_order</th>\n",
       "      <th>amount_ordered_products</th>\n",
       "      <th>amount_reordered_products</th>\n",
       "      <th>factor_reordered_products</th>\n",
       "      <th>previous_order_tip</th>\n",
       "      <th>3_previous_tip_user</th>\n",
       "      <th>mean_tip_user</th>\n",
       "      <th>weeks_since_prior_order</th>\n",
       "      <th>day_since_prior_order</th>\n",
       "      <th>mean_days_since_prior_oder_by_user</th>\n",
       "      <th>order_dow_discretized</th>\n",
       "    </tr>\n",
       "  </thead>\n",
       "  <tbody>\n",
       "    <tr>\n",
       "      <th>0</th>\n",
       "      <td>2539329</td>\n",
       "      <td>1</td>\n",
       "      <td>1</td>\n",
       "      <td>prior</td>\n",
       "      <td>1</td>\n",
       "      <td>2</td>\n",
       "      <td>8</td>\n",
       "      <td>NaN</td>\n",
       "      <td>5</td>\n",
       "      <td>0</td>\n",
       "      <td>0.0</td>\n",
       "      <td>0.0</td>\n",
       "      <td>0.000000</td>\n",
       "      <td>1.0</td>\n",
       "      <td>NaN</td>\n",
       "      <td>NaN</td>\n",
       "      <td>20.0</td>\n",
       "      <td>0</td>\n",
       "    </tr>\n",
       "    <tr>\n",
       "      <th>1</th>\n",
       "      <td>2398795</td>\n",
       "      <td>1</td>\n",
       "      <td>1</td>\n",
       "      <td>prior</td>\n",
       "      <td>2</td>\n",
       "      <td>3</td>\n",
       "      <td>7</td>\n",
       "      <td>15.0</td>\n",
       "      <td>6</td>\n",
       "      <td>3</td>\n",
       "      <td>0.5</td>\n",
       "      <td>1.0</td>\n",
       "      <td>0.333333</td>\n",
       "      <td>1.0</td>\n",
       "      <td>2.0</td>\n",
       "      <td>1.0</td>\n",
       "      <td>20.0</td>\n",
       "      <td>0</td>\n",
       "    </tr>\n",
       "    <tr>\n",
       "      <th>2</th>\n",
       "      <td>473747</td>\n",
       "      <td>1</td>\n",
       "      <td>1</td>\n",
       "      <td>prior</td>\n",
       "      <td>3</td>\n",
       "      <td>3</td>\n",
       "      <td>12</td>\n",
       "      <td>21.0</td>\n",
       "      <td>5</td>\n",
       "      <td>3</td>\n",
       "      <td>0.6</td>\n",
       "      <td>1.0</td>\n",
       "      <td>0.666667</td>\n",
       "      <td>1.0</td>\n",
       "      <td>3.0</td>\n",
       "      <td>0.0</td>\n",
       "      <td>20.0</td>\n",
       "      <td>0</td>\n",
       "    </tr>\n",
       "    <tr>\n",
       "      <th>3</th>\n",
       "      <td>2254736</td>\n",
       "      <td>1</td>\n",
       "      <td>1</td>\n",
       "      <td>prior</td>\n",
       "      <td>4</td>\n",
       "      <td>4</td>\n",
       "      <td>7</td>\n",
       "      <td>29.0</td>\n",
       "      <td>5</td>\n",
       "      <td>5</td>\n",
       "      <td>1.0</td>\n",
       "      <td>1.0</td>\n",
       "      <td>1.000000</td>\n",
       "      <td>1.0</td>\n",
       "      <td>4.0</td>\n",
       "      <td>1.0</td>\n",
       "      <td>20.0</td>\n",
       "      <td>0</td>\n",
       "    </tr>\n",
       "    <tr>\n",
       "      <th>4</th>\n",
       "      <td>431534</td>\n",
       "      <td>1</td>\n",
       "      <td>1</td>\n",
       "      <td>prior</td>\n",
       "      <td>5</td>\n",
       "      <td>4</td>\n",
       "      <td>15</td>\n",
       "      <td>28.0</td>\n",
       "      <td>8</td>\n",
       "      <td>5</td>\n",
       "      <td>0.6</td>\n",
       "      <td>1.0</td>\n",
       "      <td>1.000000</td>\n",
       "      <td>1.0</td>\n",
       "      <td>4.0</td>\n",
       "      <td>0.0</td>\n",
       "      <td>20.0</td>\n",
       "      <td>0</td>\n",
       "    </tr>\n",
       "    <tr>\n",
       "      <th>...</th>\n",
       "      <td>...</td>\n",
       "      <td>...</td>\n",
       "      <td>...</td>\n",
       "      <td>...</td>\n",
       "      <td>...</td>\n",
       "      <td>...</td>\n",
       "      <td>...</td>\n",
       "      <td>...</td>\n",
       "      <td>...</td>\n",
       "      <td>...</td>\n",
       "      <td>...</td>\n",
       "      <td>...</td>\n",
       "      <td>...</td>\n",
       "      <td>...</td>\n",
       "      <td>...</td>\n",
       "      <td>...</td>\n",
       "      <td>...</td>\n",
       "      <td>...</td>\n",
       "    </tr>\n",
       "    <tr>\n",
       "      <th>3214869</th>\n",
       "      <td>2558525</td>\n",
       "      <td>0</td>\n",
       "      <td>206209</td>\n",
       "      <td>prior</td>\n",
       "      <td>9</td>\n",
       "      <td>4</td>\n",
       "      <td>15</td>\n",
       "      <td>22.0</td>\n",
       "      <td>3</td>\n",
       "      <td>3</td>\n",
       "      <td>1.0</td>\n",
       "      <td>0.0</td>\n",
       "      <td>0.000000</td>\n",
       "      <td>0.4</td>\n",
       "      <td>3.0</td>\n",
       "      <td>1.0</td>\n",
       "      <td>18.0</td>\n",
       "      <td>0</td>\n",
       "    </tr>\n",
       "    <tr>\n",
       "      <th>3214870</th>\n",
       "      <td>2266710</td>\n",
       "      <td>0</td>\n",
       "      <td>206209</td>\n",
       "      <td>prior</td>\n",
       "      <td>10</td>\n",
       "      <td>5</td>\n",
       "      <td>18</td>\n",
       "      <td>29.0</td>\n",
       "      <td>9</td>\n",
       "      <td>3</td>\n",
       "      <td>0.3</td>\n",
       "      <td>0.0</td>\n",
       "      <td>0.000000</td>\n",
       "      <td>0.4</td>\n",
       "      <td>4.0</td>\n",
       "      <td>1.0</td>\n",
       "      <td>18.0</td>\n",
       "      <td>0</td>\n",
       "    </tr>\n",
       "    <tr>\n",
       "      <th>3214871</th>\n",
       "      <td>1854736</td>\n",
       "      <td>0</td>\n",
       "      <td>206209</td>\n",
       "      <td>prior</td>\n",
       "      <td>11</td>\n",
       "      <td>4</td>\n",
       "      <td>10</td>\n",
       "      <td>30.0</td>\n",
       "      <td>8</td>\n",
       "      <td>6</td>\n",
       "      <td>0.8</td>\n",
       "      <td>0.0</td>\n",
       "      <td>0.000000</td>\n",
       "      <td>0.4</td>\n",
       "      <td>4.0</td>\n",
       "      <td>2.0</td>\n",
       "      <td>18.0</td>\n",
       "      <td>0</td>\n",
       "    </tr>\n",
       "    <tr>\n",
       "      <th>3214872</th>\n",
       "      <td>626363</td>\n",
       "      <td>1</td>\n",
       "      <td>206209</td>\n",
       "      <td>prior</td>\n",
       "      <td>12</td>\n",
       "      <td>1</td>\n",
       "      <td>12</td>\n",
       "      <td>18.0</td>\n",
       "      <td>20</td>\n",
       "      <td>14</td>\n",
       "      <td>0.7</td>\n",
       "      <td>0.0</td>\n",
       "      <td>0.000000</td>\n",
       "      <td>0.4</td>\n",
       "      <td>2.0</td>\n",
       "      <td>4.0</td>\n",
       "      <td>18.0</td>\n",
       "      <td>1</td>\n",
       "    </tr>\n",
       "    <tr>\n",
       "      <th>3214873</th>\n",
       "      <td>2977660</td>\n",
       "      <td>1</td>\n",
       "      <td>206209</td>\n",
       "      <td>prior</td>\n",
       "      <td>13</td>\n",
       "      <td>1</td>\n",
       "      <td>12</td>\n",
       "      <td>7.0</td>\n",
       "      <td>9</td>\n",
       "      <td>4</td>\n",
       "      <td>0.4</td>\n",
       "      <td>1.0</td>\n",
       "      <td>0.333333</td>\n",
       "      <td>0.4</td>\n",
       "      <td>1.0</td>\n",
       "      <td>0.0</td>\n",
       "      <td>18.0</td>\n",
       "      <td>1</td>\n",
       "    </tr>\n",
       "  </tbody>\n",
       "</table>\n",
       "<p>3214874 rows × 18 columns</p>\n",
       "</div>"
      ],
      "text/plain": [
       "         order_id  tip  user_id eval_set  order_number  order_dow  \\\n",
       "0         2539329    1        1    prior             1          2   \n",
       "1         2398795    1        1    prior             2          3   \n",
       "2          473747    1        1    prior             3          3   \n",
       "3         2254736    1        1    prior             4          4   \n",
       "4          431534    1        1    prior             5          4   \n",
       "...           ...  ...      ...      ...           ...        ...   \n",
       "3214869   2558525    0   206209    prior             9          4   \n",
       "3214870   2266710    0   206209    prior            10          5   \n",
       "3214871   1854736    0   206209    prior            11          4   \n",
       "3214872    626363    1   206209    prior            12          1   \n",
       "3214873   2977660    1   206209    prior            13          1   \n",
       "\n",
       "         order_hour_of_day  days_since_prior_order  amount_ordered_products  \\\n",
       "0                        8                     NaN                        5   \n",
       "1                        7                    15.0                        6   \n",
       "2                       12                    21.0                        5   \n",
       "3                        7                    29.0                        5   \n",
       "4                       15                    28.0                        8   \n",
       "...                    ...                     ...                      ...   \n",
       "3214869                 15                    22.0                        3   \n",
       "3214870                 18                    29.0                        9   \n",
       "3214871                 10                    30.0                        8   \n",
       "3214872                 12                    18.0                       20   \n",
       "3214873                 12                     7.0                        9   \n",
       "\n",
       "         amount_reordered_products  factor_reordered_products  \\\n",
       "0                                0                        0.0   \n",
       "1                                3                        0.5   \n",
       "2                                3                        0.6   \n",
       "3                                5                        1.0   \n",
       "4                                5                        0.6   \n",
       "...                            ...                        ...   \n",
       "3214869                          3                        1.0   \n",
       "3214870                          3                        0.3   \n",
       "3214871                          6                        0.8   \n",
       "3214872                         14                        0.7   \n",
       "3214873                          4                        0.4   \n",
       "\n",
       "         previous_order_tip  3_previous_tip_user  mean_tip_user  \\\n",
       "0                       0.0             0.000000            1.0   \n",
       "1                       1.0             0.333333            1.0   \n",
       "2                       1.0             0.666667            1.0   \n",
       "3                       1.0             1.000000            1.0   \n",
       "4                       1.0             1.000000            1.0   \n",
       "...                     ...                  ...            ...   \n",
       "3214869                 0.0             0.000000            0.4   \n",
       "3214870                 0.0             0.000000            0.4   \n",
       "3214871                 0.0             0.000000            0.4   \n",
       "3214872                 0.0             0.000000            0.4   \n",
       "3214873                 1.0             0.333333            0.4   \n",
       "\n",
       "         weeks_since_prior_order  day_since_prior_order  \\\n",
       "0                            NaN                    NaN   \n",
       "1                            2.0                    1.0   \n",
       "2                            3.0                    0.0   \n",
       "3                            4.0                    1.0   \n",
       "4                            4.0                    0.0   \n",
       "...                          ...                    ...   \n",
       "3214869                      3.0                    1.0   \n",
       "3214870                      4.0                    1.0   \n",
       "3214871                      4.0                    2.0   \n",
       "3214872                      2.0                    4.0   \n",
       "3214873                      1.0                    0.0   \n",
       "\n",
       "         mean_days_since_prior_oder_by_user  order_dow_discretized  \n",
       "0                                      20.0                      0  \n",
       "1                                      20.0                      0  \n",
       "2                                      20.0                      0  \n",
       "3                                      20.0                      0  \n",
       "4                                      20.0                      0  \n",
       "...                                     ...                    ...  \n",
       "3214869                                18.0                      0  \n",
       "3214870                                18.0                      0  \n",
       "3214871                                18.0                      0  \n",
       "3214872                                18.0                      1  \n",
       "3214873                                18.0                      1  \n",
       "\n",
       "[3214874 rows x 18 columns]"
      ]
     },
     "execution_count": 128,
     "metadata": {},
     "output_type": "execute_result"
    }
   ],
   "source": [
    "instacart_train"
   ]
  },
  {
   "cell_type": "markdown",
   "metadata": {},
   "source": [
    "## Feature Selection\n",
    "- Delete eval_set, da es keinen logischen Zusammenhang gibt.\n",
    "- Delete order_id, da es eine unique ID ist (führt zu Overfitting)\n",
    "- Delete user_id, da es eine unique ID ist (führt zu Overfitting)"
   ]
  },
  {
   "cell_type": "code",
   "execution_count": 129,
   "metadata": {},
   "outputs": [
    {
     "data": {
      "text/plain": [
       "order_id                                   0\n",
       "tip                                        0\n",
       "user_id                                    0\n",
       "eval_set                                   0\n",
       "order_number                               0\n",
       "order_dow                                  0\n",
       "order_hour_of_day                          0\n",
       "days_since_prior_order                206209\n",
       "amount_ordered_products                    0\n",
       "amount_reordered_products                  0\n",
       "factor_reordered_products                  0\n",
       "previous_order_tip                         0\n",
       "3_previous_tip_user                        0\n",
       "mean_tip_user                              0\n",
       "weeks_since_prior_order               206209\n",
       "day_since_prior_order                 206209\n",
       "mean_days_since_prior_oder_by_user         0\n",
       "order_dow_discretized                      0\n",
       "dtype: int64"
      ]
     },
     "execution_count": 129,
     "metadata": {},
     "output_type": "execute_result"
    }
   ],
   "source": [
    "instacart_train.isnull().sum()"
   ]
  },
  {
   "cell_type": "code",
   "execution_count": 130,
   "metadata": {},
   "outputs": [],
   "source": [
    "instacart_train = instacart_train.dropna()"
   ]
  },
  {
   "cell_type": "code",
   "execution_count": 131,
   "metadata": {},
   "outputs": [],
   "source": [
    "instacart_train = instacart_train.drop(columns=['eval_set', 'order_id', 'user_id'])"
   ]
  },
  {
   "cell_type": "markdown",
   "metadata": {},
   "source": [
    "# Modeling"
   ]
  },
  {
   "cell_type": "markdown",
   "metadata": {},
   "source": [
    "- ToDo: Train-Test-Split (80/20)\n",
    "- ToDo: Train baseline models by CV-Cross-Validation"
   ]
  },
  {
   "cell_type": "code",
   "execution_count": 132,
   "metadata": {},
   "outputs": [],
   "source": [
    "instacart_train = instacart_train.sample(1000000)\n",
    "\n",
    "X = instacart_train.drop(columns=['tip'])\n",
    "y = instacart_train['tip']\n",
    "X_train, X_test, y_train, y_test = train_test_split(X, y, test_size=0.2, random_state=0)"
   ]
  },
  {
   "cell_type": "code",
   "execution_count": 133,
   "metadata": {},
   "outputs": [],
   "source": [
    "# from sklearn.preprocessing import MinMaxScaler\n",
    "# scaler = MinMaxScaler()\n",
    "# X_train = scaler.fit_transform(X_train)\n"
   ]
  },
  {
   "cell_type": "code",
   "execution_count": 134,
   "metadata": {},
   "outputs": [
    {
     "name": "stdout",
     "output_type": "stream",
     "text": [
      "[0.57289375 0.5729     0.5729     0.5729     0.5729    ]\n",
      "0.57 accuracy with a standard deviation of 0.00\n"
     ]
    }
   ],
   "source": [
    "clf = DummyClassifier(strategy=\"most_frequent\")\n",
    "dummy_base_scores = cross_val_score(clf, X_train, y_train, cv=5)\n",
    "print(dummy_base_scores)\n",
    "print(\"%0.2f accuracy with a standard deviation of %0.2f\" % (dummy_base_scores.mean(), dummy_base_scores.std()))"
   ]
  },
  {
   "cell_type": "code",
   "execution_count": 135,
   "metadata": {},
   "outputs": [
    {
     "name": "stdout",
     "output_type": "stream",
     "text": [
      "[0.63465625 0.63443125 0.634875   0.632875   0.63628125]\n",
      "0.63 accuracy with a standard deviation of 0.00\n"
     ]
    }
   ],
   "source": [
    "clf = KNeighborsClassifier()\n",
    "knn_base_scores = cross_val_score(clf, X_train, y_train, cv=5)\n",
    "print(knn_base_scores)\n",
    "print(\"%0.2f accuracy with a standard deviation of %0.2f\" % (knn_base_scores.mean(), knn_base_scores.std()))"
   ]
  },
  {
   "cell_type": "code",
   "execution_count": 136,
   "metadata": {},
   "outputs": [
    {
     "name": "stdout",
     "output_type": "stream",
     "text": [
      "[0.6978    0.6967    0.6971    0.698025  0.6969125]\n",
      "0.70 accuracy with a standard deviation of 0.00\n"
     ]
    }
   ],
   "source": [
    "clf = DecisionTreeClassifier()\n",
    "dt_base_scores = cross_val_score(clf, X_train, y_train, cv=5)\n",
    "print(dt_base_scores)\n",
    "print(\"%0.2f accuracy with a standard deviation of %0.2f\" % (dt_base_scores.mean(), dt_base_scores.std()))"
   ]
  },
  {
   "cell_type": "code",
   "execution_count": 137,
   "metadata": {},
   "outputs": [
    {
     "name": "stdout",
     "output_type": "stream",
     "text": [
      "[0.7409375  0.73949375 0.739075   0.73885    0.74023125]\n",
      "0.74 accuracy with a standard deviation of 0.00\n"
     ]
    }
   ],
   "source": [
    "clf = RandomForestClassifier(n_estimators=5)\n",
    "rf_base_scores = cross_val_score(clf, X_train, y_train, cv=5)\n",
    "print(rf_base_scores)\n",
    "print(\"%0.2f accuracy with a standard deviation of %0.2f\" % (rf_base_scores.mean(), rf_base_scores.std()))"
   ]
  },
  {
   "cell_type": "code",
   "execution_count": 138,
   "metadata": {},
   "outputs": [
    {
     "name": "stdout",
     "output_type": "stream",
     "text": [
      "[0.77969375 0.77620625 0.77754375 0.7782     0.77804375]\n",
      "0.78 accuracy with a standard deviation of 0.00\n"
     ]
    }
   ],
   "source": [
    "clf = xgb.XGBClassifier()\n",
    "xgb_base_scores = cross_val_score(clf, X_train, y_train, cv=5)\n",
    "print(xgb_base_scores)\n",
    "print(\"%0.2f accuracy with a standard deviation of %0.2f\" % (xgb_base_scores.mean(), xgb_base_scores.std()))"
   ]
  },
  {
   "cell_type": "code",
   "execution_count": 139,
   "metadata": {},
   "outputs": [
    {
     "name": "stdout",
     "output_type": "stream",
     "text": [
      "[0.75326875 0.70451875 0.6539125  0.70451875 0.741925  ]\n",
      "0.71 accuracy with a standard deviation of 0.03\n"
     ]
    }
   ],
   "source": [
    "clf = Perceptron()\n",
    "perceptron_base_scores = cross_val_score(clf, X_train, y_train, cv=5)\n",
    "print(perceptron_base_scores)\n",
    "print(\"%0.2f accuracy with a standard deviation of %0.2f\" % (perceptron_base_scores.mean(), perceptron_base_scores.std()))"
   ]
  },
  {
   "cell_type": "code",
   "execution_count": 140,
   "metadata": {},
   "outputs": [
    {
     "name": "stderr",
     "output_type": "stream",
     "text": [
      "c:\\Users\\jdhau\\anaconda3\\lib\\site-packages\\sklearn\\neural_network\\_multilayer_perceptron.py:702: ConvergenceWarning: Stochastic Optimizer: Maximum iterations (20) reached and the optimization hasn't converged yet.\n",
      "  warnings.warn(\n",
      "c:\\Users\\jdhau\\anaconda3\\lib\\site-packages\\sklearn\\neural_network\\_multilayer_perceptron.py:702: ConvergenceWarning: Stochastic Optimizer: Maximum iterations (20) reached and the optimization hasn't converged yet.\n",
      "  warnings.warn(\n",
      "c:\\Users\\jdhau\\anaconda3\\lib\\site-packages\\sklearn\\neural_network\\_multilayer_perceptron.py:702: ConvergenceWarning: Stochastic Optimizer: Maximum iterations (20) reached and the optimization hasn't converged yet.\n",
      "  warnings.warn(\n",
      "c:\\Users\\jdhau\\anaconda3\\lib\\site-packages\\sklearn\\neural_network\\_multilayer_perceptron.py:702: ConvergenceWarning: Stochastic Optimizer: Maximum iterations (20) reached and the optimization hasn't converged yet.\n",
      "  warnings.warn(\n",
      "c:\\Users\\jdhau\\anaconda3\\lib\\site-packages\\sklearn\\neural_network\\_multilayer_perceptron.py:702: ConvergenceWarning: Stochastic Optimizer: Maximum iterations (20) reached and the optimization hasn't converged yet.\n",
      "  warnings.warn(\n"
     ]
    },
    {
     "name": "stdout",
     "output_type": "stream",
     "text": [
      "[0.77724375 0.77489375 0.775475   0.77614375 0.77740625]\n",
      "0.78 accuracy with a standard deviation of 0.00\n"
     ]
    }
   ],
   "source": [
    "clf = MLPClassifier(random_state=1, max_iter=20)\n",
    "mlp_base_scores = cross_val_score(clf, X_train, y_train, cv=5)\n",
    "print(mlp_base_scores)\n",
    "print(\"%0.2f accuracy with a standard deviation of %0.2f\" % (mlp_base_scores.mean(), mlp_base_scores.std()))"
   ]
  },
  {
   "cell_type": "code",
   "execution_count": 141,
   "metadata": {},
   "outputs": [
    {
     "data": {
      "image/png": "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",
      "text/plain": [
       "<Figure size 1080x504 with 1 Axes>"
      ]
     },
     "metadata": {
      "needs_background": "light"
     },
     "output_type": "display_data"
    }
   ],
   "source": [
    "baseline_model = [dummy_base_scores, knn_base_scores, dt_base_scores, rf_base_scores, xgb_base_scores, perceptron_base_scores, mlp_base_scores]\n",
    "\n",
    "fig = plt.figure(figsize =(15, 7))\n",
    " \n",
    "# Creating axes instance\n",
    "ax = fig.add_axes([0, 0, 1, 1])\n",
    "ax.set_title(label = 'Accuracy der Base-Models', fontsize = 20)\n",
    " \n",
    "# Creating plot\n",
    "bp = ax.boxplot(baseline_model)\n",
    "\n",
    "# rename ticks \n",
    "plt.xticks([1, 2, 3, 4, 5, 6, 7], ['Dummy Classifier', 'KNN Classifier', 'Decision Tree', 'Random Forest', 'XGBoost', 'Perceptron', 'MLP Classifier'])\n",
    "# show plot\n",
    "plt.show()"
   ]
  },
  {
   "cell_type": "markdown",
   "metadata": {},
   "source": [
    "# Evaluation"
   ]
  },
  {
   "cell_type": "code",
   "execution_count": null,
   "metadata": {},
   "outputs": [],
   "source": []
  },
  {
   "cell_type": "markdown",
   "metadata": {},
   "source": [
    "- ToDo: Evaluation by Accuracy\n",
    "- ToDo: Research Additional Metrics"
   ]
  },
  {
   "cell_type": "markdown",
   "metadata": {},
   "source": [
    "## Feature Importance"
   ]
  },
  {
   "cell_type": "markdown",
   "metadata": {},
   "source": [
    "### Feature importance based on Mean Decrease in Impurity\n",
    "\n",
    "Impurits Decrease importances sind bekannt dafür, dass Sie Features mit hoher Kardinalität bevorzugen. Daher wird neber dem Mean Decrease auch die Permutation Importance betrachtet."
   ]
  },
  {
   "cell_type": "code",
   "execution_count": 142,
   "metadata": {},
   "outputs": [
    {
     "data": {
      "image/png": "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",
      "text/plain": [
       "<Figure size 432x288 with 1 Axes>"
      ]
     },
     "metadata": {
      "needs_background": "light"
     },
     "output_type": "display_data"
    }
   ],
   "source": [
    "clf = RandomForestClassifier(n_estimators=5)\n",
    "clf.fit(X_train, y_train)\n",
    "\n",
    "mdi_importances = pd.Series(\n",
    "    clf[-1].feature_importances_, index=X.columns\n",
    ").sort_values(ascending=True)\n",
    "\n",
    "ax = mdi_importances.plot.barh()\n",
    "ax.set_title(\"Random Forest Feature Importances\")\n",
    "ax.figure.tight_layout()"
   ]
  },
  {
   "cell_type": "markdown",
   "metadata": {},
   "source": [
    "### Feature importance based on Permutation importance"
   ]
  },
  {
   "cell_type": "code",
   "execution_count": 143,
   "metadata": {},
   "outputs": [
    {
     "data": {
      "image/png": "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",
      "text/plain": [
       "<Figure size 432x288 with 1 Axes>"
      ]
     },
     "metadata": {
      "needs_background": "light"
     },
     "output_type": "display_data"
    }
   ],
   "source": [
    "from sklearn.inspection import permutation_importance\n",
    "\n",
    "clf = RandomForestClassifier(n_estimators=5)\n",
    "clf.fit(X_train, y_train)\n",
    "\n",
    "permutation_importances = permutation_importance(clf, X_train, y_train, n_repeats=5, random_state=0)\n",
    "\n",
    "sorted_importances_idx = permutation_importances.importances_mean.argsort()\n",
    "importances = pd.DataFrame(\n",
    "    permutation_importances.importances[sorted_importances_idx].T,\n",
    "    columns=X.columns[sorted_importances_idx],\n",
    ")\n",
    "ax = importances.plot.box(vert=False, whis=10)\n",
    "ax.set_title(\"Permutation Importances (train set)\")\n",
    "ax.axvline(x=0, color=\"k\", linestyle=\"--\")\n",
    "ax.set_xlabel(\"Decrease in accuracy score\")\n",
    "ax.figure.tight_layout()"
   ]
  },
  {
   "cell_type": "markdown",
   "metadata": {},
   "source": [
    "# Hyperparameter"
   ]
  },
  {
   "cell_type": "code",
   "execution_count": null,
   "metadata": {},
   "outputs": [],
   "source": []
  }
 ],
 "metadata": {
  "interpreter": {
   "hash": "313a5ea5dc794ade59a20c8b7e04099e75eca70b819bb33eac2ea6fe9e20eeef"
  },
  "kernelspec": {
   "display_name": "Python 3.9.7 ('base')",
   "language": "python",
   "name": "python3"
  },
  "language_info": {
   "codemirror_mode": {
    "name": "ipython",
    "version": 3
   },
   "file_extension": ".py",
   "mimetype": "text/x-python",
   "name": "python",
   "nbconvert_exporter": "python",
   "pygments_lexer": "ipython3",
   "version": "3.9.7"
  },
  "orig_nbformat": 4
 },
 "nbformat": 4,
 "nbformat_minor": 2
}
